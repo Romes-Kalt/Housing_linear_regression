{
 "cells": [
  {
   "cell_type": "markdown",
   "id": "00015de1",
   "metadata": {},
   "source": [
    "<a id=\"top\"></a>\n",
    "# Top\n"
   ]
  },
  {
   "cell_type": "code",
   "execution_count": 1,
   "id": "a5d04e36",
   "metadata": {},
   "outputs": [],
   "source": [
    "import numpy as np\n",
    "import math\n",
    "import pandas as pd\n",
    "import matplotlib.pyplot as plt\n",
    "%matplotlib inline\n",
    "import seaborn as sns\n",
    "from sklearn.preprocessing import StandardScaler\n",
    "from sklearn.preprocessing import minmax_scale\n",
    "from sklearn.preprocessing import OneHotEncoder\n",
    "from sklearn.linear_model import LinearRegression\n",
    "from sklearn.model_selection import train_test_split\n",
    "from sklearn.preprocessing import PowerTransformer\n",
    "from sklearn.preprocessing import QuantileTransformer\n",
    "from sklearn.linear_model import LinearRegression\n",
    "\n",
    "import statsmodels.api as sm\n",
    "from scipy.stats import boxcox\n",
    "from sklearn.model_selection import train_test_split\n",
    "from sklearn.metrics import r2_score\n",
    "from sklearn.metrics import mean_squared_error as mse\n",
    "from sklearn.metrics import mean_absolute_error as mae\n",
    "pd.options.display.max_rows = 50\n"
   ]
  },
  {
   "cell_type": "code",
   "execution_count": 2,
   "id": "1c00d973",
   "metadata": {},
   "outputs": [],
   "source": [
    "\n",
    "from shapely.geometry import Point\n",
    "import geopandas as gpd\n",
    "from geopandas import GeoDataFrame"
   ]
  },
  {
   "cell_type": "markdown",
   "id": "55193f45",
   "metadata": {},
   "source": [
    "<a id=\"functions\"></a>\n",
    "## 1 Functions"
   ]
  },
  {
   "cell_type": "code",
   "execution_count": 3,
   "id": "db4b9e10",
   "metadata": {},
   "outputs": [],
   "source": [
    "def split_column_names_by(this_df, include_dtypes:[list]=[\"int\",\"float\"]):\n",
    "    # __author__ = \"Roman Kaltschew\"\n",
    "    \"\"\"takes in this_df, splits this_df's columns into two lists of column name by dtype of columns (default [\"int\",\"float\"]) \n",
    "       and returns tuple (incl_lst, excl_lst)\"\"\"\n",
    "    incl_lst = [_ for _ in this_df.select_dtypes(include=include_dtypes).dtypes.index]\n",
    "    excl_lst = [_ for _ in this_df.select_dtypes(exclude=include_dtypes).dtypes.index]\n",
    "    return (incl_lst, excl_lst)"
   ]
  },
  {
   "cell_type": "code",
   "execution_count": 4,
   "id": "40a646c7",
   "metadata": {},
   "outputs": [],
   "source": [
    "def plot_hist_normalized(this_column, this_scaler: [str] = \"standard_scaler\"):\n",
    "    if this_scaler == \"power_transformator\":\n",
    "        pt = PowerTransformer()\n",
    "        col_transformed_pt=pt.fit_transform(this_column.to_numpy().reshape(-1,1))\n",
    "        sns.displot(col_transformed_pt).set(title=f\"{this_column.name} - PowerTransformer\") \n",
    "    elif this_scaler == \"quantile_transformer\":\n",
    "        qt = QuantileTransformer(n_quantiles=500, output_distribution=\"normal\")\n",
    "        col_transformed_qt=qt.fit_transform(this_column.to_numpy().reshape(-1,1))\n",
    "        sns.displot(col_transformed_qt).set(title=f\"{this_column.name} - QuantileTransformer\")\n",
    "    else:\n",
    "        sc = StandardScaler()\n",
    "        col_transformed_sc=sc.fit_transform(this_column.to_numpy().reshape(-1,1))\n",
    "        sns.displot(col_transformed_sc).set(title=f\"{this_column.name} - StandardScaler\")"
   ]
  },
  {
   "cell_type": "code",
   "execution_count": 5,
   "id": "3555dc50",
   "metadata": {},
   "outputs": [],
   "source": [
    "def boxplots_for_all_numerical_cols(this_df):\n",
    "    fig, ax = plt.subplots(figsize=(10,10))\n",
    "    len_num_lst = len(split_column_names_by(this_df)[0])\n",
    "    i = 1\n",
    "    for col in split_column_names_by(this_df)[0]:            \n",
    "        plt.subplot(math.ceil(len_num_lst**.5),math.ceil(len_num_lst**.5),i)\n",
    "        sns.boxplot(y=this_df[col]).set(title=f\"{col}\")\n",
    "        i += 1"
   ]
  },
  {
   "cell_type": "code",
   "execution_count": 6,
   "id": "1452dd55",
   "metadata": {},
   "outputs": [],
   "source": [
    "def split_df_by(this_df, include_dtypes:[list]=[\"int\",\"float\"]):\n",
    "    \"\"\"takes in this_df, splits it into two NEW DF's by dtype of columns (default [\"int\",\"float\"]) \n",
    "       and returns tuple (incl_df, excl_df)\"\"\"\n",
    "    incl_lst = [_ for _ in this_df.select_dtypes(include=include_dtypes).dtypes.index]\n",
    "    excl_lst = [_ for _ in this_df.select_dtypes(exclude=include_dtypes).dtypes.index]\n",
    "    return (this_df[incl_lst], this_df[excl_lst])"
   ]
  },
  {
   "cell_type": "code",
   "execution_count": 7,
   "id": "a3c64454",
   "metadata": {},
   "outputs": [],
   "source": [
    "def all_numeric_to_int(this_df):\n",
    "    for col in this_df._get_numeric_data():\n",
    "        this_df[col] = this_df[col].astype(np.int64)\n",
    "    return this_df"
   ]
  },
  {
   "cell_type": "code",
   "execution_count": 8,
   "id": "d2969771",
   "metadata": {},
   "outputs": [],
   "source": [
    "def all_strings_lowercase(this_df):\n",
    "    for col in this_df:\n",
    "        this_df[col] = this_df[col].map(lambda x: x.lower() if isinstance(x,str) else x)\n",
    "    return this_df"
   ]
  },
  {
   "cell_type": "code",
   "execution_count": 9,
   "id": "f4ec575f",
   "metadata": {},
   "outputs": [],
   "source": [
    "def nan_values_of_all_columns(this_df, return_dict:[bool] = False):\n",
    "    \"\"\"prints (defaults) or returns dictionary of all columns in this_df and their respective nan-values\"\"\"\n",
    "    if not return_dict:\n",
    "        for col in this_df.columns:\n",
    "            print(col, this_df[col].isna().sum())\n",
    "        return\n",
    "    return {col:this_df[col].isna().sum() for col in this_df.columns}"
   ]
  },
  {
   "cell_type": "code",
   "execution_count": 10,
   "id": "ee5d03e4",
   "metadata": {},
   "outputs": [],
   "source": [
    "def extract_year_month(this_date:[str]=None):\n",
    "    # __author__ = \"Roman Kaltschew\"\n",
    "    \"\"\"takes this_date in format MM/DD/YYYY and returns YYYY_MM\"\"\"\n",
    "    if this_date:\n",
    "        return this_date.split(\"/\")[2]+\"_\"+this_date.split(\"/\")[0]\n",
    "    return None"
   ]
  },
  {
   "cell_type": "code",
   "execution_count": 11,
   "id": "289ff55a",
   "metadata": {},
   "outputs": [],
   "source": [
    "def extract_month(this_date:[str]=None, as_type:[str]=None):\n",
    "    # __author__ = \"Roman Kaltschew\"\n",
    "    \"\"\"takes this_date in format MM/DD/YYYY and returns MM as_type (default str)\"\"\"\n",
    "    if this_date:\n",
    "        if as_type == \"int\":\n",
    "            return int(this_date.split(\"/\")[0])\n",
    "        else:\n",
    "            return str(this_date.split(\"/\")[0])\n",
    "    return None"
   ]
  },
  {
   "cell_type": "code",
   "execution_count": 12,
   "id": "5e389d9a",
   "metadata": {},
   "outputs": [],
   "source": [
    "def plot_long_lat():\n",
    "    geometry = [Point(xy) for xy in zip(data['long'], data['lat'])]\n",
    "    gdf = GeoDataFrame(df, geometry=geometry)   \n",
    "\n",
    "    #this is a simple map that goes with geopandas\n",
    "    world = gpd.read_file(gpd.datasets.get_path('naturalearth_lowres'))\n",
    "    gdf.plot(ax=world.plot(figsize=(10, 6)), marker='o', color='red', markersize=15)\n",
    "    \n",
    "    fig = px.scatter_geo(data,lat='lat',lon='long') #, hover_name=\"id\")\n",
    "    fig.update_layout(title = 'World map', title_x=0.5)\n",
    "    fig.show()"
   ]
  },
  {
   "cell_type": "code",
   "execution_count": null,
   "id": "ea1d7c5c",
   "metadata": {},
   "outputs": [],
   "source": []
  },
  {
   "cell_type": "code",
   "execution_count": null,
   "id": "1acaba69",
   "metadata": {},
   "outputs": [],
   "source": []
  },
  {
   "cell_type": "markdown",
   "id": "bf5db63e",
   "metadata": {},
   "source": [
    "[top of notebook](#top)"
   ]
  },
  {
   "cell_type": "markdown",
   "id": "64a15385",
   "metadata": {},
   "source": [
    "<a id='read_clean'></a>\n",
    "\n",
    "## 2 Read and Clean"
   ]
  },
  {
   "cell_type": "code",
   "execution_count": 49,
   "id": "75c5afc0",
   "metadata": {},
   "outputs": [
    {
     "data": {
      "text/html": [
       "<div>\n",
       "<style scoped>\n",
       "    .dataframe tbody tr th:only-of-type {\n",
       "        vertical-align: middle;\n",
       "    }\n",
       "\n",
       "    .dataframe tbody tr th {\n",
       "        vertical-align: top;\n",
       "    }\n",
       "\n",
       "    .dataframe thead th {\n",
       "        text-align: right;\n",
       "    }\n",
       "</style>\n",
       "<table border=\"1\" class=\"dataframe\">\n",
       "  <thead>\n",
       "    <tr style=\"text-align: right;\">\n",
       "      <th></th>\n",
       "      <th>id</th>\n",
       "      <th>date</th>\n",
       "      <th>bedrooms</th>\n",
       "      <th>bathrooms</th>\n",
       "      <th>sqft_living</th>\n",
       "      <th>sqft_lot</th>\n",
       "      <th>floors</th>\n",
       "      <th>waterfront</th>\n",
       "      <th>view</th>\n",
       "      <th>condition</th>\n",
       "      <th>...</th>\n",
       "      <th>sqft_above</th>\n",
       "      <th>sqft_basement</th>\n",
       "      <th>yr_built</th>\n",
       "      <th>yr_renovated</th>\n",
       "      <th>zipcode</th>\n",
       "      <th>lat</th>\n",
       "      <th>long</th>\n",
       "      <th>sqft_living15</th>\n",
       "      <th>sqft_lot15</th>\n",
       "      <th>price</th>\n",
       "    </tr>\n",
       "  </thead>\n",
       "  <tbody>\n",
       "    <tr>\n",
       "      <th>0</th>\n",
       "      <td>7129300520</td>\n",
       "      <td>10/13/2014</td>\n",
       "      <td>3</td>\n",
       "      <td>1.00</td>\n",
       "      <td>1180</td>\n",
       "      <td>5650</td>\n",
       "      <td>1.0</td>\n",
       "      <td>0</td>\n",
       "      <td>0</td>\n",
       "      <td>3</td>\n",
       "      <td>...</td>\n",
       "      <td>1180</td>\n",
       "      <td>0</td>\n",
       "      <td>1955</td>\n",
       "      <td>0</td>\n",
       "      <td>98178</td>\n",
       "      <td>47.5112</td>\n",
       "      <td>-122.257</td>\n",
       "      <td>1340</td>\n",
       "      <td>5650</td>\n",
       "      <td>221900</td>\n",
       "    </tr>\n",
       "    <tr>\n",
       "      <th>1</th>\n",
       "      <td>6414100192</td>\n",
       "      <td>12/9/2014</td>\n",
       "      <td>3</td>\n",
       "      <td>2.25</td>\n",
       "      <td>2570</td>\n",
       "      <td>7242</td>\n",
       "      <td>2.0</td>\n",
       "      <td>0</td>\n",
       "      <td>0</td>\n",
       "      <td>3</td>\n",
       "      <td>...</td>\n",
       "      <td>2170</td>\n",
       "      <td>400</td>\n",
       "      <td>1951</td>\n",
       "      <td>1991</td>\n",
       "      <td>98125</td>\n",
       "      <td>47.7210</td>\n",
       "      <td>-122.319</td>\n",
       "      <td>1690</td>\n",
       "      <td>7639</td>\n",
       "      <td>538000</td>\n",
       "    </tr>\n",
       "    <tr>\n",
       "      <th>2</th>\n",
       "      <td>5631500400</td>\n",
       "      <td>2/25/2015</td>\n",
       "      <td>2</td>\n",
       "      <td>1.00</td>\n",
       "      <td>770</td>\n",
       "      <td>10000</td>\n",
       "      <td>1.0</td>\n",
       "      <td>0</td>\n",
       "      <td>0</td>\n",
       "      <td>3</td>\n",
       "      <td>...</td>\n",
       "      <td>770</td>\n",
       "      <td>0</td>\n",
       "      <td>1933</td>\n",
       "      <td>0</td>\n",
       "      <td>98028</td>\n",
       "      <td>47.7379</td>\n",
       "      <td>-122.233</td>\n",
       "      <td>2720</td>\n",
       "      <td>8062</td>\n",
       "      <td>180000</td>\n",
       "    </tr>\n",
       "    <tr>\n",
       "      <th>3</th>\n",
       "      <td>2487200875</td>\n",
       "      <td>12/9/2014</td>\n",
       "      <td>4</td>\n",
       "      <td>3.00</td>\n",
       "      <td>1960</td>\n",
       "      <td>5000</td>\n",
       "      <td>1.0</td>\n",
       "      <td>0</td>\n",
       "      <td>0</td>\n",
       "      <td>5</td>\n",
       "      <td>...</td>\n",
       "      <td>1050</td>\n",
       "      <td>910</td>\n",
       "      <td>1965</td>\n",
       "      <td>0</td>\n",
       "      <td>98136</td>\n",
       "      <td>47.5208</td>\n",
       "      <td>-122.393</td>\n",
       "      <td>1360</td>\n",
       "      <td>5000</td>\n",
       "      <td>604000</td>\n",
       "    </tr>\n",
       "    <tr>\n",
       "      <th>4</th>\n",
       "      <td>1954400510</td>\n",
       "      <td>2/18/2015</td>\n",
       "      <td>3</td>\n",
       "      <td>2.00</td>\n",
       "      <td>1680</td>\n",
       "      <td>8080</td>\n",
       "      <td>1.0</td>\n",
       "      <td>0</td>\n",
       "      <td>0</td>\n",
       "      <td>3</td>\n",
       "      <td>...</td>\n",
       "      <td>1680</td>\n",
       "      <td>0</td>\n",
       "      <td>1987</td>\n",
       "      <td>0</td>\n",
       "      <td>98074</td>\n",
       "      <td>47.6168</td>\n",
       "      <td>-122.045</td>\n",
       "      <td>1800</td>\n",
       "      <td>7503</td>\n",
       "      <td>510000</td>\n",
       "    </tr>\n",
       "  </tbody>\n",
       "</table>\n",
       "<p>5 rows × 21 columns</p>\n",
       "</div>"
      ],
      "text/plain": [
       "           id        date  bedrooms  bathrooms  sqft_living  sqft_lot  floors  \\\n",
       "0  7129300520  10/13/2014         3       1.00         1180      5650     1.0   \n",
       "1  6414100192   12/9/2014         3       2.25         2570      7242     2.0   \n",
       "2  5631500400   2/25/2015         2       1.00          770     10000     1.0   \n",
       "3  2487200875   12/9/2014         4       3.00         1960      5000     1.0   \n",
       "4  1954400510   2/18/2015         3       2.00         1680      8080     1.0   \n",
       "\n",
       "   waterfront  view  condition  ...  sqft_above  sqft_basement  yr_built  \\\n",
       "0           0     0          3  ...        1180              0      1955   \n",
       "1           0     0          3  ...        2170            400      1951   \n",
       "2           0     0          3  ...         770              0      1933   \n",
       "3           0     0          5  ...        1050            910      1965   \n",
       "4           0     0          3  ...        1680              0      1987   \n",
       "\n",
       "   yr_renovated  zipcode      lat     long  sqft_living15  sqft_lot15   price  \n",
       "0             0    98178  47.5112 -122.257           1340        5650  221900  \n",
       "1          1991    98125  47.7210 -122.319           1690        7639  538000  \n",
       "2             0    98028  47.7379 -122.233           2720        8062  180000  \n",
       "3             0    98136  47.5208 -122.393           1360        5000  604000  \n",
       "4             0    98074  47.6168 -122.045           1800        7503  510000  \n",
       "\n",
       "[5 rows x 21 columns]"
      ]
     },
     "execution_count": 49,
     "metadata": {},
     "output_type": "execute_result"
    }
   ],
   "source": [
    "data = pd.read_csv(\"data/regression_data.csv\")\n",
    "data.head()"
   ]
  },
  {
   "cell_type": "markdown",
   "id": "9f454faa",
   "metadata": {},
   "source": [
    "<a id=\"classifying_columns\"></a>\n",
    "### 2.1 Classifying columns"
   ]
  },
  {
   "cell_type": "markdown",
   "id": "abe90ac7",
   "metadata": {},
   "source": [
    "+ divide columns in numerical and discrete"
   ]
  },
  {
   "cell_type": "code",
   "execution_count": 50,
   "id": "feedcada",
   "metadata": {},
   "outputs": [
    {
     "name": "stdout",
     "output_type": "stream",
     "text": [
      "<class 'pandas.core.frame.DataFrame'>\n",
      "RangeIndex: 21597 entries, 0 to 21596\n",
      "Data columns (total 21 columns):\n",
      " #   Column         Non-Null Count  Dtype  \n",
      "---  ------         --------------  -----  \n",
      " 0   id             21597 non-null  int64  \n",
      " 1   date           21597 non-null  object \n",
      " 2   bedrooms       21597 non-null  int64  \n",
      " 3   bathrooms      21597 non-null  float64\n",
      " 4   sqft_living    21597 non-null  int64  \n",
      " 5   sqft_lot       21597 non-null  int64  \n",
      " 6   floors         21597 non-null  float64\n",
      " 7   waterfront     21597 non-null  int64  \n",
      " 8   view           21597 non-null  int64  \n",
      " 9   condition      21597 non-null  int64  \n",
      " 10  grade          21597 non-null  int64  \n",
      " 11  sqft_above     21597 non-null  int64  \n",
      " 12  sqft_basement  21597 non-null  int64  \n",
      " 13  yr_built       21597 non-null  int64  \n",
      " 14  yr_renovated   21597 non-null  int64  \n",
      " 15  zipcode        21597 non-null  int64  \n",
      " 16  lat            21597 non-null  float64\n",
      " 17  long           21597 non-null  float64\n",
      " 18  sqft_living15  21597 non-null  int64  \n",
      " 19  sqft_lot15     21597 non-null  int64  \n",
      " 20  price          21597 non-null  int64  \n",
      "dtypes: float64(4), int64(16), object(1)\n",
      "memory usage: 3.5+ MB\n"
     ]
    }
   ],
   "source": [
    "data.info()"
   ]
  },
  {
   "cell_type": "code",
   "execution_count": 51,
   "id": "8613b635",
   "metadata": {},
   "outputs": [],
   "source": [
    "for col in [\"id\", \"view\", \"condition\", \"grade\", \"lat\", \"long\", \"zipcode\", \"waterfront\"]:\n",
    "    data[col] = data[col].astype('category')"
   ]
  },
  {
   "cell_type": "code",
   "execution_count": null,
   "id": "a8cbd183",
   "metadata": {},
   "outputs": [],
   "source": []
  },
  {
   "cell_type": "markdown",
   "id": "e870783d",
   "metadata": {},
   "source": [
    "[top of notebook](#top)"
   ]
  },
  {
   "cell_type": "markdown",
   "id": "4cf9dff0",
   "metadata": {},
   "source": [
    "<a id=\"numericals\"></a>\n",
    "### 2.2 Numericals"
   ]
  },
  {
   "cell_type": "markdown",
   "id": "25e213a2",
   "metadata": {},
   "source": [
    "#### 2.2.1 Check for NaNs"
   ]
  },
  {
   "cell_type": "code",
   "execution_count": 52,
   "id": "5c84a45b",
   "metadata": {},
   "outputs": [
    {
     "name": "stdout",
     "output_type": "stream",
     "text": [
      "bedrooms 0\n",
      "bathrooms 0\n",
      "sqft_living 0\n",
      "sqft_lot 0\n",
      "floors 0\n",
      "sqft_above 0\n",
      "sqft_basement 0\n",
      "yr_built 0\n",
      "yr_renovated 0\n",
      "sqft_living15 0\n",
      "sqft_lot15 0\n",
      "price 0\n"
     ]
    }
   ],
   "source": [
    "nan_values_of_all_columns(data[split_column_names_by(data)[0]])"
   ]
  },
  {
   "cell_type": "markdown",
   "id": "867f7334",
   "metadata": {},
   "source": [
    "#### 2.2.2 Boxplots - check for outliers"
   ]
  },
  {
   "cell_type": "code",
   "execution_count": 53,
   "id": "f8d34db7",
   "metadata": {},
   "outputs": [
    {
     "data": {
      "image/png": "[encoded data removed]",
      "text/plain": [
       "<Figure size 720x720 with 12 Axes>"
      ]
     },
     "metadata": {
      "needs_background": "light"
     },
     "output_type": "display_data"
    }
   ],
   "source": [
    "boxplots_for_all_numerical_cols(data)"
   ]
  },
  {
   "cell_type": "markdown",
   "id": "a909c5b4",
   "metadata": {},
   "source": [
    "##### bedroom outlier"
   ]
  },
  {
   "cell_type": "code",
   "execution_count": 54,
   "id": "76f3be88",
   "metadata": {},
   "outputs": [
    {
     "data": {
      "text/html": [
       "<div>\n",
       "<style scoped>\n",
       "    .dataframe tbody tr th:only-of-type {\n",
       "        vertical-align: middle;\n",
       "    }\n",
       "\n",
       "    .dataframe tbody tr th {\n",
       "        vertical-align: top;\n",
       "    }\n",
       "\n",
       "    .dataframe thead th {\n",
       "        text-align: right;\n",
       "    }\n",
       "</style>\n",
       "<table border=\"1\" class=\"dataframe\">\n",
       "  <thead>\n",
       "    <tr style=\"text-align: right;\">\n",
       "      <th></th>\n",
       "      <th>bedrooms</th>\n",
       "      <th>sqft_living</th>\n",
       "    </tr>\n",
       "  </thead>\n",
       "  <tbody>\n",
       "    <tr>\n",
       "      <th>15856</th>\n",
       "      <td>33</td>\n",
       "      <td>1620</td>\n",
       "    </tr>\n",
       "  </tbody>\n",
       "</table>\n",
       "</div>"
      ],
      "text/plain": [
       "       bedrooms  sqft_living\n",
       "15856        33         1620"
      ]
     },
     "execution_count": 54,
     "metadata": {},
     "output_type": "execute_result"
    }
   ],
   "source": [
    "data[data[\"bedrooms\"] == max(data[\"bedrooms\"])][[\"bedrooms\",\"sqft_living\"]]"
   ]
  },
  {
   "cell_type": "code",
   "execution_count": 55,
   "id": "af520d77",
   "metadata": {},
   "outputs": [
    {
     "name": "stdout",
     "output_type": "stream",
     "text": [
      "Average living space of tree bedrooms: 1805.84\n",
      "Average living space of two bedrooms: 1239.75\n"
     ]
    }
   ],
   "source": [
    "print(f\"Average living space of tree bedrooms: {round(np.mean(data[data['bedrooms']==3]['sqft_living']), 2)}\")\n",
    "print(f\"Average living space of two bedrooms: {round(np.mean(data[data['bedrooms']==2]['sqft_living']), 2)}\")"
   ]
  },
  {
   "cell_type": "markdown",
   "id": "c9114943",
   "metadata": {},
   "source": [
    "+ it is likely, that the 33 is a typo, it will be changed to 3"
   ]
  },
  {
   "cell_type": "code",
   "execution_count": 56,
   "id": "5926cefe",
   "metadata": {},
   "outputs": [],
   "source": [
    "data.at[15856,\"bedrooms\"] = 3"
   ]
  },
  {
   "cell_type": "markdown",
   "id": "26bb4b7e",
   "metadata": {},
   "source": [
    "##### sqft_lot outlier"
   ]
  },
  {
   "cell_type": "code",
   "execution_count": 57,
   "id": "935db30f",
   "metadata": {},
   "outputs": [
    {
     "name": "stdout",
     "output_type": "stream",
     "text": [
      "      bedrooms  sqft_lot\n",
      "1717         4   1651359\n"
     ]
    }
   ],
   "source": [
    "print(data[data[\"sqft_lot\"] == max(data[\"sqft_lot\"])][[\"bedrooms\",\"sqft_lot\"]])"
   ]
  },
  {
   "cell_type": "code",
   "execution_count": 58,
   "id": "e57e63d2",
   "metadata": {},
   "outputs": [
    {
     "name": "stdout",
     "output_type": "stream",
     "text": [
      "Average lot in ft² of four bedrooms: 16720.79\n"
     ]
    }
   ],
   "source": [
    "print(f\"Average lot in ft² of four bedrooms: {round(np.mean(data[data['bedrooms']==4]['sqft_lot']), 2)}\")\n"
   ]
  },
  {
   "cell_type": "markdown",
   "id": "dbee5d0a",
   "metadata": {},
   "source": [
    "+ it is likely, that a comma was forgotton, sqft_lot will be set to 16513.59"
   ]
  },
  {
   "cell_type": "code",
   "execution_count": 59,
   "id": "abbc9090",
   "metadata": {},
   "outputs": [],
   "source": [
    "data.at[1717,\"sqft_lot\"] = 16513.59"
   ]
  },
  {
   "cell_type": "code",
   "execution_count": 47,
   "id": "5cf01a6c",
   "metadata": {},
   "outputs": [],
   "source": [
    "# placeholder"
   ]
  },
  {
   "cell_type": "code",
   "execution_count": null,
   "id": "4f0db532",
   "metadata": {},
   "outputs": [],
   "source": []
  },
  {
   "cell_type": "code",
   "execution_count": 48,
   "id": "1d6904b1",
   "metadata": {},
   "outputs": [
    {
     "data": {
      "image/png": "[encoded data removed]",
      "text/plain": [
       "<Figure size 720x720 with 12 Axes>"
      ]
     },
     "metadata": {
      "needs_background": "light"
     },
     "output_type": "display_data"
    }
   ],
   "source": [
    "boxplots_for_all_numerical_cols(data)"
   ]
  },
  {
   "cell_type": "markdown",
   "id": "77735507",
   "metadata": {},
   "source": [
    "#### 2.1.4 Change all numeric values to integer ???"
   ]
  },
  {
   "cell_type": "markdown",
   "id": "49e91036",
   "metadata": {},
   "source": [
    "+ no, as most of the data is already numerical and some data shouldn't be (long, lat, rooms, ...)"
   ]
  },
  {
   "cell_type": "code",
   "execution_count": 26,
   "id": "459f7bc4",
   "metadata": {},
   "outputs": [],
   "source": [
    "# data = all_numeric_to_int(ca_df)"
   ]
  },
  {
   "cell_type": "markdown",
   "id": "9024af04",
   "metadata": {},
   "source": [
    "<a id = \"categoricals\"></a>\n",
    "### 2.3 Categorical columns"
   ]
  },
  {
   "cell_type": "markdown",
   "id": "cb395932",
   "metadata": {},
   "source": [
    "#### 2.2.1 Check for NaNs"
   ]
  },
  {
   "cell_type": "code",
   "execution_count": 27,
   "id": "eb5f628a",
   "metadata": {},
   "outputs": [
    {
     "name": "stdout",
     "output_type": "stream",
     "text": [
      "id 0\n",
      "date 0\n",
      "waterfront 0\n",
      "view 0\n",
      "condition 0\n",
      "grade 0\n",
      "zipcode 0\n",
      "lat 0\n",
      "long 0\n"
     ]
    }
   ],
   "source": [
    "nan_values_of_all_columns(data[split_column_names_by(data)[1]])"
   ]
  },
  {
   "cell_type": "markdown",
   "id": "c9fce9f9",
   "metadata": {},
   "source": [
    "+ create month_sold column"
   ]
  },
  {
   "cell_type": "code",
   "execution_count": 28,
   "id": "c1013873",
   "metadata": {},
   "outputs": [],
   "source": [
    "data[\"month_sold\"] = list(map(extract_month, data[\"date\"]))"
   ]
  },
  {
   "cell_type": "code",
   "execution_count": null,
   "id": "fa79ccff",
   "metadata": {},
   "outputs": [],
   "source": []
  },
  {
   "cell_type": "markdown",
   "id": "d92c806b",
   "metadata": {},
   "source": [
    "<a id=\"drop_columns\"></a>\n",
    "### 2.4 Create modelling dataframe by dropping some columns"
   ]
  },
  {
   "cell_type": "code",
   "execution_count": 29,
   "id": "6872db1b",
   "metadata": {},
   "outputs": [
    {
     "data": {
      "text/plain": [
       "Index(['id', 'date', 'bedrooms', 'bathrooms', 'sqft_living', 'sqft_lot',\n",
       "       'floors', 'waterfront', 'view', 'condition', 'grade', 'sqft_above',\n",
       "       'sqft_basement', 'yr_built', 'yr_renovated', 'zipcode', 'lat', 'long',\n",
       "       'sqft_living15', 'sqft_lot15', 'price', 'month_sold'],\n",
       "      dtype='object')"
      ]
     },
     "execution_count": 29,
     "metadata": {},
     "output_type": "execute_result"
    }
   ],
   "source": [
    "data.columns"
   ]
  },
  {
   "cell_type": "code",
   "execution_count": 30,
   "id": "f8a36469",
   "metadata": {},
   "outputs": [],
   "source": [
    "model_df = data.drop([\"id\", \"date\", \"zipcode\", \"lat\", \"long\"], axis=1, inplace=True)"
   ]
  },
  {
   "cell_type": "markdown",
   "id": "02ebe49f",
   "metadata": {},
   "source": [
    "#### 2.2.3 All strings to lower case"
   ]
  },
  {
   "cell_type": "code",
   "execution_count": 21,
   "id": "38bd6787",
   "metadata": {},
   "outputs": [],
   "source": [
    "ca_df = all_strings_lowercase(ca_df)"
   ]
  },
  {
   "cell_type": "markdown",
   "id": "745f5a1d",
   "metadata": {},
   "source": [
    "[top of notebook](#top)"
   ]
  },
  {
   "cell_type": "markdown",
   "id": "ff21f360",
   "metadata": {},
   "source": [
    "## 3. Adjust the DataFrame to fine tune the model"
   ]
  },
  {
   "cell_type": "markdown",
   "id": "d08a6f63",
   "metadata": {},
   "source": [
    "<a id=\"df_setup\"></a>\n",
    "### 3.1 Dataframe set up\n",
    "Create a copy of the cleaned DataFrame to avoid multiple new runs of the cleaning process"
   ]
  },
  {
   "cell_type": "code",
   "execution_count": 22,
   "id": "44dc6404",
   "metadata": {},
   "outputs": [],
   "source": [
    "ca_df_adj = ca_df"
   ]
  },
  {
   "cell_type": "markdown",
   "id": "d1c85d79",
   "metadata": {},
   "source": [
    "**In the follwoing cell, adjust the DataFrame**"
   ]
  },
  {
   "cell_type": "code",
   "execution_count": 23,
   "id": "778146ce",
   "metadata": {},
   "outputs": [],
   "source": [
    "from scipy import stats\n",
    "ca_df_adj = ca_df_adj[ca_df_adj[\"income\"] != 0]\n",
    "ca_df_adj = ca_df_adj[(np.abs(stats.zscore(ca_df_adj['customer_lifetime_value']))<3)]"
   ]
  },
  {
   "cell_type": "markdown",
   "id": "ce62b3ef",
   "metadata": {},
   "source": [
    "Select scaling method by (un)commenting contents of the following cell:"
   ]
  },
  {
   "cell_type": "code",
   "execution_count": 24,
   "id": "65cab205",
   "metadata": {},
   "outputs": [],
   "source": [
    "scaler = \"standard_scaler\"\n",
    "# scaler = \"quantile_transformer\"\n",
    "# scaler = \"power_transformator\"  # not completely tested\n"
   ]
  },
  {
   "cell_type": "markdown",
   "id": "194fa83c",
   "metadata": {},
   "source": [
    "Select the size of the test set"
   ]
  },
  {
   "cell_type": "code",
   "execution_count": 25,
   "id": "f9af25af",
   "metadata": {},
   "outputs": [],
   "source": [
    "test_set_size = .30"
   ]
  },
  {
   "cell_type": "markdown",
   "id": "e0e22ec2",
   "metadata": {},
   "source": [
    "Select further options:"
   ]
  },
  {
   "cell_type": "code",
   "execution_count": 26,
   "id": "912844f7",
   "metadata": {},
   "outputs": [],
   "source": [
    "show_boxplots_for_all_numerical = True\n",
    "show_histograms_for_normalized_cols = False\n",
    "show_hist_for_X = False\n",
    "print_model_data = False\n",
    "show_prediction_plots = True"
   ]
  },
  {
   "cell_type": "markdown",
   "id": "6fd4c247",
   "metadata": {},
   "source": [
    "When complete, run code and find the result under [output](#result)."
   ]
  },
  {
   "cell_type": "markdown",
   "id": "ed94aa29",
   "metadata": {},
   "source": [
    "#### 3.1.1 Numerical"
   ]
  },
  {
   "cell_type": "code",
   "execution_count": 27,
   "id": "3a77b8c5",
   "metadata": {},
   "outputs": [
    {
     "data": {
      "image/png": "[encoded data removed]",
      "text/plain": [
       "<Figure size 720x720 with 6 Axes>"
      ]
     },
     "metadata": {
      "needs_background": "light"
     },
     "output_type": "display_data"
    }
   ],
   "source": [
    "if show_boxplots_for_all_numerical:\n",
    "    boxplots_for_all_numerical_cols(split_df_by(ca_df_adj)[0])"
   ]
  },
  {
   "cell_type": "code",
   "execution_count": 28,
   "id": "faaad05a",
   "metadata": {},
   "outputs": [],
   "source": [
    "if show_histograms_for_normalized_cols:\n",
    "    for col in split_column_names_by(ca_df_adj)[0]:\n",
    "        plot_hist_normalized(ca_df_adj[col], scaler)"
   ]
  },
  {
   "cell_type": "markdown",
   "id": "6d0c539f",
   "metadata": {},
   "source": [
    "#### 3.1.2 Categorical"
   ]
  },
  {
   "cell_type": "code",
   "execution_count": 29,
   "id": "f81bbf27",
   "metadata": {},
   "outputs": [],
   "source": [
    "categoricals_features= ca_df_adj.select_dtypes(\"object\")"
   ]
  },
  {
   "cell_type": "code",
   "execution_count": 30,
   "id": "ecd978d4",
   "metadata": {},
   "outputs": [],
   "source": [
    "cat_cols=pd.get_dummies(categoricals_features, drop_first=True)"
   ]
  },
  {
   "cell_type": "markdown",
   "id": "b8a16ef0",
   "metadata": {},
   "source": [
    "#### 3.1.3 X-y split"
   ]
  },
  {
   "cell_type": "code",
   "execution_count": 31,
   "id": "bfde773b",
   "metadata": {},
   "outputs": [],
   "source": [
    "X=ca_df_adj.drop(\"total_claim_amount\", axis=1)\n",
    "y=ca_df_adj[\"total_claim_amount\"]"
   ]
  },
  {
   "cell_type": "code",
   "execution_count": 32,
   "id": "cf77ccec",
   "metadata": {},
   "outputs": [],
   "source": [
    "X=X._get_numeric_data()\n",
    "# X"
   ]
  },
  {
   "cell_type": "code",
   "execution_count": 33,
   "id": "6c2f86b5",
   "metadata": {},
   "outputs": [],
   "source": [
    "if show_hist_for_X:\n",
    "    X.hist(figsize=(14,14))"
   ]
  },
  {
   "cell_type": "markdown",
   "id": "fbc604fd",
   "metadata": {},
   "source": [
    "**Concat dummies to numeric standardized**"
   ]
  },
  {
   "cell_type": "code",
   "execution_count": 34,
   "id": "61474bba",
   "metadata": {},
   "outputs": [],
   "source": [
    "X = pd.concat([X,cat_cols],axis=1)\n",
    "# X"
   ]
  },
  {
   "cell_type": "markdown",
   "id": "efe7f407",
   "metadata": {},
   "source": [
    "#### 3.1.4 Data splitting"
   ]
  },
  {
   "cell_type": "code",
   "execution_count": 35,
   "id": "6d398a59",
   "metadata": {},
   "outputs": [],
   "source": [
    "X_train, X_test, y_train, y_test=train_test_split(X, y, test_size=test_set_size,random_state=42)"
   ]
  },
  {
   "cell_type": "markdown",
   "id": "183f42c3",
   "metadata": {},
   "source": [
    "#### 3.1.5 Standardize\n",
    "+ Build scaling parameters on training set (mean variance) → more data as majority of datapoints of sample<br>(1 - *test_sample_size*) <br>\n",
    "\n"
   ]
  },
  {
   "cell_type": "code",
   "execution_count": 36,
   "id": "4ec204c3",
   "metadata": {},
   "outputs": [],
   "source": [
    "if scaler == \"quantile_transformer\":\n",
    "    scaler_used = QuantileTransformer(n_quantiles=500, output_distribution=\"normal\").fit(X_train)\n",
    "elif scaler == \"power_transformator\":\n",
    "    scaler_used = PowerTransformer().fit(X_train)\n",
    "else:\n",
    "    scaler_used = StandardScaler().fit(X_train)"
   ]
  },
  {
   "cell_type": "markdown",
   "id": "8208f242",
   "metadata": {},
   "source": [
    "+ Apply on training set"
   ]
  },
  {
   "cell_type": "code",
   "execution_count": 37,
   "id": "49073da5",
   "metadata": {},
   "outputs": [],
   "source": [
    "X_train_scaled=scaler_used.transform(X_train)"
   ]
  },
  {
   "cell_type": "markdown",
   "id": "1aae48b2",
   "metadata": {},
   "source": [
    "+ as well as on test set (same std_scaler but generated by a bigger set of values), same scaling param's as x_train"
   ]
  },
  {
   "cell_type": "code",
   "execution_count": 38,
   "id": "c63368cb",
   "metadata": {},
   "outputs": [],
   "source": [
    "X_test_scaled=scaler_used.transform(X_test)"
   ]
  },
  {
   "cell_type": "markdown",
   "id": "01267e84",
   "metadata": {},
   "source": [
    "#### 3.1.6 Modeling using Statsmodels"
   ]
  },
  {
   "cell_type": "code",
   "execution_count": 39,
   "id": "72d76c80",
   "metadata": {},
   "outputs": [],
   "source": [
    "X_train_const_scaled = sm.add_constant(X_train_scaled) # adding a constant\n",
    "\n",
    "model = sm.OLS(y_train, X_train_const_scaled).fit()\n",
    "predictions_train = model.predict(X_train_const_scaled) \n",
    "\n",
    "X_test_const_scaled = sm.add_constant(X_test_scaled) # adding a constant\n",
    "predictions_test = model.predict(X_test_const_scaled) \n",
    "print_model = model.summary()\n",
    "if print_model_data:\n",
    "    print(print_model)"
   ]
  },
  {
   "cell_type": "code",
   "execution_count": 40,
   "id": "244601c7",
   "metadata": {},
   "outputs": [
    {
     "data": {
      "text/plain": [
       "array([414.73237508, 387.76651546, 449.97785651, ..., 547.08020752,\n",
       "       595.3764829 , 411.65639211])"
      ]
     },
     "execution_count": 40,
     "metadata": {},
     "output_type": "execute_result"
    }
   ],
   "source": [
    "predictions_test"
   ]
  },
  {
   "cell_type": "markdown",
   "id": "5abe6b84",
   "metadata": {},
   "source": [
    "#### 3.1.7 Modeling using Scikit Learn"
   ]
  },
  {
   "cell_type": "markdown",
   "id": "f54c4ef9",
   "metadata": {},
   "source": [
    "##### 3.1.7.1 Model fitting"
   ]
  },
  {
   "cell_type": "code",
   "execution_count": 41,
   "id": "33a27734",
   "metadata": {},
   "outputs": [
    {
     "data": {
      "text/plain": [
       "LinearRegression()"
      ]
     },
     "execution_count": 41,
     "metadata": {},
     "output_type": "execute_result"
    }
   ],
   "source": [
    "model=LinearRegression()    # model\n",
    "model.fit(X_train_scaled, y_train)   # model train"
   ]
  },
  {
   "cell_type": "markdown",
   "id": "e92bb892",
   "metadata": {},
   "source": [
    "##### 3.1.7.2 Parameters of model"
   ]
  },
  {
   "cell_type": "code",
   "execution_count": 42,
   "id": "6da0649a",
   "metadata": {},
   "outputs": [
    {
     "data": {
      "text/plain": [
       "array([ 2.52629083e+00, -7.86751753e+00,  1.56403601e+02,  1.08817931e-01,\n",
       "       -6.85943931e-01,  9.42977540e-02, -2.22169059e+00,  2.57666658e-02,\n",
       "        1.46295787e+00, -3.96170597e-01, -5.91668657e+00, -5.84889201e+00,\n",
       "       -1.99933803e+00, -2.31035956e+00,  1.20964619e-01, -1.42955072e-01,\n",
       "       -1.38943827e+00,  5.16986720e+00, -2.29253310e+00,  4.25429943e+00,\n",
       "        1.85479044e+02,  9.08838962e+01, -4.93516109e+00, -6.68938140e-01,\n",
       "        7.53474171e+13, -1.50812627e+14, -2.66711129e+00,  3.50673747e-02,\n",
       "       -5.81651586e+13, -7.28392852e+13, -8.31654631e+13,  7.14966435e+13,\n",
       "        9.71264347e+13,  9.39927305e+13,  6.01456110e+00,  2.59259180e+00,\n",
       "        2.26919564e+00, -6.62591663e-01, -1.20033253e+00,  1.83680494e+00,\n",
       "       -4.77876959e+00, -6.24705148e+00, -9.24438466e+00, -1.11039170e+01,\n",
       "        1.59723377e+00,  8.65605554e-01,  3.44717017e+00])"
      ]
     },
     "execution_count": 42,
     "metadata": {},
     "output_type": "execute_result"
    }
   ],
   "source": [
    "model.coef_"
   ]
  },
  {
   "cell_type": "code",
   "execution_count": 43,
   "id": "efceafad",
   "metadata": {},
   "outputs": [
    {
     "data": {
      "text/plain": [
       "372.36741522343266"
      ]
     },
     "execution_count": 43,
     "metadata": {},
     "output_type": "execute_result"
    }
   ],
   "source": [
    "model.intercept_"
   ]
  },
  {
   "cell_type": "code",
   "execution_count": 44,
   "id": "c40822cf",
   "metadata": {},
   "outputs": [
    {
     "data": {
      "text/plain": [
       "0.8144529403355216"
      ]
     },
     "execution_count": 44,
     "metadata": {},
     "output_type": "execute_result"
    }
   ],
   "source": [
    "model.score(X_test_scaled,y_test)"
   ]
  },
  {
   "cell_type": "markdown",
   "id": "cf58b1de",
   "metadata": {},
   "source": [
    "##### 3.1.7.3 Making prediction"
   ]
  },
  {
   "cell_type": "code",
   "execution_count": 45,
   "id": "961ba576",
   "metadata": {},
   "outputs": [],
   "source": [
    "y_pred=model.predict(X_test_scaled)"
   ]
  },
  {
   "cell_type": "code",
   "execution_count": 46,
   "id": "8f4dbcbf",
   "metadata": {},
   "outputs": [],
   "source": [
    "# y_test"
   ]
  },
  {
   "cell_type": "code",
   "execution_count": 47,
   "id": "f6c3b556",
   "metadata": {},
   "outputs": [],
   "source": [
    "result=pd.DataFrame({\"y_test\":y_test,\"y_pred\":y_pred})"
   ]
  },
  {
   "cell_type": "markdown",
   "id": "b6e8d707",
   "metadata": {},
   "source": [
    "##### 3.1.7.4 Plots"
   ]
  },
  {
   "cell_type": "code",
   "execution_count": 48,
   "id": "6ffdd97b",
   "metadata": {},
   "outputs": [
    {
     "data": {
      "image/png": "[encoded data removed]",
      "text/plain": [
       "<Figure size 1008x288 with 3 Axes>"
      ]
     },
     "metadata": {
      "needs_background": "light"
     },
     "output_type": "display_data"
    }
   ],
   "source": [
    "if show_prediction_plots:\n",
    "    fig, ax = plt.subplots(1,3,figsize=(14,4))\n",
    "    ax[0].plot(y_pred, y_test, 'o')\n",
    "    ax[0].set_xlabel(\"y_test\")\n",
    "    ax[0].set_ylabel(\"y_pred\")\n",
    "    ax[0].set_title(\"Test Set -Predicted vs real\")\n",
    "\n",
    "    # Get a histogram of the residuals ie: y - y_pred.  Homoscdasticity\n",
    "    # It resembles a normal distribution?\n",
    "    ax[1].hist(y_test - y_pred)\n",
    "    ax[1].set_xlabel(\"Test y-y_pred\")\n",
    "    ax[1].set_title(\"Test Set Residual histogram\")\n",
    "\n",
    "    ax[2].plot(y_pred,y_test - y_pred,\"o\")\n",
    "    ax[2].set_xlabel(\"predited\")\n",
    "    ax[2].set_ylabel(\"residuals\")\n",
    "    ax[2].set_title(\"Residuals by Predicted\")\n",
    "    ax[2].plot(y_pred,np.zeros(len(y_pred)),linestyle='dashed')"
   ]
  },
  {
   "cell_type": "code",
   "execution_count": 49,
   "id": "ae967fc9",
   "metadata": {},
   "outputs": [
    {
     "data": {
      "image/png": "[encoded data removed]",
      "text/plain": [
       "<Figure size 432x288 with 1 Axes>"
      ]
     },
     "metadata": {
      "needs_background": "light"
     },
     "output_type": "display_data"
    }
   ],
   "source": [
    "if show_prediction_plots:\n",
    "    sns.regplot(x='y_pred',y='y_test', data=result, scatter_kws={\"color\": \"red\"}, line_kws={\"color\": \"black\"})"
   ]
  },
  {
   "cell_type": "markdown",
   "id": "9ff09513",
   "metadata": {},
   "source": [
    "##### 3.1.7.5 Error metrics Test"
   ]
  },
  {
   "cell_type": "code",
   "execution_count": 50,
   "id": "33e6746d",
   "metadata": {
    "scrolled": true
   },
   "outputs": [],
   "source": [
    "mse_test = mse(y_test,y_pred)\n",
    "mae_test = mae(y_test,y_pred)"
   ]
  },
  {
   "cell_type": "code",
   "execution_count": 51,
   "id": "a294ee5a",
   "metadata": {
    "scrolled": false
   },
   "outputs": [],
   "source": [
    "r2_test=r2_score(y_test,y_pred)\n"
   ]
  },
  {
   "cell_type": "code",
   "execution_count": 52,
   "id": "df7a27dc",
   "metadata": {},
   "outputs": [],
   "source": [
    "adj_r2_test= 1 - (1-r2_test)*(len(y_test)-1)/(len(y_test)-X_test.shape[1]-1)\n"
   ]
  },
  {
   "cell_type": "markdown",
   "id": "22feb7d0",
   "metadata": {},
   "source": [
    "##### 3.1.7.6 Error metrics Train"
   ]
  },
  {
   "cell_type": "code",
   "execution_count": 53,
   "id": "8a5111b9",
   "metadata": {},
   "outputs": [],
   "source": [
    "y_pred=model.predict(X_train_scaled)"
   ]
  },
  {
   "cell_type": "code",
   "execution_count": 54,
   "id": "712407a5",
   "metadata": {},
   "outputs": [],
   "source": [
    "mse_train = mse(y_train,y_pred)\n",
    "mae_train = mae(y_train,y_pred)"
   ]
  },
  {
   "cell_type": "code",
   "execution_count": 55,
   "id": "ba1ee5c5",
   "metadata": {
    "scrolled": true
   },
   "outputs": [],
   "source": [
    "r2_train=r2_score(y_train,y_pred)\n"
   ]
  },
  {
   "cell_type": "code",
   "execution_count": 56,
   "id": "b5c99459",
   "metadata": {},
   "outputs": [],
   "source": [
    "adj_r2_train= 1 - (1-r2_train)*(len(y_train)-1)/(len(y_train)-X_train.shape[1]-1)\n"
   ]
  },
  {
   "cell_type": "markdown",
   "id": "f5627184",
   "metadata": {},
   "source": [
    "***"
   ]
  },
  {
   "cell_type": "markdown",
   "id": "870178e7",
   "metadata": {},
   "source": [
    "<a id =\"result\"> </a>\n",
    "### 3.2 Result Output"
   ]
  },
  {
   "cell_type": "code",
   "execution_count": 57,
   "id": "6166cacc",
   "metadata": {},
   "outputs": [
    {
     "name": "stdout",
     "output_type": "stream",
     "text": [
      "Adjusted Dataset contains 72.67 % of original data points (7928 out of 10910).\n",
      "\n",
      "Error Metrics Test Set:\n",
      "\n",
      "         MSE = 11066.6637 \n",
      "\n",
      "         MAE = 72.8891 \n",
      "\n",
      "          R² = 0.8145 \n",
      "\n",
      " Adjusted R² = 0.8107 \n",
      "\n",
      "\n",
      "---\n",
      "\n",
      "Error Metrics Train Set: \n",
      "\n",
      "         MSE = 11728.5444 \n",
      "\n",
      "         MAE = 73.6531 \n",
      "\n",
      "          R² = 0.8023 \n",
      "\n",
      " Adjusted R² = 0.8006 \n",
      "\n"
     ]
    }
   ],
   "source": [
    "print(f\"Adjusted Dataset contains {round(len(ca_df_adj)/len(ca_df)*100,2)} % of original data points ({len(ca_df_adj)} out of {len(ca_df)}).\")\n",
    "print(\"\")\n",
    "print(\"Error Metrics Test Set:\\n\")\n",
    "print(\"         MSE =\", round(mse_test, 4),\"\\n\")\n",
    "print(\"         MAE =\", round(mae_test, 4),\"\\n\")\n",
    "print(\"          R² =\", round(r2_test, 4),\"\\n\")\n",
    "print(\" Adjusted R² =\", round(adj_r2_test, 4),\"\\n\")\n",
    "print(\"\\n---\\n\")\n",
    "print(\"Error Metrics Train Set:\",\"\\n\")\n",
    "print(\"         MSE =\", round(mse_train, 4),\"\\n\")\n",
    "print(\"         MAE =\", round(mae_train, 4),\"\\n\")\n",
    "print(\"          R² =\", round(r2_train, 4),\"\\n\")\n",
    "print(\" Adjusted R² =\", round(adj_r2_train, 4),\"\\n\")"
   ]
  },
  {
   "cell_type": "markdown",
   "id": "b8acabdb",
   "metadata": {},
   "source": [
    "Change DataFrame [set up](#df_setup) here."
   ]
  },
  {
   "cell_type": "markdown",
   "id": "6f515ac0",
   "metadata": {},
   "source": [
    "[top of notebook](#top)"
   ]
  },
  {
   "cell_type": "markdown",
   "id": "42d5d15a",
   "metadata": {},
   "source": [
    "<a id='findings'> </a>\n",
    "## 4. Findings\n"
   ]
  },
  {
   "cell_type": "markdown",
   "id": "90231cac",
   "metadata": {},
   "source": [
    "### 4.1 No further adjustments (StandardScaler)"
   ]
  },
  {
   "cell_type": "markdown",
   "id": "02854cc4",
   "metadata": {},
   "source": [
    "Adjusted Dataset contains 100.0 % of original data points (10910 out of 10910).\n",
    "\n",
    "Error Metrics Test Set:\n",
    "\n",
    "         MSE = 18652.2074 \n",
    "\n",
    "         MAE = 94.935 \n",
    "\n",
    "          R² = 0.7746 \n",
    "\n",
    " Adjusted R² = 0.7712 \n",
    "\n",
    "\n",
    "---\n",
    "\n",
    "Error Metrics Train Set: \n",
    "\n",
    "         MSE = 19987.9543 \n",
    "\n",
    "         MAE = 96.1992 \n",
    "\n",
    "          R² = 0.7689 \n",
    "\n",
    " Adjusted R² = 0.7675 \n"
   ]
  },
  {
   "cell_type": "markdown",
   "id": "f8d2411f",
   "metadata": {},
   "source": [
    "### 4.2 No further adjustments (QuantileTransformer)"
   ]
  },
  {
   "cell_type": "markdown",
   "id": "e3e144b2",
   "metadata": {},
   "source": [
    "Adjusted Dataset contains 100.0 % of original data points (10910 out of 10910).\n",
    "\n",
    "Error Metrics Test Set:\n",
    "\n",
    "         MSE = 21153.7264 \n",
    "\n",
    "         MAE = 100.4403 \n",
    "\n",
    "          R² = 0.7443 \n",
    "\n",
    " Adjusted R² = 0.7405 \n",
    "\n",
    "\n",
    "---\n",
    "\n",
    "Error Metrics Train Set: \n",
    "\n",
    "         MSE = 22458.368 \n",
    "\n",
    "         MAE = 101.4327 \n",
    "\n",
    "          R² = 0.7404 \n",
    "\n",
    " Adjusted R² = 0.7387 "
   ]
  },
  {
   "cell_type": "markdown",
   "id": "3ccf74e6",
   "metadata": {},
   "source": [
    "### 4.3 No further adjustments (PowerTransformer)"
   ]
  },
  {
   "cell_type": "markdown",
   "id": "80b35f55",
   "metadata": {},
   "source": [
    "Adjusted Dataset contains 100.0 % of original data points (10910 out of 10910).\n",
    "\n",
    "Error Metrics Test Set:\n",
    "\n",
    "         MSE = 20565.8156 \n",
    "\n",
    "         MAE = 99.1895 \n",
    "\n",
    "          R² = 0.7515 \n",
    "\n",
    " Adjusted R² = 0.7478 \n",
    "\n",
    "\n",
    "---\n",
    "\n",
    "Error Metrics Train Set: \n",
    "\n",
    "         MSE = 22176.8949 \n",
    "\n",
    "         MAE = 100.7029 \n",
    "\n",
    "          R² = 0.7436 \n",
    "\n",
    " Adjusted R² = 0.742 "
   ]
  },
  {
   "cell_type": "markdown",
   "id": "df884d58",
   "metadata": {},
   "source": [
    "### 4.4 Drop all income 0 rows  (StandardScaler)\n",
    "\n",
    "`ca_df_adj = ca_df_adj[ca_df_adj[\"income\"] != 0]`"
   ]
  },
  {
   "cell_type": "markdown",
   "id": "2f9cc85c",
   "metadata": {},
   "source": [
    "Adjusted Dataset contains 74.45 % of original data points (8123 out of 10910).\n",
    "\n",
    "Error Metrics Test Set:\n",
    "\n",
    "         MSE = 14300.1229 \n",
    "\n",
    "         MAE = 77.1185 \n",
    "\n",
    "          R² = 0.7945 \n",
    "\n",
    " Adjusted R² = 0.7904 \n",
    "\n",
    "\n",
    "---\n",
    "\n",
    "Error Metrics Train Set: \n",
    "\n",
    "         MSE = 11713.3668 \n",
    "\n",
    "         MAE = 73.7083 \n",
    "\n",
    "          R² = 0.8075 \n",
    "\n",
    " Adjusted R² = 0.8059 \n"
   ]
  },
  {
   "cell_type": "markdown",
   "id": "f3dc510b",
   "metadata": {},
   "source": [
    "### 4.5 Income 0 replaced with mean (StandardScaler)\n",
    "\n",
    "`ca_df_adj[\"income\"] = ca_df_adj['income'].replace(0, np.mean(ca_df_adj[ca_df[\"income\"]))`\n"
   ]
  },
  {
   "cell_type": "markdown",
   "id": "6557b3e5",
   "metadata": {},
   "source": [
    "Adjusted Dataset contains 100.0 % of original data points (10910 out of 10910).\n",
    "\n",
    "Error Metrics Test Set:\n",
    "\n",
    "         MSE = 18652.2902 \n",
    "\n",
    "         MAE = 94.9343 \n",
    "\n",
    "          R² = 0.7746 \n",
    "\n",
    " Adjusted R² = 0.7712 \n",
    "\n",
    "\n",
    "---\n",
    "\n",
    "Error Metrics Train Set: \n",
    "\n",
    "         MSE = 19987.9426 \n",
    "\n",
    "         MAE = 96.199 \n",
    "\n",
    "          R² = 0.7689 \n",
    "\n",
    " Adjusted R² = 0.7675 "
   ]
  },
  {
   "cell_type": "markdown",
   "id": "61131615",
   "metadata": {},
   "source": [
    "### 4.6 Income 0 replaced with mean (excluding the 0's for the calculation of the mean)  (StandardScaler)\n",
    "\n",
    "`ca_df_adj[\"income\"] = ca_df_adj['income'].replace(0, np.mean(ca_df_adj[ca_df[\"income\"] != 0][\"income\"]))`\n"
   ]
  },
  {
   "cell_type": "markdown",
   "id": "edb5440e",
   "metadata": {},
   "source": [
    "Adjusted Dataset contains 100.0 % of original data points (10910 out of 10910).\n",
    "\n",
    "Error Metrics Test Set:\n",
    "\n",
    "         MSE = 18652.2902 \n",
    "\n",
    "         MAE = 94.9343 \n",
    "\n",
    "          R² = 0.7746 \n",
    "\n",
    " Adjusted R² = 0.7712 \n",
    "\n",
    "\n",
    "---\n",
    "\n",
    "Error Metrics Train Set: \n",
    "\n",
    "         MSE = 19987.9426 \n",
    "\n",
    "         MAE = 96.199 \n",
    "\n",
    "          R² = 0.7689 \n",
    "\n",
    " Adjusted R² = 0.7675 "
   ]
  },
  {
   "cell_type": "markdown",
   "id": "3ad0a934",
   "metadata": {},
   "source": [
    "### 4.7 Removing outliers from all numerical columns (StandardScaler)\n",
    "\n",
    "`from scipy import stats\n",
    " ca_df_adj = ca_df_adj[(np.abs(stats.zscore(ca_df_adj.select_dtypes(include=np.number))) < 3).all(axis=1)]`\n"
   ]
  },
  {
   "cell_type": "markdown",
   "id": "c40f610a",
   "metadata": {},
   "source": [
    "Adjusted Dataset contains 89.68 % of original data points (9784 out of 10910).\n",
    "\n",
    "Error Metrics Test Set:\n",
    "\n",
    "         MSE = 10985.1932 \n",
    "\n",
    "         MAE = 78.0492 \n",
    "\n",
    "          R² = 0.77 \n",
    "\n",
    " Adjusted R² = 0.7664 \n",
    "\n",
    "\n",
    "---\n",
    "\n",
    "Error Metrics Train Set: \n",
    "\n",
    "         MSE = 10041.3318 \n",
    "\n",
    "         MAE = 75.7572 \n",
    "\n",
    "          R² = 0.7736 \n",
    "\n",
    " Adjusted R² = 0.7721"
   ]
  },
  {
   "cell_type": "markdown",
   "id": "7ab6fd72",
   "metadata": {},
   "source": [
    "### 4.8 Removing rows with outliers only from cust_lifetime_value (StandardScaler)\n",
    "`\n",
    "from scipy import stats\n",
    "ca_df_adj = ca_df_adj[(np.abs(stats.zscore(ca_df_adj['customer_lifetime_value']))<3)]`"
   ]
  },
  {
   "cell_type": "markdown",
   "id": "6fe5ab23",
   "metadata": {},
   "source": [
    "Adjusted Dataset contains 97.66 % of original data points (10655 out of 10910).\n",
    "\n",
    "Error Metrics Test Set:\n",
    "\n",
    "         MSE = 20450.4594 \n",
    "\n",
    "         MAE = 95.8138 \n",
    "\n",
    "          R² = 0.755 \n",
    "\n",
    " Adjusted R² = 0.7513 \n",
    "\n",
    "\n",
    "---\n",
    "\n",
    "Error Metrics Train Set: \n",
    "\n",
    "         MSE = 17973.5078 \n",
    "\n",
    "         MAE = 93.2348 \n",
    "\n",
    "          R² = 0.7777 \n",
    "\n",
    " Adjusted R² = 0.7762 "
   ]
  },
  {
   "cell_type": "markdown",
   "id": "60cf98d1",
   "metadata": {},
   "source": [
    "<a id='4_9'></a>\n",
    "### 4.9 Removing rows with outliers only from cust_lifetime_value and dropping 0 income (StandardScaler)\n",
    "`\n",
    "from scipy import stats\n",
    "ca_df_adj = ca_df_adj[ca_df_adj[\"income\"] != 0]\n",
    "ca_df_adj = ca_df_adj[(np.abs(stats.zscore(ca_df_adj['customer_lifetime_value']))<3)]`"
   ]
  },
  {
   "cell_type": "markdown",
   "id": "ffe55f20",
   "metadata": {},
   "source": [
    "Adjusted Dataset contains 72.67 % of original data points (7928 out of 10910).\n",
    "\n",
    "Error Metrics Test Set:\n",
    "\n",
    "         MSE = 11066.6637 \n",
    "\n",
    "         MAE = 72.8891 \n",
    "\n",
    "          R² = 0.8145 \n",
    "\n",
    " Adjusted R² = 0.8107 \n",
    "\n",
    "\n",
    "---\n",
    "\n",
    "Error Metrics Train Set: \n",
    "\n",
    "         MSE = 11728.5444 \n",
    "\n",
    "         MAE = 73.6531 \n",
    "\n",
    "          R² = 0.8023 \n",
    "\n",
    " Adjusted R² = 0.8006 "
   ]
  },
  {
   "cell_type": "markdown",
   "id": "1f1f1a02",
   "metadata": {},
   "source": [
    "[top of notebook](#top)"
   ]
  },
  {
   "cell_type": "code",
   "execution_count": null,
   "id": "0a04621f",
   "metadata": {},
   "outputs": [],
   "source": []
  }
 ],
 "metadata": {
  "kernelspec": {
   "display_name": "Python 3 (ipykernel)",
   "language": "python",
   "name": "python3"
  },
  "language_info": {
   "codemirror_mode": {
    "name": "ipython",
    "version": 3
   },
   "file_extension": ".py",
   "mimetype": "text/x-python",
   "name": "python",
   "nbconvert_exporter": "python",
   "pygments_lexer": "ipython3",
   "version": "3.9.7"
  },
  "toc": {
   "base_numbering": 1,
   "nav_menu": {},
   "number_sections": false,
   "sideBar": true,
   "skip_h1_title": true,
   "title_cell": "Table of Contents",
   "title_sidebar": "Contents",
   "toc_cell": false,
   "toc_position": {
    "height": "714.388px",
    "left": "23px",
    "top": "111.125px",
    "width": "250px"
   },
   "toc_section_display": true,
   "toc_window_display": true
  },
  "varInspector": {
   "cols": {
    "lenName": 16,
    "lenType": 16,
    "lenVar": 40
   },
   "kernels_config": {
    "python": {
     "delete_cmd_postfix": "",
     "delete_cmd_prefix": "del ",
     "library": "var_list.py",
     "varRefreshCmd": "print(var_dic_list())"
    },
    "r": {
     "delete_cmd_postfix": ") ",
     "delete_cmd_prefix": "rm(",
     "library": "var_list.r",
     "varRefreshCmd": "cat(var_dic_list()) "
    }
   },
   "types_to_exclude": [
    "module",
    "function",
    "builtin_function_or_method",
    "instance",
    "_Feature"
   ],
   "window_display": false
  }
 },
 "nbformat": 4,
 "nbformat_minor": 5
}
