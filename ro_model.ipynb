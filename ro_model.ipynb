{
 "cells": [
  {
   "cell_type": "markdown",
   "id": "00015de1",
   "metadata": {},
   "source": [
    "<a id=\"top\"></a>\n",
    "# Top\n"
   ]
  },
  {
   "cell_type": "code",
   "execution_count": 548,
   "id": "a5d04e36",
   "metadata": {},
   "outputs": [],
   "source": [
    "import numpy as np\n",
    "import math\n",
    "import pandas as pd\n",
    "import matplotlib.pyplot as plt\n",
    "%matplotlib inline\n",
    "import seaborn as sns\n",
    "from sklearn.preprocessing import StandardScaler\n",
    "from sklearn.preprocessing import minmax_scale\n",
    "from sklearn.preprocessing import OneHotEncoder\n",
    "from sklearn.linear_model import LinearRegression\n",
    "from sklearn.model_selection import train_test_split\n",
    "from sklearn.preprocessing import PowerTransformer\n",
    "from sklearn.preprocessing import QuantileTransformer\n",
    "from sklearn.linear_model import LinearRegression\n",
    "\n",
    "import statsmodels.api as sm\n",
    "from scipy.stats import boxcox\n",
    "from sklearn.model_selection import train_test_split\n",
    "from sklearn.metrics import r2_score\n",
    "from sklearn.metrics import mean_squared_error as mse\n",
    "from sklearn.metrics import mean_absolute_error as mae\n",
    "pd.options.display.max_rows = 50\n",
    "\n",
    "from scipy import stats"
   ]
  },
  {
   "cell_type": "code",
   "execution_count": 549,
   "id": "1c00d973",
   "metadata": {},
   "outputs": [],
   "source": [
    "\n",
    "from shapely.geometry import Point\n",
    "import geopandas as gpd\n",
    "from geopandas import GeoDataFrame"
   ]
  },
  {
   "cell_type": "markdown",
   "id": "55193f45",
   "metadata": {},
   "source": [
    "<a id=\"functions\"></a>\n",
    "## 1 Functions"
   ]
  },
  {
   "cell_type": "code",
   "execution_count": 788,
   "id": "db4b9e10",
   "metadata": {},
   "outputs": [],
   "source": [
    "def split_column_names_by(this_df, include_dtypes:[list]=[\"int\",\"float\"]):\n",
    "    # __author__ = \"Roman Kaltschew\"\n",
    "    \"\"\"takes in this_df, splits this_df's columns into two lists of column name by dtype of columns (default [\"int\",\"float\"]) \n",
    "       and returns tuple (incl_lst, excl_lst)\"\"\"\n",
    "    incl_lst = [_ for _ in this_df.select_dtypes(include=include_dtypes).dtypes.index]\n",
    "    excl_lst = [_ for _ in this_df.select_dtypes(exclude=include_dtypes).dtypes.index]\n",
    "    return (incl_lst, excl_lst)"
   ]
  },
  {
   "cell_type": "code",
   "execution_count": 789,
   "id": "40a646c7",
   "metadata": {},
   "outputs": [],
   "source": [
    "def plot_hist_normalized(this_column, this_scaler: [str] = \"standard_scaler\"):\n",
    "    if this_scaler == \"power_transformator\":\n",
    "        pt = PowerTransformer()\n",
    "        col_transformed_pt=pt.fit_transform(this_column.to_numpy().reshape(-1,1))\n",
    "        sns.displot(col_transformed_pt).set(title=f\"{this_column.name} - PowerTransformer\") \n",
    "    elif this_scaler == \"quantile_transformer\":\n",
    "        qt = QuantileTransformer(n_quantiles=500, output_distribution=\"normal\")\n",
    "        col_transformed_qt=qt.fit_transform(this_column.to_numpy().reshape(-1,1))\n",
    "        sns.displot(col_transformed_qt).set(title=f\"{this_column.name} - QuantileTransformer\")\n",
    "    else:\n",
    "        sc = StandardScaler()\n",
    "        col_transformed_sc=sc.fit_transform(this_column.to_numpy().reshape(-1,1))\n",
    "        sns.displot(col_transformed_sc).set(title=f\"{this_column.name} - StandardScaler\")"
   ]
  },
  {
   "cell_type": "code",
   "execution_count": 790,
   "id": "3555dc50",
   "metadata": {},
   "outputs": [],
   "source": [
    "def boxplots_for_all_numerical_cols(this_df):\n",
    "    fig, ax = plt.subplots(figsize=(10,10))\n",
    "    len_num_lst = len(split_column_names_by(this_df)[0])\n",
    "    i = 1\n",
    "    for col in split_column_names_by(this_df)[0]:            \n",
    "        plt.subplot(math.ceil(len_num_lst**.5),math.ceil(len_num_lst**.5),i)\n",
    "        sns.boxplot(y=this_df[col]).set(title=f\"{col}\")\n",
    "        i += 1"
   ]
  },
  {
   "cell_type": "code",
   "execution_count": 791,
   "id": "1452dd55",
   "metadata": {},
   "outputs": [],
   "source": [
    "def split_df_by(this_df, include_dtypes:[list]=[\"int\",\"float\"]):\n",
    "    \"\"\"takes in this_df, splits it into two NEW DF's by dtype of columns (default [\"int\",\"float\"]) \n",
    "       and returns tuple (incl_df, excl_df)\"\"\"\n",
    "    incl_lst = [_ for _ in this_df.select_dtypes(include=include_dtypes).dtypes.index]\n",
    "    excl_lst = [_ for _ in this_df.select_dtypes(exclude=include_dtypes).dtypes.index]\n",
    "    return (this_df[incl_lst], this_df[excl_lst])"
   ]
  },
  {
   "cell_type": "code",
   "execution_count": 792,
   "id": "a3c64454",
   "metadata": {},
   "outputs": [],
   "source": [
    "def all_numeric_to_int(this_df):\n",
    "    for col in this_df._get_numeric_data():\n",
    "        this_df[col] = this_df[col].astype(np.int64)\n",
    "    return this_df"
   ]
  },
  {
   "cell_type": "code",
   "execution_count": 793,
   "id": "d2969771",
   "metadata": {},
   "outputs": [],
   "source": [
    "def all_strings_lowercase(this_df):\n",
    "    for col in this_df:\n",
    "        this_df[col] = this_df[col].map(lambda x: x.lower() if isinstance(x,str) else x)\n",
    "    return this_df"
   ]
  },
  {
   "cell_type": "code",
   "execution_count": 794,
   "id": "f4ec575f",
   "metadata": {},
   "outputs": [],
   "source": [
    "def nan_values_of_all_columns(this_df, return_dict:[bool] = False):\n",
    "    \"\"\"prints (defaults) or returns dictionary of all columns in this_df and their respective nan-values\"\"\"\n",
    "    if not return_dict:\n",
    "        for col in this_df.columns:\n",
    "            print(col, this_df[col].isna().sum())\n",
    "        return\n",
    "    return {col:this_df[col].isna().sum() for col in this_df.columns}"
   ]
  },
  {
   "cell_type": "code",
   "execution_count": 795,
   "id": "ee5d03e4",
   "metadata": {},
   "outputs": [],
   "source": [
    "def extract_year_month(this_date:[str]=None):\n",
    "    # __author__ = \"Roman Kaltschew\"\n",
    "    \"\"\"takes this_date in format MM/DD/YYYY and returns YYYY_MM\"\"\"\n",
    "    if this_date:\n",
    "        return this_date.split(\"/\")[2]+\"_\"+this_date.split(\"/\")[0]\n",
    "    return None"
   ]
  },
  {
   "cell_type": "code",
   "execution_count": 796,
   "id": "289ff55a",
   "metadata": {},
   "outputs": [],
   "source": [
    "def extract_month(this_date:[str]=None, as_type:[str]=None):\n",
    "    # __author__ = \"Roman Kaltschew\"\n",
    "    \"\"\"takes this_date in format MM/DD/YYYY and returns MM as_type (default str)\"\"\"\n",
    "    if this_date:\n",
    "        if as_type == \"int\":\n",
    "            return int(this_date.split(\"/\")[0])\n",
    "        else:\n",
    "            return str(this_date.split(\"/\")[0])\n",
    "    return None"
   ]
  },
  {
   "cell_type": "code",
   "execution_count": 797,
   "id": "5e389d9a",
   "metadata": {},
   "outputs": [],
   "source": [
    "def plot_long_lat():\n",
    "    geometry = [Point(xy) for xy in zip(data['long'], data['lat'])]\n",
    "    gdf = GeoDataFrame(df, geometry=geometry)   \n",
    "\n",
    "    #this is a simple map that goes with geopandas\n",
    "    world = gpd.read_file(gpd.datasets.get_path('naturalearth_lowres'))\n",
    "    gdf.plot(ax=world.plot(figsize=(10, 6)), marker='o', color='red', markersize=15)\n",
    "    \n",
    "    fig = px.scatter_geo(data,lat='lat',lon='long') #, hover_name=\"id\")\n",
    "    fig.update_layout(title = 'World map', title_x=0.5)\n",
    "    fig.show()"
   ]
  },
  {
   "cell_type": "code",
   "execution_count": null,
   "id": "ea1d7c5c",
   "metadata": {},
   "outputs": [],
   "source": []
  },
  {
   "cell_type": "code",
   "execution_count": null,
   "id": "1acaba69",
   "metadata": {},
   "outputs": [],
   "source": []
  },
  {
   "cell_type": "markdown",
   "id": "bf5db63e",
   "metadata": {},
   "source": [
    "[top of notebook](#top)"
   ]
  },
  {
   "cell_type": "markdown",
   "id": "64a15385",
   "metadata": {},
   "source": [
    "<a id='read_clean'></a>\n",
    "\n",
    "## 2 Read and Clean"
   ]
  },
  {
   "cell_type": "code",
   "execution_count": 895,
   "id": "75c5afc0",
   "metadata": {},
   "outputs": [
    {
     "data": {
      "text/html": [
       "<div>\n",
       "<style scoped>\n",
       "    .dataframe tbody tr th:only-of-type {\n",
       "        vertical-align: middle;\n",
       "    }\n",
       "\n",
       "    .dataframe tbody tr th {\n",
       "        vertical-align: top;\n",
       "    }\n",
       "\n",
       "    .dataframe thead th {\n",
       "        text-align: right;\n",
       "    }\n",
       "</style>\n",
       "<table border=\"1\" class=\"dataframe\">\n",
       "  <thead>\n",
       "    <tr style=\"text-align: right;\">\n",
       "      <th></th>\n",
       "      <th>id</th>\n",
       "      <th>date</th>\n",
       "      <th>bedrooms</th>\n",
       "      <th>bathrooms</th>\n",
       "      <th>sqft_living</th>\n",
       "      <th>sqft_lot</th>\n",
       "      <th>floors</th>\n",
       "      <th>waterfront</th>\n",
       "      <th>view</th>\n",
       "      <th>condition</th>\n",
       "      <th>...</th>\n",
       "      <th>sqft_above</th>\n",
       "      <th>sqft_basement</th>\n",
       "      <th>yr_built</th>\n",
       "      <th>yr_renovated</th>\n",
       "      <th>zipcode</th>\n",
       "      <th>lat</th>\n",
       "      <th>long</th>\n",
       "      <th>sqft_living15</th>\n",
       "      <th>sqft_lot15</th>\n",
       "      <th>price</th>\n",
       "    </tr>\n",
       "  </thead>\n",
       "  <tbody>\n",
       "    <tr>\n",
       "      <th>0</th>\n",
       "      <td>7129300520</td>\n",
       "      <td>10/13/2014</td>\n",
       "      <td>3</td>\n",
       "      <td>1.00</td>\n",
       "      <td>1180</td>\n",
       "      <td>5650</td>\n",
       "      <td>1.0</td>\n",
       "      <td>0</td>\n",
       "      <td>0</td>\n",
       "      <td>3</td>\n",
       "      <td>...</td>\n",
       "      <td>1180</td>\n",
       "      <td>0</td>\n",
       "      <td>1955</td>\n",
       "      <td>0</td>\n",
       "      <td>98178</td>\n",
       "      <td>47.5112</td>\n",
       "      <td>-122.257</td>\n",
       "      <td>1340</td>\n",
       "      <td>5650</td>\n",
       "      <td>221900</td>\n",
       "    </tr>\n",
       "    <tr>\n",
       "      <th>1</th>\n",
       "      <td>6414100192</td>\n",
       "      <td>12/9/2014</td>\n",
       "      <td>3</td>\n",
       "      <td>2.25</td>\n",
       "      <td>2570</td>\n",
       "      <td>7242</td>\n",
       "      <td>2.0</td>\n",
       "      <td>0</td>\n",
       "      <td>0</td>\n",
       "      <td>3</td>\n",
       "      <td>...</td>\n",
       "      <td>2170</td>\n",
       "      <td>400</td>\n",
       "      <td>1951</td>\n",
       "      <td>1991</td>\n",
       "      <td>98125</td>\n",
       "      <td>47.7210</td>\n",
       "      <td>-122.319</td>\n",
       "      <td>1690</td>\n",
       "      <td>7639</td>\n",
       "      <td>538000</td>\n",
       "    </tr>\n",
       "    <tr>\n",
       "      <th>2</th>\n",
       "      <td>5631500400</td>\n",
       "      <td>2/25/2015</td>\n",
       "      <td>2</td>\n",
       "      <td>1.00</td>\n",
       "      <td>770</td>\n",
       "      <td>10000</td>\n",
       "      <td>1.0</td>\n",
       "      <td>0</td>\n",
       "      <td>0</td>\n",
       "      <td>3</td>\n",
       "      <td>...</td>\n",
       "      <td>770</td>\n",
       "      <td>0</td>\n",
       "      <td>1933</td>\n",
       "      <td>0</td>\n",
       "      <td>98028</td>\n",
       "      <td>47.7379</td>\n",
       "      <td>-122.233</td>\n",
       "      <td>2720</td>\n",
       "      <td>8062</td>\n",
       "      <td>180000</td>\n",
       "    </tr>\n",
       "    <tr>\n",
       "      <th>3</th>\n",
       "      <td>2487200875</td>\n",
       "      <td>12/9/2014</td>\n",
       "      <td>4</td>\n",
       "      <td>3.00</td>\n",
       "      <td>1960</td>\n",
       "      <td>5000</td>\n",
       "      <td>1.0</td>\n",
       "      <td>0</td>\n",
       "      <td>0</td>\n",
       "      <td>5</td>\n",
       "      <td>...</td>\n",
       "      <td>1050</td>\n",
       "      <td>910</td>\n",
       "      <td>1965</td>\n",
       "      <td>0</td>\n",
       "      <td>98136</td>\n",
       "      <td>47.5208</td>\n",
       "      <td>-122.393</td>\n",
       "      <td>1360</td>\n",
       "      <td>5000</td>\n",
       "      <td>604000</td>\n",
       "    </tr>\n",
       "    <tr>\n",
       "      <th>4</th>\n",
       "      <td>1954400510</td>\n",
       "      <td>2/18/2015</td>\n",
       "      <td>3</td>\n",
       "      <td>2.00</td>\n",
       "      <td>1680</td>\n",
       "      <td>8080</td>\n",
       "      <td>1.0</td>\n",
       "      <td>0</td>\n",
       "      <td>0</td>\n",
       "      <td>3</td>\n",
       "      <td>...</td>\n",
       "      <td>1680</td>\n",
       "      <td>0</td>\n",
       "      <td>1987</td>\n",
       "      <td>0</td>\n",
       "      <td>98074</td>\n",
       "      <td>47.6168</td>\n",
       "      <td>-122.045</td>\n",
       "      <td>1800</td>\n",
       "      <td>7503</td>\n",
       "      <td>510000</td>\n",
       "    </tr>\n",
       "  </tbody>\n",
       "</table>\n",
       "<p>5 rows × 21 columns</p>\n",
       "</div>"
      ],
      "text/plain": [
       "           id        date  bedrooms  bathrooms  sqft_living  sqft_lot  floors  \\\n",
       "0  7129300520  10/13/2014         3       1.00         1180      5650     1.0   \n",
       "1  6414100192   12/9/2014         3       2.25         2570      7242     2.0   \n",
       "2  5631500400   2/25/2015         2       1.00          770     10000     1.0   \n",
       "3  2487200875   12/9/2014         4       3.00         1960      5000     1.0   \n",
       "4  1954400510   2/18/2015         3       2.00         1680      8080     1.0   \n",
       "\n",
       "   waterfront  view  condition  ...  sqft_above  sqft_basement  yr_built  \\\n",
       "0           0     0          3  ...        1180              0      1955   \n",
       "1           0     0          3  ...        2170            400      1951   \n",
       "2           0     0          3  ...         770              0      1933   \n",
       "3           0     0          5  ...        1050            910      1965   \n",
       "4           0     0          3  ...        1680              0      1987   \n",
       "\n",
       "   yr_renovated  zipcode      lat     long  sqft_living15  sqft_lot15   price  \n",
       "0             0    98178  47.5112 -122.257           1340        5650  221900  \n",
       "1          1991    98125  47.7210 -122.319           1690        7639  538000  \n",
       "2             0    98028  47.7379 -122.233           2720        8062  180000  \n",
       "3             0    98136  47.5208 -122.393           1360        5000  604000  \n",
       "4             0    98074  47.6168 -122.045           1800        7503  510000  \n",
       "\n",
       "[5 rows x 21 columns]"
      ]
     },
     "execution_count": 895,
     "metadata": {},
     "output_type": "execute_result"
    }
   ],
   "source": [
    "data = pd.read_csv(\"data/regression_data.csv\")\n",
    "data.head()"
   ]
  },
  {
   "cell_type": "markdown",
   "id": "9f454faa",
   "metadata": {},
   "source": [
    "<a id=\"classifying_columns\"></a>\n",
    "### 2.1 Classifying columns"
   ]
  },
  {
   "cell_type": "markdown",
   "id": "abe90ac7",
   "metadata": {},
   "source": [
    "+ divide columns in numerical and discrete"
   ]
  },
  {
   "cell_type": "code",
   "execution_count": 896,
   "id": "feedcada",
   "metadata": {},
   "outputs": [
    {
     "name": "stdout",
     "output_type": "stream",
     "text": [
      "<class 'pandas.core.frame.DataFrame'>\n",
      "RangeIndex: 21597 entries, 0 to 21596\n",
      "Data columns (total 21 columns):\n",
      " #   Column         Non-Null Count  Dtype  \n",
      "---  ------         --------------  -----  \n",
      " 0   id             21597 non-null  int64  \n",
      " 1   date           21597 non-null  object \n",
      " 2   bedrooms       21597 non-null  int64  \n",
      " 3   bathrooms      21597 non-null  float64\n",
      " 4   sqft_living    21597 non-null  int64  \n",
      " 5   sqft_lot       21597 non-null  int64  \n",
      " 6   floors         21597 non-null  float64\n",
      " 7   waterfront     21597 non-null  int64  \n",
      " 8   view           21597 non-null  int64  \n",
      " 9   condition      21597 non-null  int64  \n",
      " 10  grade          21597 non-null  int64  \n",
      " 11  sqft_above     21597 non-null  int64  \n",
      " 12  sqft_basement  21597 non-null  int64  \n",
      " 13  yr_built       21597 non-null  int64  \n",
      " 14  yr_renovated   21597 non-null  int64  \n",
      " 15  zipcode        21597 non-null  int64  \n",
      " 16  lat            21597 non-null  float64\n",
      " 17  long           21597 non-null  float64\n",
      " 18  sqft_living15  21597 non-null  int64  \n",
      " 19  sqft_lot15     21597 non-null  int64  \n",
      " 20  price          21597 non-null  int64  \n",
      "dtypes: float64(4), int64(16), object(1)\n",
      "memory usage: 3.5+ MB\n"
     ]
    }
   ],
   "source": [
    "data.info()"
   ]
  },
  {
   "cell_type": "code",
   "execution_count": 1024,
   "id": "8613b635",
   "metadata": {},
   "outputs": [],
   "source": [
    "for col in [\"id\", \"view\", \"condition\", \"grade\", \"lat\", \"long\", \"zipcode\", \"waterfront\", \"floors\"]:\n",
    "    data[col] = data[col].astype('category')"
   ]
  },
  {
   "cell_type": "code",
   "execution_count": null,
   "id": "a8cbd183",
   "metadata": {},
   "outputs": [],
   "source": []
  },
  {
   "cell_type": "markdown",
   "id": "e870783d",
   "metadata": {},
   "source": [
    "[top of notebook](#top)"
   ]
  },
  {
   "cell_type": "markdown",
   "id": "4cf9dff0",
   "metadata": {},
   "source": [
    "<a id=\"numericals\"></a>\n",
    "### 2.2 Numericals"
   ]
  },
  {
   "cell_type": "markdown",
   "id": "9dc9f8d3",
   "metadata": {},
   "source": [
    "#### 2.2.1 Check for NaNs"
   ]
  },
  {
   "cell_type": "code",
   "execution_count": 1025,
   "id": "edb03ec5",
   "metadata": {},
   "outputs": [
    {
     "name": "stdout",
     "output_type": "stream",
     "text": [
      "bedrooms 0\n",
      "bathrooms 0\n",
      "sqft_living 0\n",
      "sqft_lot 0\n",
      "sqft_above 0\n",
      "sqft_basement 0\n",
      "yr_built 0\n",
      "yr_renovated 0\n",
      "sqft_living15 0\n",
      "sqft_lot15 0\n",
      "price 0\n"
     ]
    }
   ],
   "source": [
    "nan_values_of_all_columns(data[split_column_names_by(data)[0]])"
   ]
  },
  {
   "cell_type": "markdown",
   "id": "867f7334",
   "metadata": {},
   "source": [
    "#### 2.2.2 Boxplots - check for outliers"
   ]
  },
  {
   "cell_type": "code",
   "execution_count": 1026,
   "id": "f8d34db7",
   "metadata": {},
   "outputs": [
    {
     "data": {
      "image/png": "[encoded data removed]",
      "text/plain": [
       "<Figure size 720x720 with 11 Axes>"
      ]
     },
     "metadata": {
      "needs_background": "light"
     },
     "output_type": "display_data"
    }
   ],
   "source": [
    "boxplots_for_all_numerical_cols(data)"
   ]
  },
  {
   "cell_type": "markdown",
   "id": "b6726f33",
   "metadata": {},
   "source": [
    "##### bedroom outlier"
   ]
  },
  {
   "cell_type": "code",
   "execution_count": 1027,
   "id": "bb3a2399",
   "metadata": {},
   "outputs": [
    {
     "data": {
      "text/html": [
       "<div>\n",
       "<style scoped>\n",
       "    .dataframe tbody tr th:only-of-type {\n",
       "        vertical-align: middle;\n",
       "    }\n",
       "\n",
       "    .dataframe tbody tr th {\n",
       "        vertical-align: top;\n",
       "    }\n",
       "\n",
       "    .dataframe thead th {\n",
       "        text-align: right;\n",
       "    }\n",
       "</style>\n",
       "<table border=\"1\" class=\"dataframe\">\n",
       "  <thead>\n",
       "    <tr style=\"text-align: right;\">\n",
       "      <th></th>\n",
       "      <th>bedrooms</th>\n",
       "      <th>sqft_living</th>\n",
       "    </tr>\n",
       "  </thead>\n",
       "  <tbody>\n",
       "    <tr>\n",
       "      <th>8748</th>\n",
       "      <td>11</td>\n",
       "      <td>3000</td>\n",
       "    </tr>\n",
       "  </tbody>\n",
       "</table>\n",
       "</div>"
      ],
      "text/plain": [
       "      bedrooms  sqft_living\n",
       "8748        11         3000"
      ]
     },
     "execution_count": 1027,
     "metadata": {},
     "output_type": "execute_result"
    }
   ],
   "source": [
    "data[data[\"bedrooms\"] == max(data[\"bedrooms\"])][[\"bedrooms\",\"sqft_living\"]]"
   ]
  },
  {
   "cell_type": "code",
   "execution_count": 1028,
   "id": "af520d77",
   "metadata": {},
   "outputs": [
    {
     "name": "stdout",
     "output_type": "stream",
     "text": [
      "Average living space of tree bedrooms: 1805.82\n",
      "Average living space of two bedrooms: 1239.75\n"
     ]
    }
   ],
   "source": [
    "print(f\"Average living space of tree bedrooms: {round(np.mean(data[data['bedrooms']==3]['sqft_living']), 2)}\")\n",
    "print(f\"Average living space of two bedrooms: {round(np.mean(data[data['bedrooms']==2]['sqft_living']), 2)}\")"
   ]
  },
  {
   "cell_type": "markdown",
   "id": "b30d5783",
   "metadata": {},
   "source": [
    "+ it is likely, that the 33 is a typo, it will be changed to 3"
   ]
  },
  {
   "cell_type": "code",
   "execution_count": 1029,
   "id": "5926cefe",
   "metadata": {},
   "outputs": [],
   "source": [
    "data.at[15856,\"bedrooms\"] = 3"
   ]
  },
  {
   "cell_type": "markdown",
   "id": "8878c84a",
   "metadata": {},
   "source": [
    "##### sqft_lot outlier"
   ]
  },
  {
   "cell_type": "code",
   "execution_count": 1030,
   "id": "935db30f",
   "metadata": {},
   "outputs": [
    {
     "name": "stdout",
     "output_type": "stream",
     "text": [
      "       bedrooms  sqft_lot\n",
      "17305         2   1164794\n"
     ]
    }
   ],
   "source": [
    "print(data[data[\"sqft_lot\"] == max(data[\"sqft_lot\"])][[\"bedrooms\",\"sqft_lot\"]])"
   ]
  },
  {
   "cell_type": "code",
   "execution_count": 1031,
   "id": "b3ce4e94",
   "metadata": {},
   "outputs": [
    {
     "name": "stdout",
     "output_type": "stream",
     "text": [
      "Average lot in ft² of four bedrooms: 16483.24\n"
     ]
    }
   ],
   "source": [
    "print(f\"Average lot in ft² of four bedrooms: {round(np.mean(data[data['bedrooms']==4]['sqft_lot']), 2)}\")\n"
   ]
  },
  {
   "cell_type": "markdown",
   "id": "0fac4a8c",
   "metadata": {},
   "source": [
    "+ it is likely, that a comma was forgotton, sqft_lot will be set to 16513.59"
   ]
  },
  {
   "cell_type": "code",
   "execution_count": 1032,
   "id": "c95b6e79",
   "metadata": {},
   "outputs": [],
   "source": [
    "data.at[1717,\"sqft_lot\"] = 16513.59"
   ]
  },
  {
   "cell_type": "markdown",
   "id": "e3393c4e",
   "metadata": {},
   "source": [
    "##### sqft_living"
   ]
  },
  {
   "cell_type": "code",
   "execution_count": 1033,
   "id": "1488494d",
   "metadata": {},
   "outputs": [
    {
     "data": {
      "text/html": [
       "<div>\n",
       "<style scoped>\n",
       "    .dataframe tbody tr th:only-of-type {\n",
       "        vertical-align: middle;\n",
       "    }\n",
       "\n",
       "    .dataframe tbody tr th {\n",
       "        vertical-align: top;\n",
       "    }\n",
       "\n",
       "    .dataframe thead th {\n",
       "        text-align: right;\n",
       "    }\n",
       "</style>\n",
       "<table border=\"1\" class=\"dataframe\">\n",
       "  <thead>\n",
       "    <tr style=\"text-align: right;\">\n",
       "      <th></th>\n",
       "      <th>id</th>\n",
       "      <th>date</th>\n",
       "      <th>bedrooms</th>\n",
       "      <th>bathrooms</th>\n",
       "      <th>sqft_living</th>\n",
       "      <th>sqft_lot</th>\n",
       "      <th>floors</th>\n",
       "      <th>waterfront</th>\n",
       "      <th>view</th>\n",
       "      <th>condition</th>\n",
       "      <th>...</th>\n",
       "      <th>sqft_basement</th>\n",
       "      <th>yr_built</th>\n",
       "      <th>yr_renovated</th>\n",
       "      <th>zipcode</th>\n",
       "      <th>lat</th>\n",
       "      <th>long</th>\n",
       "      <th>sqft_living15</th>\n",
       "      <th>sqft_lot15</th>\n",
       "      <th>price</th>\n",
       "      <th>month_sold</th>\n",
       "    </tr>\n",
       "  </thead>\n",
       "  <tbody>\n",
       "    <tr>\n",
       "      <th>12764</th>\n",
       "      <td>1225069038</td>\n",
       "      <td>5/5/2014</td>\n",
       "      <td>7</td>\n",
       "      <td>8.0</td>\n",
       "      <td>13540</td>\n",
       "      <td>307752</td>\n",
       "      <td>3.0</td>\n",
       "      <td>0</td>\n",
       "      <td>4</td>\n",
       "      <td>3</td>\n",
       "      <td>...</td>\n",
       "      <td>4130</td>\n",
       "      <td>1999</td>\n",
       "      <td>0</td>\n",
       "      <td>98053</td>\n",
       "      <td>47.6675</td>\n",
       "      <td>-121.986</td>\n",
       "      <td>4850</td>\n",
       "      <td>217800</td>\n",
       "      <td>2280000</td>\n",
       "      <td>5</td>\n",
       "    </tr>\n",
       "  </tbody>\n",
       "</table>\n",
       "<p>1 rows × 22 columns</p>\n",
       "</div>"
      ],
      "text/plain": [
       "               id      date  bedrooms  bathrooms  sqft_living  sqft_lot  \\\n",
       "12764  1225069038  5/5/2014         7        8.0        13540    307752   \n",
       "\n",
       "      floors waterfront view condition  ... sqft_basement  yr_built  \\\n",
       "12764    3.0          0    4         3  ...          4130      1999   \n",
       "\n",
       "       yr_renovated  zipcode      lat     long sqft_living15 sqft_lot15  \\\n",
       "12764             0    98053  47.6675 -121.986          4850     217800   \n",
       "\n",
       "         price  month_sold  \n",
       "12764  2280000           5  \n",
       "\n",
       "[1 rows x 22 columns]"
      ]
     },
     "execution_count": 1033,
     "metadata": {},
     "output_type": "execute_result"
    }
   ],
   "source": [
    "# max sqft_living\n",
    "data[data[\"sqft_living\"] == max(data[\"sqft_living\"])]"
   ]
  },
  {
   "cell_type": "code",
   "execution_count": 1034,
   "id": "a7383cc5",
   "metadata": {},
   "outputs": [
    {
     "data": {
      "text/html": [
       "<div>\n",
       "<style scoped>\n",
       "    .dataframe tbody tr th:only-of-type {\n",
       "        vertical-align: middle;\n",
       "    }\n",
       "\n",
       "    .dataframe tbody tr th {\n",
       "        vertical-align: top;\n",
       "    }\n",
       "\n",
       "    .dataframe thead th {\n",
       "        text-align: right;\n",
       "    }\n",
       "</style>\n",
       "<table border=\"1\" class=\"dataframe\">\n",
       "  <thead>\n",
       "    <tr style=\"text-align: right;\">\n",
       "      <th></th>\n",
       "      <th>id</th>\n",
       "      <th>date</th>\n",
       "      <th>bedrooms</th>\n",
       "      <th>bathrooms</th>\n",
       "      <th>sqft_living</th>\n",
       "      <th>sqft_lot</th>\n",
       "      <th>floors</th>\n",
       "      <th>waterfront</th>\n",
       "      <th>view</th>\n",
       "      <th>condition</th>\n",
       "      <th>...</th>\n",
       "      <th>sqft_basement</th>\n",
       "      <th>yr_built</th>\n",
       "      <th>yr_renovated</th>\n",
       "      <th>zipcode</th>\n",
       "      <th>lat</th>\n",
       "      <th>long</th>\n",
       "      <th>sqft_living15</th>\n",
       "      <th>sqft_lot15</th>\n",
       "      <th>price</th>\n",
       "      <th>month_sold</th>\n",
       "    </tr>\n",
       "  </thead>\n",
       "  <tbody>\n",
       "    <tr>\n",
       "      <th>3910</th>\n",
       "      <td>9808700762</td>\n",
       "      <td>6/11/2014</td>\n",
       "      <td>5</td>\n",
       "      <td>4.5</td>\n",
       "      <td>10040</td>\n",
       "      <td>37325</td>\n",
       "      <td>2.0</td>\n",
       "      <td>1</td>\n",
       "      <td>2</td>\n",
       "      <td>3</td>\n",
       "      <td>...</td>\n",
       "      <td>2360</td>\n",
       "      <td>1940</td>\n",
       "      <td>2001</td>\n",
       "      <td>98004</td>\n",
       "      <td>47.6500</td>\n",
       "      <td>-122.214</td>\n",
       "      <td>3930</td>\n",
       "      <td>25449</td>\n",
       "      <td>7060000</td>\n",
       "      <td>6</td>\n",
       "    </tr>\n",
       "    <tr>\n",
       "      <th>7245</th>\n",
       "      <td>6762700020</td>\n",
       "      <td>10/13/2014</td>\n",
       "      <td>6</td>\n",
       "      <td>8.0</td>\n",
       "      <td>12050</td>\n",
       "      <td>27600</td>\n",
       "      <td>2.5</td>\n",
       "      <td>0</td>\n",
       "      <td>3</td>\n",
       "      <td>4</td>\n",
       "      <td>...</td>\n",
       "      <td>3480</td>\n",
       "      <td>1910</td>\n",
       "      <td>1987</td>\n",
       "      <td>98102</td>\n",
       "      <td>47.6298</td>\n",
       "      <td>-122.323</td>\n",
       "      <td>3940</td>\n",
       "      <td>8800</td>\n",
       "      <td>7700000</td>\n",
       "      <td>10</td>\n",
       "    </tr>\n",
       "    <tr>\n",
       "      <th>12764</th>\n",
       "      <td>1225069038</td>\n",
       "      <td>5/5/2014</td>\n",
       "      <td>7</td>\n",
       "      <td>8.0</td>\n",
       "      <td>13540</td>\n",
       "      <td>307752</td>\n",
       "      <td>3.0</td>\n",
       "      <td>0</td>\n",
       "      <td>4</td>\n",
       "      <td>3</td>\n",
       "      <td>...</td>\n",
       "      <td>4130</td>\n",
       "      <td>1999</td>\n",
       "      <td>0</td>\n",
       "      <td>98053</td>\n",
       "      <td>47.6675</td>\n",
       "      <td>-121.986</td>\n",
       "      <td>4850</td>\n",
       "      <td>217800</td>\n",
       "      <td>2280000</td>\n",
       "      <td>5</td>\n",
       "    </tr>\n",
       "  </tbody>\n",
       "</table>\n",
       "<p>3 rows × 22 columns</p>\n",
       "</div>"
      ],
      "text/plain": [
       "               id        date  bedrooms  bathrooms  sqft_living  sqft_lot  \\\n",
       "3910   9808700762   6/11/2014         5        4.5        10040     37325   \n",
       "7245   6762700020  10/13/2014         6        8.0        12050     27600   \n",
       "12764  1225069038    5/5/2014         7        8.0        13540    307752   \n",
       "\n",
       "      floors waterfront view condition  ... sqft_basement  yr_built  \\\n",
       "3910     2.0          1    2         3  ...          2360      1940   \n",
       "7245     2.5          0    3         4  ...          3480      1910   \n",
       "12764    3.0          0    4         3  ...          4130      1999   \n",
       "\n",
       "       yr_renovated  zipcode      lat     long sqft_living15 sqft_lot15  \\\n",
       "3910           2001    98004  47.6500 -122.214          3930      25449   \n",
       "7245           1987    98102  47.6298 -122.323          3940       8800   \n",
       "12764             0    98053  47.6675 -121.986          4850     217800   \n",
       "\n",
       "         price  month_sold  \n",
       "3910   7060000           6  \n",
       "7245   7700000          10  \n",
       "12764  2280000           5  \n",
       "\n",
       "[3 rows x 22 columns]"
      ]
     },
     "execution_count": 1034,
     "metadata": {},
     "output_type": "execute_result"
    }
   ],
   "source": [
    "# sqft_living > 10000\n",
    "data[data[\"sqft_living\"] > 10000]"
   ]
  },
  {
   "cell_type": "markdown",
   "id": "ecad52f4",
   "metadata": {},
   "source": [
    "consider dropping these for modelling, as they don't represent a \"normal\" property in this dataset"
   ]
  },
  {
   "cell_type": "markdown",
   "id": "0b0d2ab8",
   "metadata": {},
   "source": [
    "##### sqft_basement"
   ]
  },
  {
   "cell_type": "code",
   "execution_count": 1035,
   "id": "0187a262",
   "metadata": {},
   "outputs": [
    {
     "data": {
      "text/html": [
       "<div>\n",
       "<style scoped>\n",
       "    .dataframe tbody tr th:only-of-type {\n",
       "        vertical-align: middle;\n",
       "    }\n",
       "\n",
       "    .dataframe tbody tr th {\n",
       "        vertical-align: top;\n",
       "    }\n",
       "\n",
       "    .dataframe thead th {\n",
       "        text-align: right;\n",
       "    }\n",
       "</style>\n",
       "<table border=\"1\" class=\"dataframe\">\n",
       "  <thead>\n",
       "    <tr style=\"text-align: right;\">\n",
       "      <th></th>\n",
       "      <th>id</th>\n",
       "      <th>date</th>\n",
       "      <th>bedrooms</th>\n",
       "      <th>bathrooms</th>\n",
       "      <th>sqft_living</th>\n",
       "      <th>sqft_lot</th>\n",
       "      <th>floors</th>\n",
       "      <th>waterfront</th>\n",
       "      <th>view</th>\n",
       "      <th>condition</th>\n",
       "      <th>...</th>\n",
       "      <th>sqft_basement</th>\n",
       "      <th>yr_built</th>\n",
       "      <th>yr_renovated</th>\n",
       "      <th>zipcode</th>\n",
       "      <th>lat</th>\n",
       "      <th>long</th>\n",
       "      <th>sqft_living15</th>\n",
       "      <th>sqft_lot15</th>\n",
       "      <th>price</th>\n",
       "      <th>month_sold</th>\n",
       "    </tr>\n",
       "  </thead>\n",
       "  <tbody>\n",
       "    <tr>\n",
       "      <th>8085</th>\n",
       "      <td>1924059029</td>\n",
       "      <td>6/17/2014</td>\n",
       "      <td>5</td>\n",
       "      <td>6.75</td>\n",
       "      <td>9640</td>\n",
       "      <td>13068</td>\n",
       "      <td>1.0</td>\n",
       "      <td>1</td>\n",
       "      <td>4</td>\n",
       "      <td>3</td>\n",
       "      <td>...</td>\n",
       "      <td>4820</td>\n",
       "      <td>1983</td>\n",
       "      <td>2009</td>\n",
       "      <td>98040</td>\n",
       "      <td>47.557</td>\n",
       "      <td>-122.21</td>\n",
       "      <td>3270</td>\n",
       "      <td>10454</td>\n",
       "      <td>4670000</td>\n",
       "      <td>6</td>\n",
       "    </tr>\n",
       "  </tbody>\n",
       "</table>\n",
       "<p>1 rows × 22 columns</p>\n",
       "</div>"
      ],
      "text/plain": [
       "              id       date  bedrooms  bathrooms  sqft_living  sqft_lot  \\\n",
       "8085  1924059029  6/17/2014         5       6.75         9640     13068   \n",
       "\n",
       "     floors waterfront view condition  ... sqft_basement  yr_built  \\\n",
       "8085    1.0          1    4         3  ...          4820      1983   \n",
       "\n",
       "      yr_renovated  zipcode     lat    long sqft_living15 sqft_lot15    price  \\\n",
       "8085          2009    98040  47.557 -122.21          3270      10454  4670000   \n",
       "\n",
       "      month_sold  \n",
       "8085           6  \n",
       "\n",
       "[1 rows x 22 columns]"
      ]
     },
     "execution_count": 1035,
     "metadata": {},
     "output_type": "execute_result"
    }
   ],
   "source": [
    "# max sqft_basement\n",
    "data[data[\"sqft_basement\"] == max(data[\"sqft_basement\"])]"
   ]
  },
  {
   "cell_type": "code",
   "execution_count": 1036,
   "id": "74d758bf",
   "metadata": {},
   "outputs": [
    {
     "name": "stdout",
     "output_type": "stream",
     "text": [
      "Average sqft_basement of five bedrooms: 639.98\n",
      "Average sqft_above of five bedrooms: 2407.57\n"
     ]
    }
   ],
   "source": [
    "print(f\"Average sqft_basement of five bedrooms: {round(np.mean(data[data['bedrooms']==5]['sqft_basement']), 2)}\")\n",
    "print(f\"Average sqft_above of five bedrooms: {round(np.mean(data[data['bedrooms']==5]['sqft_above']), 2)}\")"
   ]
  },
  {
   "cell_type": "markdown",
   "id": "18dcc3bc",
   "metadata": {},
   "source": [
    "**??????????????**"
   ]
  },
  {
   "cell_type": "markdown",
   "id": "60938907",
   "metadata": {},
   "source": [
    "##### Next outlier"
   ]
  },
  {
   "cell_type": "code",
   "execution_count": 1037,
   "id": "63aeef2a",
   "metadata": {},
   "outputs": [
    {
     "data": {
      "text/html": [
       "<div>\n",
       "<style scoped>\n",
       "    .dataframe tbody tr th:only-of-type {\n",
       "        vertical-align: middle;\n",
       "    }\n",
       "\n",
       "    .dataframe tbody tr th {\n",
       "        vertical-align: top;\n",
       "    }\n",
       "\n",
       "    .dataframe thead th {\n",
       "        text-align: right;\n",
       "    }\n",
       "</style>\n",
       "<table border=\"1\" class=\"dataframe\">\n",
       "  <thead>\n",
       "    <tr style=\"text-align: right;\">\n",
       "      <th></th>\n",
       "      <th>id</th>\n",
       "      <th>date</th>\n",
       "      <th>bedrooms</th>\n",
       "      <th>bathrooms</th>\n",
       "      <th>sqft_living</th>\n",
       "      <th>sqft_lot</th>\n",
       "      <th>floors</th>\n",
       "      <th>waterfront</th>\n",
       "      <th>view</th>\n",
       "      <th>condition</th>\n",
       "      <th>...</th>\n",
       "      <th>sqft_basement</th>\n",
       "      <th>yr_built</th>\n",
       "      <th>yr_renovated</th>\n",
       "      <th>zipcode</th>\n",
       "      <th>lat</th>\n",
       "      <th>long</th>\n",
       "      <th>sqft_living15</th>\n",
       "      <th>sqft_lot15</th>\n",
       "      <th>price</th>\n",
       "      <th>month_sold</th>\n",
       "    </tr>\n",
       "  </thead>\n",
       "  <tbody>\n",
       "    <tr>\n",
       "      <th>9705</th>\n",
       "      <td>225079036</td>\n",
       "      <td>1/7/2015</td>\n",
       "      <td>4</td>\n",
       "      <td>4.0</td>\n",
       "      <td>5545</td>\n",
       "      <td>871200</td>\n",
       "      <td>2.0</td>\n",
       "      <td>0</td>\n",
       "      <td>0</td>\n",
       "      <td>3</td>\n",
       "      <td>...</td>\n",
       "      <td>1940</td>\n",
       "      <td>2003</td>\n",
       "      <td>0</td>\n",
       "      <td>98014</td>\n",
       "      <td>47.676</td>\n",
       "      <td>-121.882</td>\n",
       "      <td>3420</td>\n",
       "      <td>871200</td>\n",
       "      <td>937500</td>\n",
       "      <td>1</td>\n",
       "    </tr>\n",
       "  </tbody>\n",
       "</table>\n",
       "<p>1 rows × 22 columns</p>\n",
       "</div>"
      ],
      "text/plain": [
       "             id      date  bedrooms  bathrooms  sqft_living  sqft_lot floors  \\\n",
       "9705  225079036  1/7/2015         4        4.0         5545    871200    2.0   \n",
       "\n",
       "     waterfront view condition  ... sqft_basement  yr_built  yr_renovated  \\\n",
       "9705          0    0         3  ...          1940      2003             0   \n",
       "\n",
       "      zipcode     lat     long sqft_living15 sqft_lot15   price  month_sold  \n",
       "9705    98014  47.676 -121.882          3420     871200  937500           1  \n",
       "\n",
       "[1 rows x 22 columns]"
      ]
     },
     "execution_count": 1037,
     "metadata": {},
     "output_type": "execute_result"
    }
   ],
   "source": [
    "(data[data[\"sqft_lot15\"] == max(data[\"sqft_lot15\"])])#[[\"bedrooms\",\"sqft_lot\"]])"
   ]
  },
  {
   "cell_type": "code",
   "execution_count": 1038,
   "id": "6fc887cb",
   "metadata": {},
   "outputs": [
    {
     "data": {
      "text/html": [
       "<div>\n",
       "<style scoped>\n",
       "    .dataframe tbody tr th:only-of-type {\n",
       "        vertical-align: middle;\n",
       "    }\n",
       "\n",
       "    .dataframe tbody tr th {\n",
       "        vertical-align: top;\n",
       "    }\n",
       "\n",
       "    .dataframe thead th {\n",
       "        text-align: right;\n",
       "    }\n",
       "</style>\n",
       "<table border=\"1\" class=\"dataframe\">\n",
       "  <thead>\n",
       "    <tr style=\"text-align: right;\">\n",
       "      <th></th>\n",
       "      <th>id</th>\n",
       "      <th>date</th>\n",
       "      <th>bedrooms</th>\n",
       "      <th>bathrooms</th>\n",
       "      <th>sqft_living</th>\n",
       "      <th>sqft_lot</th>\n",
       "      <th>floors</th>\n",
       "      <th>waterfront</th>\n",
       "      <th>view</th>\n",
       "      <th>condition</th>\n",
       "      <th>...</th>\n",
       "      <th>sqft_basement</th>\n",
       "      <th>yr_built</th>\n",
       "      <th>yr_renovated</th>\n",
       "      <th>zipcode</th>\n",
       "      <th>lat</th>\n",
       "      <th>long</th>\n",
       "      <th>sqft_living15</th>\n",
       "      <th>sqft_lot15</th>\n",
       "      <th>price</th>\n",
       "      <th>month_sold</th>\n",
       "    </tr>\n",
       "  </thead>\n",
       "  <tbody>\n",
       "    <tr>\n",
       "      <th>9705</th>\n",
       "      <td>225079036</td>\n",
       "      <td>1/7/2015</td>\n",
       "      <td>4</td>\n",
       "      <td>4.0</td>\n",
       "      <td>5545</td>\n",
       "      <td>871200</td>\n",
       "      <td>2.0</td>\n",
       "      <td>0</td>\n",
       "      <td>0</td>\n",
       "      <td>3</td>\n",
       "      <td>...</td>\n",
       "      <td>1940</td>\n",
       "      <td>2003</td>\n",
       "      <td>0</td>\n",
       "      <td>98014</td>\n",
       "      <td>47.676</td>\n",
       "      <td>-121.882</td>\n",
       "      <td>3420</td>\n",
       "      <td>871200</td>\n",
       "      <td>937500</td>\n",
       "      <td>1</td>\n",
       "    </tr>\n",
       "  </tbody>\n",
       "</table>\n",
       "<p>1 rows × 22 columns</p>\n",
       "</div>"
      ],
      "text/plain": [
       "             id      date  bedrooms  bathrooms  sqft_living  sqft_lot floors  \\\n",
       "9705  225079036  1/7/2015         4        4.0         5545    871200    2.0   \n",
       "\n",
       "     waterfront view condition  ... sqft_basement  yr_built  yr_renovated  \\\n",
       "9705          0    0         3  ...          1940      2003             0   \n",
       "\n",
       "      zipcode     lat     long sqft_living15 sqft_lot15   price  month_sold  \n",
       "9705    98014  47.676 -121.882          3420     871200  937500           1  \n",
       "\n",
       "[1 rows x 22 columns]"
      ]
     },
     "execution_count": 1038,
     "metadata": {},
     "output_type": "execute_result"
    }
   ],
   "source": [
    "(data[data[\"sqft_lot15\"] == max(data[\"sqft_lot15\"])])#[[\"bedrooms\",\"sqft_lot\"]])"
   ]
  },
  {
   "cell_type": "code",
   "execution_count": 1039,
   "id": "62601ae9",
   "metadata": {},
   "outputs": [
    {
     "data": {
      "text/plain": [
       "5000     427\n",
       "4000     356\n",
       "6000     288\n",
       "7200     210\n",
       "4800     145\n",
       "        ... \n",
       "10170      1\n",
       "10573      1\n",
       "11477      1\n",
       "1449       1\n",
       "2007       1\n",
       "Name: sqft_lot15, Length: 8682, dtype: int64"
      ]
     },
     "execution_count": 1039,
     "metadata": {},
     "output_type": "execute_result"
    }
   ],
   "source": [
    "data.sqft_lot15.value_counts()"
   ]
  },
  {
   "cell_type": "markdown",
   "id": "07783d5e",
   "metadata": {},
   "source": [
    "##### Year renovated"
   ]
  },
  {
   "cell_type": "code",
   "execution_count": 1040,
   "id": "56c126d6",
   "metadata": {},
   "outputs": [
    {
     "data": {
      "text/plain": [
       "0       20683\n",
       "2014       91\n",
       "2013       37\n",
       "2003       36\n",
       "2005       35\n",
       "        ...  \n",
       "1951        1\n",
       "1959        1\n",
       "1948        1\n",
       "1954        1\n",
       "1944        1\n",
       "Name: yr_renovated, Length: 70, dtype: int64"
      ]
     },
     "execution_count": 1040,
     "metadata": {},
     "output_type": "execute_result"
    }
   ],
   "source": [
    "data[\"yr_renovated\"].value_counts()  "
   ]
  },
  {
   "cell_type": "markdown",
   "id": "503944df",
   "metadata": {},
   "source": [
    "Unlikely, that most of the buildings were not renovated... drop column b/c incomplete"
   ]
  },
  {
   "cell_type": "code",
   "execution_count": null,
   "id": "697c3d98",
   "metadata": {},
   "outputs": [],
   "source": []
  },
  {
   "cell_type": "code",
   "execution_count": null,
   "id": "a50e2e27",
   "metadata": {},
   "outputs": [],
   "source": []
  },
  {
   "cell_type": "code",
   "execution_count": null,
   "id": "88738d9e",
   "metadata": {},
   "outputs": [],
   "source": []
  },
  {
   "cell_type": "code",
   "execution_count": null,
   "id": "76f179cf",
   "metadata": {},
   "outputs": [],
   "source": []
  },
  {
   "cell_type": "code",
   "execution_count": null,
   "id": "cd1ae399",
   "metadata": {},
   "outputs": [],
   "source": []
  },
  {
   "cell_type": "code",
   "execution_count": 1041,
   "id": "43712cdb",
   "metadata": {},
   "outputs": [],
   "source": [
    "# placeholder"
   ]
  },
  {
   "cell_type": "code",
   "execution_count": 1042,
   "id": "3bcd9220",
   "metadata": {},
   "outputs": [
    {
     "data": {
      "image/png": "[encoded data removed]",
      "text/plain": [
       "<Figure size 720x720 with 11 Axes>"
      ]
     },
     "metadata": {
      "needs_background": "light"
     },
     "output_type": "display_data"
    }
   ],
   "source": [
    "boxplots_for_all_numerical_cols(data)"
   ]
  },
  {
   "cell_type": "markdown",
   "id": "77735507",
   "metadata": {},
   "source": [
    "#### 2.1.4 Change all numeric values to integer ???"
   ]
  },
  {
   "cell_type": "markdown",
   "id": "49e91036",
   "metadata": {},
   "source": [
    "+ no, as most of the data is already numerical and some data shouldn't be (long, lat, rooms, ...)"
   ]
  },
  {
   "cell_type": "code",
   "execution_count": 1043,
   "id": "459f7bc4",
   "metadata": {},
   "outputs": [],
   "source": [
    "# data = all_numeric_to_int(ca_df)"
   ]
  },
  {
   "cell_type": "markdown",
   "id": "9024af04",
   "metadata": {},
   "source": [
    "<a id = \"categoricals\"></a>\n",
    "### 2.3 Categorical columns"
   ]
  },
  {
   "cell_type": "markdown",
   "id": "cb395932",
   "metadata": {},
   "source": [
    "#### 2.2.1 Check for NaNs"
   ]
  },
  {
   "cell_type": "code",
   "execution_count": 1044,
   "id": "eb5f628a",
   "metadata": {},
   "outputs": [
    {
     "name": "stdout",
     "output_type": "stream",
     "text": [
      "id 0\n",
      "date 0\n",
      "floors 0\n",
      "waterfront 0\n",
      "view 0\n",
      "condition 0\n",
      "grade 0\n",
      "zipcode 0\n",
      "lat 0\n",
      "long 0\n",
      "month_sold 0\n"
     ]
    }
   ],
   "source": [
    "nan_values_of_all_columns(data[split_column_names_by(data)[1]])"
   ]
  },
  {
   "cell_type": "markdown",
   "id": "c9fce9f9",
   "metadata": {},
   "source": [
    "+ create month_sold column"
   ]
  },
  {
   "cell_type": "code",
   "execution_count": 1045,
   "id": "c1013873",
   "metadata": {},
   "outputs": [],
   "source": [
    "data[\"month_sold\"] = list(map(extract_month, data[\"date\"]))"
   ]
  },
  {
   "cell_type": "code",
   "execution_count": 1046,
   "id": "fa79ccff",
   "metadata": {},
   "outputs": [],
   "source": [
    "data[\"month_sold\"] = data[\"month_sold\"].astype('category')"
   ]
  },
  {
   "cell_type": "markdown",
   "id": "d92c806b",
   "metadata": {},
   "source": [
    "<a id=\"drop_columns\"></a>\n",
    "### 2.4 Create modelling dataframe by dropping some columns"
   ]
  },
  {
   "cell_type": "code",
   "execution_count": 1047,
   "id": "6872db1b",
   "metadata": {},
   "outputs": [
    {
     "data": {
      "text/plain": [
       "Index(['id', 'date', 'bedrooms', 'bathrooms', 'sqft_living', 'sqft_lot',\n",
       "       'floors', 'waterfront', 'view', 'condition', 'grade', 'sqft_above',\n",
       "       'sqft_basement', 'yr_built', 'yr_renovated', 'zipcode', 'lat', 'long',\n",
       "       'sqft_living15', 'sqft_lot15', 'price', 'month_sold'],\n",
       "      dtype='object')"
      ]
     },
     "execution_count": 1047,
     "metadata": {},
     "output_type": "execute_result"
    }
   ],
   "source": [
    "data.columns"
   ]
  },
  {
   "cell_type": "code",
   "execution_count": 1048,
   "id": "f8a36469",
   "metadata": {},
   "outputs": [],
   "source": [
    "model_df = data.copy()\n",
    "model_df.drop([\"id\", \"date\", \"lat\", \"long\", \"yr_renovated\"], axis=1, inplace=True)"
   ]
  },
  {
   "cell_type": "code",
   "execution_count": null,
   "id": "2fae4fb4",
   "metadata": {},
   "outputs": [],
   "source": [
    "data."
   ]
  },
  {
   "cell_type": "code",
   "execution_count": 1049,
   "id": "019beeca",
   "metadata": {},
   "outputs": [
    {
     "data": {
      "text/html": [
       "<div>\n",
       "<style scoped>\n",
       "    .dataframe tbody tr th:only-of-type {\n",
       "        vertical-align: middle;\n",
       "    }\n",
       "\n",
       "    .dataframe tbody tr th {\n",
       "        vertical-align: top;\n",
       "    }\n",
       "\n",
       "    .dataframe thead th {\n",
       "        text-align: right;\n",
       "    }\n",
       "</style>\n",
       "<table border=\"1\" class=\"dataframe\">\n",
       "  <thead>\n",
       "    <tr style=\"text-align: right;\">\n",
       "      <th></th>\n",
       "      <th>bedrooms</th>\n",
       "      <th>bathrooms</th>\n",
       "      <th>sqft_living</th>\n",
       "      <th>sqft_lot</th>\n",
       "      <th>floors</th>\n",
       "      <th>waterfront</th>\n",
       "      <th>view</th>\n",
       "      <th>condition</th>\n",
       "      <th>grade</th>\n",
       "      <th>sqft_above</th>\n",
       "      <th>sqft_basement</th>\n",
       "      <th>yr_built</th>\n",
       "      <th>zipcode</th>\n",
       "      <th>sqft_living15</th>\n",
       "      <th>sqft_lot15</th>\n",
       "      <th>price</th>\n",
       "      <th>month_sold</th>\n",
       "    </tr>\n",
       "  </thead>\n",
       "  <tbody>\n",
       "    <tr>\n",
       "      <th>0</th>\n",
       "      <td>3</td>\n",
       "      <td>1.00</td>\n",
       "      <td>1180</td>\n",
       "      <td>5650</td>\n",
       "      <td>1.0</td>\n",
       "      <td>0</td>\n",
       "      <td>0</td>\n",
       "      <td>3</td>\n",
       "      <td>7</td>\n",
       "      <td>1180</td>\n",
       "      <td>0</td>\n",
       "      <td>1955</td>\n",
       "      <td>98178</td>\n",
       "      <td>1340</td>\n",
       "      <td>5650</td>\n",
       "      <td>221900</td>\n",
       "      <td>10</td>\n",
       "    </tr>\n",
       "    <tr>\n",
       "      <th>1</th>\n",
       "      <td>3</td>\n",
       "      <td>2.25</td>\n",
       "      <td>2570</td>\n",
       "      <td>7242</td>\n",
       "      <td>2.0</td>\n",
       "      <td>0</td>\n",
       "      <td>0</td>\n",
       "      <td>3</td>\n",
       "      <td>7</td>\n",
       "      <td>2170</td>\n",
       "      <td>400</td>\n",
       "      <td>1951</td>\n",
       "      <td>98125</td>\n",
       "      <td>1690</td>\n",
       "      <td>7639</td>\n",
       "      <td>538000</td>\n",
       "      <td>12</td>\n",
       "    </tr>\n",
       "    <tr>\n",
       "      <th>2</th>\n",
       "      <td>2</td>\n",
       "      <td>1.00</td>\n",
       "      <td>770</td>\n",
       "      <td>10000</td>\n",
       "      <td>1.0</td>\n",
       "      <td>0</td>\n",
       "      <td>0</td>\n",
       "      <td>3</td>\n",
       "      <td>6</td>\n",
       "      <td>770</td>\n",
       "      <td>0</td>\n",
       "      <td>1933</td>\n",
       "      <td>98028</td>\n",
       "      <td>2720</td>\n",
       "      <td>8062</td>\n",
       "      <td>180000</td>\n",
       "      <td>2</td>\n",
       "    </tr>\n",
       "    <tr>\n",
       "      <th>3</th>\n",
       "      <td>4</td>\n",
       "      <td>3.00</td>\n",
       "      <td>1960</td>\n",
       "      <td>5000</td>\n",
       "      <td>1.0</td>\n",
       "      <td>0</td>\n",
       "      <td>0</td>\n",
       "      <td>5</td>\n",
       "      <td>7</td>\n",
       "      <td>1050</td>\n",
       "      <td>910</td>\n",
       "      <td>1965</td>\n",
       "      <td>98136</td>\n",
       "      <td>1360</td>\n",
       "      <td>5000</td>\n",
       "      <td>604000</td>\n",
       "      <td>12</td>\n",
       "    </tr>\n",
       "    <tr>\n",
       "      <th>4</th>\n",
       "      <td>3</td>\n",
       "      <td>2.00</td>\n",
       "      <td>1680</td>\n",
       "      <td>8080</td>\n",
       "      <td>1.0</td>\n",
       "      <td>0</td>\n",
       "      <td>0</td>\n",
       "      <td>3</td>\n",
       "      <td>8</td>\n",
       "      <td>1680</td>\n",
       "      <td>0</td>\n",
       "      <td>1987</td>\n",
       "      <td>98074</td>\n",
       "      <td>1800</td>\n",
       "      <td>7503</td>\n",
       "      <td>510000</td>\n",
       "      <td>2</td>\n",
       "    </tr>\n",
       "    <tr>\n",
       "      <th>...</th>\n",
       "      <td>...</td>\n",
       "      <td>...</td>\n",
       "      <td>...</td>\n",
       "      <td>...</td>\n",
       "      <td>...</td>\n",
       "      <td>...</td>\n",
       "      <td>...</td>\n",
       "      <td>...</td>\n",
       "      <td>...</td>\n",
       "      <td>...</td>\n",
       "      <td>...</td>\n",
       "      <td>...</td>\n",
       "      <td>...</td>\n",
       "      <td>...</td>\n",
       "      <td>...</td>\n",
       "      <td>...</td>\n",
       "      <td>...</td>\n",
       "    </tr>\n",
       "    <tr>\n",
       "      <th>21592</th>\n",
       "      <td>3</td>\n",
       "      <td>2.50</td>\n",
       "      <td>1530</td>\n",
       "      <td>1131</td>\n",
       "      <td>3.0</td>\n",
       "      <td>0</td>\n",
       "      <td>0</td>\n",
       "      <td>3</td>\n",
       "      <td>8</td>\n",
       "      <td>1530</td>\n",
       "      <td>0</td>\n",
       "      <td>2009</td>\n",
       "      <td>98103</td>\n",
       "      <td>1530</td>\n",
       "      <td>1509</td>\n",
       "      <td>360000</td>\n",
       "      <td>5</td>\n",
       "    </tr>\n",
       "    <tr>\n",
       "      <th>21593</th>\n",
       "      <td>4</td>\n",
       "      <td>2.50</td>\n",
       "      <td>2310</td>\n",
       "      <td>5813</td>\n",
       "      <td>2.0</td>\n",
       "      <td>0</td>\n",
       "      <td>0</td>\n",
       "      <td>3</td>\n",
       "      <td>8</td>\n",
       "      <td>2310</td>\n",
       "      <td>0</td>\n",
       "      <td>2014</td>\n",
       "      <td>98146</td>\n",
       "      <td>1830</td>\n",
       "      <td>7200</td>\n",
       "      <td>400000</td>\n",
       "      <td>2</td>\n",
       "    </tr>\n",
       "    <tr>\n",
       "      <th>21594</th>\n",
       "      <td>2</td>\n",
       "      <td>0.75</td>\n",
       "      <td>1020</td>\n",
       "      <td>1350</td>\n",
       "      <td>2.0</td>\n",
       "      <td>0</td>\n",
       "      <td>0</td>\n",
       "      <td>3</td>\n",
       "      <td>7</td>\n",
       "      <td>1020</td>\n",
       "      <td>0</td>\n",
       "      <td>2009</td>\n",
       "      <td>98144</td>\n",
       "      <td>1020</td>\n",
       "      <td>2007</td>\n",
       "      <td>402101</td>\n",
       "      <td>6</td>\n",
       "    </tr>\n",
       "    <tr>\n",
       "      <th>21595</th>\n",
       "      <td>3</td>\n",
       "      <td>2.50</td>\n",
       "      <td>1600</td>\n",
       "      <td>2388</td>\n",
       "      <td>2.0</td>\n",
       "      <td>0</td>\n",
       "      <td>0</td>\n",
       "      <td>3</td>\n",
       "      <td>8</td>\n",
       "      <td>1600</td>\n",
       "      <td>0</td>\n",
       "      <td>2004</td>\n",
       "      <td>98027</td>\n",
       "      <td>1410</td>\n",
       "      <td>1287</td>\n",
       "      <td>400000</td>\n",
       "      <td>1</td>\n",
       "    </tr>\n",
       "    <tr>\n",
       "      <th>21596</th>\n",
       "      <td>2</td>\n",
       "      <td>0.75</td>\n",
       "      <td>1020</td>\n",
       "      <td>1076</td>\n",
       "      <td>2.0</td>\n",
       "      <td>0</td>\n",
       "      <td>0</td>\n",
       "      <td>3</td>\n",
       "      <td>7</td>\n",
       "      <td>1020</td>\n",
       "      <td>0</td>\n",
       "      <td>2008</td>\n",
       "      <td>98144</td>\n",
       "      <td>1020</td>\n",
       "      <td>1357</td>\n",
       "      <td>325000</td>\n",
       "      <td>10</td>\n",
       "    </tr>\n",
       "  </tbody>\n",
       "</table>\n",
       "<p>21597 rows × 17 columns</p>\n",
       "</div>"
      ],
      "text/plain": [
       "       bedrooms  bathrooms  sqft_living  sqft_lot floors waterfront view  \\\n",
       "0             3       1.00         1180      5650    1.0          0    0   \n",
       "1             3       2.25         2570      7242    2.0          0    0   \n",
       "2             2       1.00          770     10000    1.0          0    0   \n",
       "3             4       3.00         1960      5000    1.0          0    0   \n",
       "4             3       2.00         1680      8080    1.0          0    0   \n",
       "...         ...        ...          ...       ...    ...        ...  ...   \n",
       "21592         3       2.50         1530      1131    3.0          0    0   \n",
       "21593         4       2.50         2310      5813    2.0          0    0   \n",
       "21594         2       0.75         1020      1350    2.0          0    0   \n",
       "21595         3       2.50         1600      2388    2.0          0    0   \n",
       "21596         2       0.75         1020      1076    2.0          0    0   \n",
       "\n",
       "      condition grade  sqft_above  sqft_basement  yr_built zipcode  \\\n",
       "0             3     7        1180              0      1955   98178   \n",
       "1             3     7        2170            400      1951   98125   \n",
       "2             3     6         770              0      1933   98028   \n",
       "3             5     7        1050            910      1965   98136   \n",
       "4             3     8        1680              0      1987   98074   \n",
       "...         ...   ...         ...            ...       ...     ...   \n",
       "21592         3     8        1530              0      2009   98103   \n",
       "21593         3     8        2310              0      2014   98146   \n",
       "21594         3     7        1020              0      2009   98144   \n",
       "21595         3     8        1600              0      2004   98027   \n",
       "21596         3     7        1020              0      2008   98144   \n",
       "\n",
       "       sqft_living15  sqft_lot15   price month_sold  \n",
       "0               1340        5650  221900         10  \n",
       "1               1690        7639  538000         12  \n",
       "2               2720        8062  180000          2  \n",
       "3               1360        5000  604000         12  \n",
       "4               1800        7503  510000          2  \n",
       "...              ...         ...     ...        ...  \n",
       "21592           1530        1509  360000          5  \n",
       "21593           1830        7200  400000          2  \n",
       "21594           1020        2007  402101          6  \n",
       "21595           1410        1287  400000          1  \n",
       "21596           1020        1357  325000         10  \n",
       "\n",
       "[21597 rows x 17 columns]"
      ]
     },
     "execution_count": 1049,
     "metadata": {},
     "output_type": "execute_result"
    }
   ],
   "source": [
    "model_df"
   ]
  },
  {
   "cell_type": "code",
   "execution_count": 1050,
   "id": "9ce48643",
   "metadata": {},
   "outputs": [],
   "source": [
    "# model_df[model_df[\"price\"] < 4000000]"
   ]
  },
  {
   "cell_type": "markdown",
   "id": "02ebe49f",
   "metadata": {},
   "source": [
    "#### 2.2.3 All strings to lower case"
   ]
  },
  {
   "cell_type": "code",
   "execution_count": 1051,
   "id": "38bd6787",
   "metadata": {},
   "outputs": [],
   "source": [
    "# ca_df = all_strings_lowercase(ca_df)"
   ]
  },
  {
   "cell_type": "markdown",
   "id": "745f5a1d",
   "metadata": {},
   "source": [
    "[top of notebook](#top)"
   ]
  },
  {
   "cell_type": "markdown",
   "id": "ff21f360",
   "metadata": {},
   "source": [
    "## 3. Adjust the DataFrame to fine tune the model"
   ]
  },
  {
   "cell_type": "markdown",
   "id": "d08a6f63",
   "metadata": {},
   "source": [
    "<a id=\"df_setup\"></a>\n",
    "### 3.1 Dataframe set up\n",
    "Create a copy of the cleaned DataFrame to avoid multiple new runs of the cleaning process"
   ]
  },
  {
   "cell_type": "code",
   "execution_count": 1197,
   "id": "44dc6404",
   "metadata": {},
   "outputs": [
    {
     "data": {
      "text/plain": [
       "['floors', 'waterfront', 'view', 'condition', 'grade', 'zipcode', 'month_sold']"
      ]
     },
     "execution_count": 1197,
     "metadata": {},
     "output_type": "execute_result"
    }
   ],
   "source": [
    "this_model = model_df.copy()\n",
    "split_column_names_by(this_model)[1]"
   ]
  },
  {
   "cell_type": "code",
   "execution_count": 1198,
   "id": "b37aa669",
   "metadata": {},
   "outputs": [],
   "source": [
    "#this_model"
   ]
  },
  {
   "cell_type": "markdown",
   "id": "d1c85d79",
   "metadata": {},
   "source": [
    "**In the follwoing cell, adjust the DataFrame**"
   ]
  },
  {
   "cell_type": "code",
   "execution_count": 1199,
   "id": "778146ce",
   "metadata": {},
   "outputs": [],
   "source": [
    "# this_model.drop(this_model.index[list(data[data[\"sqft_living\"] > 10000].index)], inplace=True)\n",
    "this_model = this_model[this_model[\"price\"] < 4000000]"
   ]
  },
  {
   "cell_type": "markdown",
   "id": "ce62b3ef",
   "metadata": {},
   "source": [
    "Select scaling method by (un)commenting contents of the following cell:"
   ]
  },
  {
   "cell_type": "code",
   "execution_count": 1200,
   "id": "65cab205",
   "metadata": {},
   "outputs": [],
   "source": [
    "scaler = \"standard_scaler\"\n",
    "# scaler = \"quantile_transformer\"\n",
    "# scaler = \"power_transformator\"  # not completely tested\n"
   ]
  },
  {
   "cell_type": "markdown",
   "id": "194fa83c",
   "metadata": {},
   "source": [
    "Select the size of the test set"
   ]
  },
  {
   "cell_type": "code",
   "execution_count": 1201,
   "id": "f9af25af",
   "metadata": {},
   "outputs": [],
   "source": [
    "test_set_size = .30"
   ]
  },
  {
   "cell_type": "markdown",
   "id": "e0e22ec2",
   "metadata": {},
   "source": [
    "Select further options:"
   ]
  },
  {
   "cell_type": "code",
   "execution_count": 1202,
   "id": "912844f7",
   "metadata": {},
   "outputs": [],
   "source": [
    "show_boxplots_for_all_numerical = True\n",
    "show_histograms_for_normalized_cols = False\n",
    "show_hist_for_X = False\n",
    "print_model_data = False\n",
    "show_prediction_plots = True"
   ]
  },
  {
   "cell_type": "markdown",
   "id": "6fd4c247",
   "metadata": {},
   "source": [
    "When complete, run code and find the result under [output](#result)."
   ]
  },
  {
   "cell_type": "markdown",
   "id": "ed94aa29",
   "metadata": {},
   "source": [
    "#### 3.1.1 Numerical"
   ]
  },
  {
   "cell_type": "code",
   "execution_count": 1203,
   "id": "3a77b8c5",
   "metadata": {},
   "outputs": [
    {
     "data": {
      "image/png": "[encoded data removed]",
      "text/plain": [
       "<Figure size 720x720 with 10 Axes>"
      ]
     },
     "metadata": {
      "needs_background": "light"
     },
     "output_type": "display_data"
    }
   ],
   "source": [
    "if show_boxplots_for_all_numerical:\n",
    "    boxplots_for_all_numerical_cols(split_df_by(this_model)[0])"
   ]
  },
  {
   "cell_type": "code",
   "execution_count": 1204,
   "id": "faaad05a",
   "metadata": {},
   "outputs": [],
   "source": [
    "if show_histograms_for_normalized_cols:\n",
    "    for col in split_column_names_by(this_model)[0]:\n",
    "        plot_hist_normalized(this_model[col], scaler)"
   ]
  },
  {
   "cell_type": "markdown",
   "id": "6d0c539f",
   "metadata": {},
   "source": [
    "#### 3.1.2 Categorical"
   ]
  },
  {
   "cell_type": "code",
   "execution_count": 1205,
   "id": "f81bbf27",
   "metadata": {},
   "outputs": [],
   "source": [
    "categoricals_features= this_model.select_dtypes(\"category\")\n"
   ]
  },
  {
   "cell_type": "code",
   "execution_count": null,
   "id": "d0d9b467",
   "metadata": {},
   "outputs": [],
   "source": []
  },
  {
   "cell_type": "code",
   "execution_count": 1206,
   "id": "ecd978d4",
   "metadata": {},
   "outputs": [],
   "source": [
    "cat_cols=pd.get_dummies(categoricals_features, drop_first=True)"
   ]
  },
  {
   "cell_type": "markdown",
   "id": "b8a16ef0",
   "metadata": {},
   "source": [
    "#### 3.1.3 X-y split"
   ]
  },
  {
   "cell_type": "code",
   "execution_count": 1207,
   "id": "bfde773b",
   "metadata": {},
   "outputs": [],
   "source": [
    "X=this_model.drop(\"price\", axis=1)\n",
    "y=this_model[\"price\"]"
   ]
  },
  {
   "cell_type": "code",
   "execution_count": 1208,
   "id": "cf77ccec",
   "metadata": {},
   "outputs": [],
   "source": [
    "X=X._get_numeric_data()\n",
    "# X"
   ]
  },
  {
   "cell_type": "code",
   "execution_count": 1209,
   "id": "6c2f86b5",
   "metadata": {},
   "outputs": [],
   "source": [
    "if show_hist_for_X:\n",
    "    X.hist(figsize=(14,14))"
   ]
  },
  {
   "cell_type": "markdown",
   "id": "fbc604fd",
   "metadata": {},
   "source": [
    "**Concat dummies to numeric standardized**"
   ]
  },
  {
   "cell_type": "code",
   "execution_count": 1210,
   "id": "61474bba",
   "metadata": {},
   "outputs": [],
   "source": [
    "X = pd.concat([X,cat_cols],axis=1)\n",
    "# X"
   ]
  },
  {
   "cell_type": "markdown",
   "id": "efe7f407",
   "metadata": {},
   "source": [
    "#### 3.1.4 Data splitting"
   ]
  },
  {
   "cell_type": "code",
   "execution_count": 1211,
   "id": "6d398a59",
   "metadata": {},
   "outputs": [],
   "source": [
    "X_train, X_test, y_train, y_test=train_test_split(X, y, test_size=test_set_size,random_state=42)"
   ]
  },
  {
   "cell_type": "markdown",
   "id": "183f42c3",
   "metadata": {},
   "source": [
    "#### 3.1.5 Standardize\n",
    "+ Build scaling parameters on training set (mean variance) → more data as majority of datapoints of sample<br>(1 - *test_sample_size*) <br>\n",
    "\n"
   ]
  },
  {
   "cell_type": "code",
   "execution_count": 1212,
   "id": "4ec204c3",
   "metadata": {},
   "outputs": [],
   "source": [
    "if scaler == \"quantile_transformer\":\n",
    "    scaler_used = QuantileTransformer(n_quantiles=500, output_distribution=\"normal\").fit(X_train)\n",
    "elif scaler == \"power_transformator\":\n",
    "    scaler_used = PowerTransformer().fit(X_train)\n",
    "else:\n",
    "    scaler_used = StandardScaler().fit(X_train)"
   ]
  },
  {
   "cell_type": "markdown",
   "id": "8208f242",
   "metadata": {},
   "source": [
    "+ Apply on training set"
   ]
  },
  {
   "cell_type": "code",
   "execution_count": 1213,
   "id": "49073da5",
   "metadata": {},
   "outputs": [],
   "source": [
    "X_train_scaled=scaler_used.transform(X_train)"
   ]
  },
  {
   "cell_type": "markdown",
   "id": "1aae48b2",
   "metadata": {},
   "source": [
    "+ as well as on test set (same std_scaler but generated by a bigger set of values), same scaling param's as x_train"
   ]
  },
  {
   "cell_type": "code",
   "execution_count": 1214,
   "id": "c63368cb",
   "metadata": {},
   "outputs": [],
   "source": [
    "X_test_scaled=scaler_used.transform(X_test)"
   ]
  },
  {
   "cell_type": "markdown",
   "id": "01267e84",
   "metadata": {},
   "source": [
    "#### 3.1.6 Modeling using Statsmodels"
   ]
  },
  {
   "cell_type": "code",
   "execution_count": 1215,
   "id": "72d76c80",
   "metadata": {},
   "outputs": [],
   "source": [
    "X_train_const_scaled = sm.add_constant(X_train_scaled) # adding a constant\n",
    "\n",
    "model = sm.OLS(y_train, X_train_const_scaled).fit()\n",
    "predictions_train = model.predict(X_train_const_scaled) \n",
    "\n",
    "X_test_const_scaled = sm.add_constant(X_test_scaled) # adding a constant\n",
    "predictions_test = model.predict(X_test_const_scaled) \n",
    "print_model = model.summary()\n",
    "if print_model_data:\n",
    "    print(print_model)"
   ]
  },
  {
   "cell_type": "code",
   "execution_count": 1216,
   "id": "244601c7",
   "metadata": {},
   "outputs": [
    {
     "data": {
      "text/plain": [
       "array([272803.53180917, 318524.8329239 , 168568.96845115, ...,\n",
       "       588645.46971337, 692152.08148344, 691296.20155489])"
      ]
     },
     "execution_count": 1216,
     "metadata": {},
     "output_type": "execute_result"
    }
   ],
   "source": [
    "predictions_test"
   ]
  },
  {
   "cell_type": "markdown",
   "id": "5abe6b84",
   "metadata": {},
   "source": [
    "#### 3.1.7 Modeling using Scikit Learn"
   ]
  },
  {
   "cell_type": "markdown",
   "id": "f54c4ef9",
   "metadata": {},
   "source": [
    "##### 3.1.7.1 Model fitting"
   ]
  },
  {
   "cell_type": "code",
   "execution_count": 1217,
   "id": "33a27734",
   "metadata": {},
   "outputs": [
    {
     "data": {
      "text/plain": [
       "LinearRegression()"
      ]
     },
     "execution_count": 1217,
     "metadata": {},
     "output_type": "execute_result"
    }
   ],
   "source": [
    "model=LinearRegression()    # model\n",
    "model.fit(X_train_scaled, y_train)   # model train"
   ]
  },
  {
   "cell_type": "markdown",
   "id": "e92bb892",
   "metadata": {},
   "source": [
    "##### 3.1.7.2 Parameters of model"
   ]
  },
  {
   "cell_type": "code",
   "execution_count": 1218,
   "id": "6da0649a",
   "metadata": {},
   "outputs": [
    {
     "data": {
      "text/plain": [
       "array([ -9289.53476969,  22726.84647934,  63544.60267118,  10126.05248875,\n",
       "        63960.70228082,  10884.63757068, -13447.12734365,  14753.08905658,\n",
       "        -2963.42180005,  -3176.72809558, -12913.47635467,   1746.55239396,\n",
       "       -11571.64870559,    910.46372989,  40771.91146229,  12292.20765859,\n",
       "        13148.85187881,  24810.93115501,  39115.28742844,   3006.15143879,\n",
       "        19266.00379249,  27668.53901537,  29948.56748449,  -4102.3958203 ,\n",
       "       -15383.99287342, -40029.64106636, -62848.19318063, -45880.9854322 ,\n",
       "        -7013.0148183 ,  22889.75226412,  40351.81634821,  31729.96520514,\n",
       "        29415.59388902,    900.51026183,  -1345.8557394 ,  91701.70746862,\n",
       "        26029.30242723,  38116.20414334,  21171.14251424,  29350.45718418,\n",
       "         4201.97052847,  12240.20990383,   7111.73244526,   8873.65267102,\n",
       "        -1270.03409463,  -5001.98597776,  10029.89822706,  23693.6724755 ,\n",
       "        15397.13191799,  26715.98954665,    866.33730302,   1481.79568275,\n",
       "          596.24498903,  51997.13171754,  32103.74991923,   5710.65890671,\n",
       "        48282.43668429,  57714.38750518,    326.25553136,  10096.79962145,\n",
       "        40516.69904126,  28536.81970969,   4120.29038586,  12156.46238068,\n",
       "         4907.37000855,  12384.31402239,  10758.27775533,   1571.69112541,\n",
       "        18587.26325568,  25554.72409817,  20724.03315959,  11092.18958041,\n",
       "        -3824.10201635,  31288.22245391,  57712.03785235,  49791.71422577,\n",
       "        15148.26295229,  38344.30147692,  11540.28956067,  36183.38186861,\n",
       "        67330.99214437,  55609.95535193,  36462.3825558 ,  48851.80577624,\n",
       "        24538.87718004,  46244.96122748,  40798.93772095,  27459.97253908,\n",
       "        24715.25347298,  24466.64364272,  27486.09604222,  34315.86039563,\n",
       "        11125.29797186,   3292.27866758,  20681.9806099 ,   8092.98736301,\n",
       "         6148.52929534,  24952.33056842,   3018.74104979,   2380.65122662,\n",
       "         -415.21166872,  46214.4406745 ,  -2846.0546189 ,   -890.70333726,\n",
       "        -1068.02481248,   2066.01933882,   5762.19474506,  10055.66758621,\n",
       "         1178.72944528,  -1082.85205103,   -848.79976148,  -1547.19701697,\n",
       "        -3178.51952841])"
      ]
     },
     "execution_count": 1218,
     "metadata": {},
     "output_type": "execute_result"
    }
   ],
   "source": [
    "model.coef_"
   ]
  },
  {
   "cell_type": "code",
   "execution_count": 1219,
   "id": "ed609dce",
   "metadata": {},
   "outputs": [],
   "source": [
    "# print(list(zip(model.coef_, X_train.columns)))"
   ]
  },
  {
   "cell_type": "code",
   "execution_count": 1220,
   "id": "7587c4b7",
   "metadata": {},
   "outputs": [],
   "source": [
    "coef_dict = {}\n",
    "for coef, feat in list(zip(model.coef_, X.columns)):\n",
    "    coef_dict[feat] = abs(coef)"
   ]
  },
  {
   "cell_type": "code",
   "execution_count": 1221,
   "id": "49d73c9c",
   "metadata": {},
   "outputs": [],
   "source": [
    "coef_dict_rev = {}\n",
    "for coef, feat in list(zip(model.coef_, X.columns)):\n",
    "    coef_dict_rev[str(abs(coef))] = feat"
   ]
  },
  {
   "cell_type": "code",
   "execution_count": 1222,
   "id": "2c49c336",
   "metadata": {},
   "outputs": [
    {
     "name": "stdout",
     "output_type": "stream",
     "text": [
      "{'bedrooms': 9289.534769691072, 'bathrooms': 22726.846479338332, 'sqft_living': 63544.60267117777, 'sqft_lot': 10126.05248875168, 'sqft_above': 63960.702280822814, 'sqft_basement': 10884.637570678857, 'yr_built': 13447.127343645912, 'sqft_living15': 14753.089056575427, 'sqft_lot15': 2963.421800049451, 'floors_1.5': 3176.7280955795977, 'floors_2.0': 12913.476354669685, 'floors_2.5': 1746.5523939633613, 'floors_3.0': 11571.648705586804, 'floors_3.5': 910.463729889233, 'waterfront_1': 40771.91146228916, 'view_1': 12292.207658586016, 'view_2': 13148.85187881022, 'view_3': 24810.93115501038, 'view_4': 39115.28742844052, 'condition_2': 3006.151438789897, 'condition_3': 19266.003792494295, 'condition_4': 27668.539015374186, 'condition_5': 29948.567484487954, 'grade_4': 4102.3958202962085, 'grade_5': 15383.992873419687, 'grade_6': 40029.641066364515, 'grade_7': 62848.193180631635, 'grade_8': 45880.98543220331, 'grade_9': 7013.014818302495, 'grade_10': 22889.752264124916, 'grade_11': 40351.81634820519, 'grade_12': 31729.965205141543, 'grade_13': 29415.593889022886, 'zipcode_98002': 900.5102618297024, 'zipcode_98003': 1345.8557393962628, 'zipcode_98004': 91701.70746862167, 'zipcode_98005': 26029.30242722662, 'zipcode_98006': 38116.20414333636, 'zipcode_98007': 21171.14251424458, 'zipcode_98008': 29350.457184178205, 'zipcode_98010': 4201.970528466507, 'zipcode_98011': 12240.209903825764, 'zipcode_98014': 7111.732445255086, 'zipcode_98019': 8873.652671019594, 'zipcode_98022': 1270.0340946291944, 'zipcode_98023': 5001.985977764362, 'zipcode_98024': 10029.898227062127, 'zipcode_98027': 23693.672475502455, 'zipcode_98028': 15397.13191798899, 'zipcode_98029': 26715.98954664832, 'zipcode_98030': 866.3373030235907, 'zipcode_98031': 1481.7956827527987, 'zipcode_98032': 596.2449890273456, 'zipcode_98033': 51997.13171753967, 'zipcode_98034': 32103.749919226568, 'zipcode_98038': 5710.6589067108125, 'zipcode_98039': 48282.43668429399, 'zipcode_98040': 57714.387505178325, 'zipcode_98042': 326.25553136483177, 'zipcode_98045': 10096.799621452239, 'zipcode_98052': 40516.699041259395, 'zipcode_98053': 28536.819709689033, 'zipcode_98055': 4120.29038586049, 'zipcode_98056': 12156.462380684281, 'zipcode_98058': 4907.370008547872, 'zipcode_98059': 12384.314022392677, 'zipcode_98065': 10758.277755326635, 'zipcode_98070': 1571.6911254114184, 'zipcode_98072': 18587.26325568297, 'zipcode_98074': 25554.724098172563, 'zipcode_98075': 20724.033159592364, 'zipcode_98077': 11092.189580410595, 'zipcode_98092': 3824.1020163495314, 'zipcode_98102': 31288.222453905964, 'zipcode_98103': 57712.03785235406, 'zipcode_98105': 49791.714225772754, 'zipcode_98106': 15148.26295228819, 'zipcode_98107': 38344.30147691992, 'zipcode_98108': 11540.289560666239, 'zipcode_98109': 36183.38186861218, 'zipcode_98112': 67330.99214437464, 'zipcode_98115': 55609.955351932505, 'zipcode_98116': 36462.3825557965, 'zipcode_98117': 48851.80577624359, 'zipcode_98118': 24538.877180038922, 'zipcode_98119': 46244.96122747574, 'zipcode_98122': 40798.93772095256, 'zipcode_98125': 27459.97253908045, 'zipcode_98126': 24715.25347297835, 'zipcode_98133': 24466.64364272053, 'zipcode_98136': 27486.096042218927, 'zipcode_98144': 34315.86039563234, 'zipcode_98146': 11125.297971857903, 'zipcode_98148': 3292.2786675805055, 'zipcode_98155': 20681.98060990362, 'zipcode_98166': 8092.987363005938, 'zipcode_98168': 6148.5292953394965, 'zipcode_98177': 24952.330568416626, 'zipcode_98178': 3018.741049790693, 'zipcode_98188': 2380.6512266209957, 'zipcode_98198': 415.211668722116, 'zipcode_98199': 46214.4406745049, 'month_sold_10': 2846.054618898456, 'month_sold_11': 890.7033372603928, 'month_sold_12': 1068.0248124833533, 'month_sold_2': 2066.0193388185717, 'month_sold_3': 5762.19474505937, 'month_sold_4': 10055.667586214415, 'month_sold_5': 1178.7294452834412, 'month_sold_6': 1082.8520510329026, 'month_sold_7': 848.799761483403, 'month_sold_8': 1547.1970169655692, 'month_sold_9': 3178.5195284144756}\n"
     ]
    }
   ],
   "source": [
    "coef_df = pd.DataFrame(coef_dict.items())\n",
    "print(coef_dict)"
   ]
  },
  {
   "cell_type": "code",
   "execution_count": 1223,
   "id": "7a9714fd",
   "metadata": {},
   "outputs": [
    {
     "data": {
      "text/plain": [
       "<AxesSubplot:xlabel='0', ylabel='1'>"
      ]
     },
     "execution_count": 1223,
     "metadata": {},
     "output_type": "execute_result"
    },
    {
     "data": {
      "image/png": "[encoded data removed]",
      "text/plain": [
       "<Figure size 720x720 with 1 Axes>"
      ]
     },
     "metadata": {
      "needs_background": "light"
     },
     "output_type": "display_data"
    }
   ],
   "source": [
    "fig, ax = plt.subplots(figsize=(10,10))\n",
    "sns.barplot(data=coef_df, x=0, y=1)"
   ]
  },
  {
   "cell_type": "code",
   "execution_count": 1224,
   "id": "efceafad",
   "metadata": {},
   "outputs": [
    {
     "data": {
      "text/plain": [
       "536663.2939307698"
      ]
     },
     "execution_count": 1224,
     "metadata": {},
     "output_type": "execute_result"
    }
   ],
   "source": [
    "model.intercept_"
   ]
  },
  {
   "cell_type": "code",
   "execution_count": 1225,
   "id": "c40822cf",
   "metadata": {},
   "outputs": [
    {
     "data": {
      "text/plain": [
       "0.8422839232890419"
      ]
     },
     "execution_count": 1225,
     "metadata": {},
     "output_type": "execute_result"
    }
   ],
   "source": [
    "model.score(X_test_scaled,y_test)"
   ]
  },
  {
   "cell_type": "markdown",
   "id": "cf58b1de",
   "metadata": {},
   "source": [
    "##### 3.1.7.3 Making prediction"
   ]
  },
  {
   "cell_type": "code",
   "execution_count": 1226,
   "id": "961ba576",
   "metadata": {},
   "outputs": [],
   "source": [
    "y_pred=model.predict(X_test_scaled)"
   ]
  },
  {
   "cell_type": "code",
   "execution_count": 1227,
   "id": "8f4dbcbf",
   "metadata": {},
   "outputs": [],
   "source": [
    "# y_test"
   ]
  },
  {
   "cell_type": "code",
   "execution_count": 1228,
   "id": "f6c3b556",
   "metadata": {},
   "outputs": [],
   "source": [
    "result=pd.DataFrame({\"y_test\":y_test,\"y_pred\":y_pred})"
   ]
  },
  {
   "cell_type": "markdown",
   "id": "b6e8d707",
   "metadata": {},
   "source": [
    "##### 3.1.7.4 Plots"
   ]
  },
  {
   "cell_type": "code",
   "execution_count": 1229,
   "id": "6ffdd97b",
   "metadata": {},
   "outputs": [
    {
     "data": {
      "image/png": "[encoded data removed]",
      "text/plain": [
       "<Figure size 1008x288 with 3 Axes>"
      ]
     },
     "metadata": {
      "needs_background": "light"
     },
     "output_type": "display_data"
    }
   ],
   "source": [
    "if show_prediction_plots:\n",
    "    fig, ax = plt.subplots(1,3,figsize=(14,4))\n",
    "    ax[0].plot(y_pred, y_test, 'o')\n",
    "    ax[0].set_xlabel(\"y_test\")\n",
    "    ax[0].set_ylabel(\"y_pred\")\n",
    "    ax[0].set_title(\"Test Set -Predicted vs real\")\n",
    "\n",
    "    # Get a histogram of the residuals ie: y - y_pred.  Homoscdasticity\n",
    "    # It resembles a normal distribution?\n",
    "    ax[1].hist(y_test - y_pred)\n",
    "    ax[1].set_xlabel(\"Test y-y_pred\")\n",
    "    ax[1].set_title(\"Test Set Residual histogram\")\n",
    "\n",
    "    ax[2].plot(y_pred,y_test - y_pred,\"o\")\n",
    "    ax[2].set_xlabel(\"predited\")\n",
    "    ax[2].set_ylabel(\"residuals\")\n",
    "    ax[2].set_title(\"Residuals by Predicted\")\n",
    "    ax[2].plot(y_pred,np.zeros(len(y_pred)),linestyle='dashed')"
   ]
  },
  {
   "cell_type": "code",
   "execution_count": 1230,
   "id": "ae967fc9",
   "metadata": {},
   "outputs": [
    {
     "data": {
      "image/png": "[encoded data removed]",
      "text/plain": [
       "<Figure size 432x288 with 1 Axes>"
      ]
     },
     "metadata": {
      "needs_background": "light"
     },
     "output_type": "display_data"
    }
   ],
   "source": [
    "if show_prediction_plots:\n",
    "    sns.regplot(x='y_pred',y='y_test', data=result, scatter_kws={\"color\": \"red\"}, line_kws={\"color\": \"black\"})"
   ]
  },
  {
   "cell_type": "markdown",
   "id": "9ff09513",
   "metadata": {},
   "source": [
    "##### 3.1.7.5 Error metrics Test"
   ]
  },
  {
   "cell_type": "code",
   "execution_count": 1231,
   "id": "33e6746d",
   "metadata": {
    "scrolled": true
   },
   "outputs": [],
   "source": [
    "mse_test = mse(y_test,y_pred)\n",
    "mae_test = mae(y_test,y_pred)"
   ]
  },
  {
   "cell_type": "code",
   "execution_count": 1232,
   "id": "a294ee5a",
   "metadata": {
    "scrolled": false
   },
   "outputs": [],
   "source": [
    "r2_test=r2_score(y_test,y_pred)\n"
   ]
  },
  {
   "cell_type": "code",
   "execution_count": 1233,
   "id": "df7a27dc",
   "metadata": {},
   "outputs": [],
   "source": [
    "adj_r2_test= 1 - (1-r2_test)*(len(y_test)-1)/(len(y_test)-X_test.shape[1]-1)\n"
   ]
  },
  {
   "cell_type": "markdown",
   "id": "22feb7d0",
   "metadata": {},
   "source": [
    "##### 3.1.7.6 Error metrics Train"
   ]
  },
  {
   "cell_type": "code",
   "execution_count": 1234,
   "id": "8a5111b9",
   "metadata": {},
   "outputs": [],
   "source": [
    "y_pred=model.predict(X_train_scaled)"
   ]
  },
  {
   "cell_type": "code",
   "execution_count": 1235,
   "id": "712407a5",
   "metadata": {},
   "outputs": [],
   "source": [
    "mse_train = mse(y_train,y_pred)\n",
    "mae_train = mae(y_train,y_pred)"
   ]
  },
  {
   "cell_type": "code",
   "execution_count": 1236,
   "id": "ba1ee5c5",
   "metadata": {
    "scrolled": true
   },
   "outputs": [],
   "source": [
    "r2_train=r2_score(y_train,y_pred)\n"
   ]
  },
  {
   "cell_type": "code",
   "execution_count": 1237,
   "id": "b5c99459",
   "metadata": {},
   "outputs": [],
   "source": [
    "adj_r2_train= 1 - (1-r2_train)*(len(y_train)-1)/(len(y_train)-X_train.shape[1]-1)\n"
   ]
  },
  {
   "cell_type": "markdown",
   "id": "f5627184",
   "metadata": {},
   "source": [
    "***"
   ]
  },
  {
   "cell_type": "markdown",
   "id": "870178e7",
   "metadata": {},
   "source": [
    "<a id =\"result\"> </a>\n",
    "### 3.2 Result Output"
   ]
  },
  {
   "cell_type": "code",
   "execution_count": 1238,
   "id": "6166cacc",
   "metadata": {},
   "outputs": [
    {
     "name": "stdout",
     "output_type": "stream",
     "text": [
      "Adjusted Dataset contains 99.94 % of original data points (21585 out of 21597).\n",
      "\n",
      "Error Metrics Test Set:\n",
      "\n",
      "         MSE = 19984899848.4694 \n",
      "\n",
      "         MAE = 86760.7165 \n",
      "\n",
      "          R² = 0.8423 \n",
      "\n",
      " Adjusted R² = 0.8395 \n",
      "\n",
      "\n",
      "---\n",
      "\n",
      "Error Metrics Train Set: \n",
      "\n",
      "         MSE = 19103684127.7876 \n",
      "\n",
      "         MAE = 85703.2239 \n",
      "\n",
      "          R² = 0.8391 \n",
      "\n",
      " Adjusted R² = 0.8379 \n",
      "\n"
     ]
    }
   ],
   "source": [
    "print(f\"Adjusted Dataset contains {round(len(this_model)/len(data)*100,2)} % of original data points ({len(this_model)} out of {len(data)}).\")\n",
    "print(\"\")\n",
    "print(\"Error Metrics Test Set:\\n\")\n",
    "print(\"         MSE =\", round(mse_test, 4),\"\\n\")\n",
    "print(\"         MAE =\", round(mae_test, 4),\"\\n\")\n",
    "print(\"          R² =\", round(r2_test, 4),\"\\n\")\n",
    "print(\" Adjusted R² =\", round(adj_r2_test, 4),\"\\n\")\n",
    "print(\"\\n---\\n\")\n",
    "print(\"Error Metrics Train Set:\",\"\\n\")\n",
    "print(\"         MSE =\", round(mse_train, 4),\"\\n\")\n",
    "print(\"         MAE =\", round(mae_train, 4),\"\\n\")\n",
    "print(\"          R² =\", round(r2_train, 4),\"\\n\")\n",
    "print(\" Adjusted R² =\", round(adj_r2_train, 4),\"\\n\")"
   ]
  },
  {
   "cell_type": "markdown",
   "id": "b8acabdb",
   "metadata": {},
   "source": [
    "Change DataFrame [set up](#df_setup) here."
   ]
  },
  {
   "cell_type": "markdown",
   "id": "6f515ac0",
   "metadata": {},
   "source": [
    "[top of notebook](#top)"
   ]
  },
  {
   "cell_type": "markdown",
   "id": "42d5d15a",
   "metadata": {},
   "source": [
    "<a id='findings'> </a>\n",
    "## 4. Findings\n"
   ]
  },
  {
   "cell_type": "markdown",
   "id": "d6f85471",
   "metadata": {},
   "source": [
    "### 4.1 No further adjustments"
   ]
  },
  {
   "cell_type": "markdown",
   "id": "3c6db7ea",
   "metadata": {},
   "source": [
    "Adjusted Dataset contains 100.0 % of original data points (21597 out of 21597).\n",
    "\n",
    "Error Metrics Test Set:\n",
    "\n",
    "         MSE = 24329464452.6043 \n",
    "\n",
    "         MAE = 88858.3318 \n",
    "\n",
    "          R² = 0.8165 \n",
    "\n",
    " Adjusted R² = 0.8133 \n",
    "\n",
    "\n",
    "---\n",
    "\n",
    "Error Metrics Train Set: \n",
    "\n",
    "         MSE = 21290561287.0931 \n",
    "\n",
    "         MAE = 87901.8305 \n",
    "\n",
    "          R² = 0.8434 \n",
    "\n",
    " Adjusted R² = 0.8422 \n"
   ]
  },
  {
   "cell_type": "markdown",
   "id": "64691902",
   "metadata": {},
   "source": [
    "### 4.2 Excluding houses with sales prices > 4 Mio"
   ]
  },
  {
   "cell_type": "markdown",
   "id": "643f510e",
   "metadata": {},
   "source": [
    "`this_model = this_model[this_model[\"price\"] < 4000000]`"
   ]
  },
  {
   "cell_type": "markdown",
   "id": "2813c24b",
   "metadata": {},
   "source": [
    "Adjusted Dataset contains 99.94 % of original data points (21585 out of 21597).\n",
    "\n",
    "Error Metrics Test Set:\n",
    "\n",
    "         MSE = 19984899848.4694 \n",
    "\n",
    "         MAE = 86760.7165 \n",
    "\n",
    "          R² = 0.8423 \n",
    "\n",
    " Adjusted R² = 0.8395 \n",
    "\n",
    "\n",
    "---\n",
    "\n",
    "Error Metrics Train Set: \n",
    "\n",
    "         MSE = 19103684127.7876 \n",
    "\n",
    "         MAE = 85703.2239 \n",
    "\n",
    "          R² = 0.8391 \n",
    "\n",
    " Adjusted R² = 0.8379 "
   ]
  },
  {
   "cell_type": "code",
   "execution_count": null,
   "id": "38f75f27",
   "metadata": {},
   "outputs": [],
   "source": []
  }
 ],
 "metadata": {
  "kernelspec": {
   "display_name": "Python 3 (ipykernel)",
   "language": "python",
   "name": "python3"
  },
  "language_info": {
   "codemirror_mode": {
    "name": "ipython",
    "version": 3
   },
   "file_extension": ".py",
   "mimetype": "text/x-python",
   "name": "python",
   "nbconvert_exporter": "python",
   "pygments_lexer": "ipython3",
   "version": "3.9.7"
  },
  "toc": {
   "base_numbering": 1,
   "nav_menu": {},
   "number_sections": false,
   "sideBar": true,
   "skip_h1_title": true,
   "title_cell": "Table of Contents",
   "title_sidebar": "Contents",
   "toc_cell": false,
   "toc_position": {
    "height": "714.388px",
    "left": "23px",
    "top": "111.125px",
    "width": "250px"
   },
   "toc_section_display": true,
   "toc_window_display": true
  },
  "varInspector": {
   "cols": {
    "lenName": 16,
    "lenType": 16,
    "lenVar": 40
   },
   "kernels_config": {
    "python": {
     "delete_cmd_postfix": "",
     "delete_cmd_prefix": "del ",
     "library": "var_list.py",
     "varRefreshCmd": "print(var_dic_list())"
    },
    "r": {
     "delete_cmd_postfix": ") ",
     "delete_cmd_prefix": "rm(",
     "library": "var_list.r",
     "varRefreshCmd": "cat(var_dic_list()) "
    }
   },
   "types_to_exclude": [
    "module",
    "function",
    "builtin_function_or_method",
    "instance",
    "_Feature"
   ],
   "window_display": false
  }
 },
 "nbformat": 4,
 "nbformat_minor": 5
}
