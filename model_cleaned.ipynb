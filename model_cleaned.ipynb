{
 "cells": [
  {
   "cell_type": "markdown",
   "id": "00015de1",
   "metadata": {},
   "source": [
    "<a id=\"top\"></a>\n",
    "# Table of Contents\n",
    "\n",
    "[1. Functions](#functions)<br>\n",
    "[2. Read and Clean](#read_clean)<br>\n",
    "[3. Dataframe set up](#df_setup)<br>\n"
   ]
  },
  {
   "cell_type": "code",
   "execution_count": 843,
   "id": "a5d04e36",
   "metadata": {},
   "outputs": [],
   "source": [
    "import numpy as np\n",
    "import math\n",
    "from math import sin, cos, sqrt, atan2, radians\n",
    "import pandas as pd\n",
    "import matplotlib.pyplot as plt\n",
    "%matplotlib inline\n",
    "import seaborn as sns\n",
    "from sklearn.preprocessing import StandardScaler\n",
    "from sklearn.preprocessing import minmax_scale\n",
    "from sklearn.preprocessing import OneHotEncoder\n",
    "from sklearn.linear_model import LinearRegression\n",
    "from sklearn.model_selection import train_test_split\n",
    "from sklearn.preprocessing import PowerTransformer\n",
    "from sklearn.preprocessing import QuantileTransformer\n",
    "from sklearn.linear_model import LinearRegression\n",
    "\n",
    "import statsmodels.api as sm\n",
    "from scipy.stats import boxcox\n",
    "import scipy.stats as stats\n",
    "\n",
    "from sklearn.model_selection import train_test_split\n",
    "from sklearn.metrics import r2_score\n",
    "from sklearn.metrics import mean_squared_error as mse\n",
    "from sklearn.metrics import mean_absolute_error as mae\n",
    "pd.options.display.max_rows = 50\n",
    "\n",
    "from scipy import stats"
   ]
  },
  {
   "cell_type": "markdown",
   "id": "55193f45",
   "metadata": {},
   "source": [
    "<a id=\"functions\"></a>\n",
    "## 1. Functions"
   ]
  },
  {
   "cell_type": "code",
   "execution_count": 3,
   "id": "db4b9e10",
   "metadata": {},
   "outputs": [],
   "source": [
    "def split_column_names_by(this_df, include_dtypes:[list]=[\"int\",\"float\"]):\n",
    "    # __author__ = \"Roman Kaltschew\"\n",
    "    \"\"\"takes in this_df, splits this_df's columns into two lists of column name by dtype of columns (default [\"int\",\"float\"]) \n",
    "       and returns tuple (incl_lst, excl_lst)\"\"\"\n",
    "    incl_lst = [_ for _ in this_df.select_dtypes(include=include_dtypes).dtypes.index]\n",
    "    excl_lst = [_ for _ in this_df.select_dtypes(exclude=include_dtypes).dtypes.index]\n",
    "    return (incl_lst, excl_lst)"
   ]
  },
  {
   "cell_type": "code",
   "execution_count": 4,
   "id": "40a646c7",
   "metadata": {},
   "outputs": [],
   "source": [
    "def plot_hist_normalized(this_column, this_scaler: [str] = \"standard_scaler\"):\n",
    "    # __author__ = \"Roman Kaltschew\"\n",
    "    if this_scaler == \"power_transformator\":\n",
    "        pt = PowerTransformer()\n",
    "        col_transformed_pt=pt.fit_transform(this_column.to_numpy().reshape(-1,1))\n",
    "        sns.displot(col_transformed_pt).set(title=f\"{this_column.name} - PowerTransformer\") \n",
    "    elif this_scaler == \"quantile_transformer\":\n",
    "        qt = QuantileTransformer(n_quantiles=500, output_distribution=\"normal\")\n",
    "        col_transformed_qt=qt.fit_transform(this_column.to_numpy().reshape(-1,1))\n",
    "        sns.displot(col_transformed_qt).set(title=f\"{this_column.name} - QuantileTransformer\")\n",
    "    else:\n",
    "        sc = StandardScaler()\n",
    "        col_transformed_sc=sc.fit_transform(this_column.to_numpy().reshape(-1,1))\n",
    "        sns.displot(col_transformed_sc).set(title=f\"{this_column.name} - StandardScaler\")"
   ]
  },
  {
   "cell_type": "code",
   "execution_count": 5,
   "id": "3555dc50",
   "metadata": {},
   "outputs": [],
   "source": [
    "def boxplots_for_all_numerical_cols(this_df):\n",
    "    # __author__ = \"Roman Kaltschew\"\n",
    "    fig, ax = plt.subplots(figsize=(10,10))\n",
    "    len_num_lst = len(split_column_names_by(this_df)[0])\n",
    "    i = 1\n",
    "    for col in split_column_names_by(this_df)[0]:            \n",
    "        plt.subplot(math.ceil(len_num_lst**.5),math.ceil(len_num_lst**.5),i)\n",
    "        sns.boxplot(y=this_df[col]).set(title=f\"{col}\")\n",
    "        i += 1"
   ]
  },
  {
   "cell_type": "code",
   "execution_count": 6,
   "id": "1452dd55",
   "metadata": {},
   "outputs": [],
   "source": [
    "def split_df_by(this_df, include_dtypes:[list]=[\"int\",\"float\"]):\n",
    "    # __author__ = \"Roman Kaltschew\"\n",
    "    \"\"\"takes in this_df, splits it into two NEW DF's by dtype of columns (default [\"int\",\"float\"]) \n",
    "       and returns tuple (incl_df, excl_df)\"\"\"\n",
    "    incl_lst = [_ for _ in this_df.select_dtypes(include=include_dtypes).dtypes.index]\n",
    "    excl_lst = [_ for _ in this_df.select_dtypes(exclude=include_dtypes).dtypes.index]\n",
    "    return (this_df[incl_lst], this_df[excl_lst])"
   ]
  },
  {
   "cell_type": "code",
   "execution_count": 7,
   "id": "a3c64454",
   "metadata": {},
   "outputs": [],
   "source": [
    "def all_numeric_to_int(this_df):\n",
    "    # __author__ = \"Roman Kaltschew\"\n",
    "    for col in this_df._get_numeric_data():\n",
    "        this_df[col] = this_df[col].astype(np.int64)\n",
    "    return this_df"
   ]
  },
  {
   "cell_type": "code",
   "execution_count": 8,
   "id": "d2969771",
   "metadata": {},
   "outputs": [],
   "source": [
    "def all_strings_lowercase(this_df):\n",
    "    # __author__ = \"Roman Kaltschew\"\n",
    "    for col in this_df:\n",
    "        this_df[col] = this_df[col].map(lambda x: x.lower() if isinstance(x,str) else x)\n",
    "    return this_df"
   ]
  },
  {
   "cell_type": "code",
   "execution_count": 9,
   "id": "f4ec575f",
   "metadata": {},
   "outputs": [],
   "source": [
    "def nan_values_of_all_columns(this_df, return_dict:[bool] = False):\n",
    "    # __author__ = \"Roman Kaltschew\"\n",
    "    \"\"\"prints (defaults) or returns dictionary of all columns in this_df and their respective nan-values\"\"\"\n",
    "    if not return_dict:\n",
    "        for col in this_df.columns:\n",
    "            print(col, this_df[col].isna().sum())\n",
    "        return\n",
    "    return {col:this_df[col].isna().sum() for col in this_df.columns}"
   ]
  },
  {
   "cell_type": "code",
   "execution_count": 10,
   "id": "ee5d03e4",
   "metadata": {},
   "outputs": [],
   "source": [
    "def extract_year_month(this_date:[str]=None):\n",
    "    # __author__ = \"Roman Kaltschew\"\n",
    "    \"\"\"takes this_date in format MM/DD/YYYY and returns YYYY_MM\"\"\"\n",
    "    if this_date:\n",
    "        return this_date.split(\"/\")[2]+\"_\"+this_date.split(\"/\")[0]\n",
    "    return None"
   ]
  },
  {
   "cell_type": "code",
   "execution_count": 11,
   "id": "289ff55a",
   "metadata": {},
   "outputs": [],
   "source": [
    "def extract_month(this_date:[str]=None, as_type:[str]=None):\n",
    "    # __author__ = \"Roman Kaltschew\"\n",
    "    \"\"\"takes this_date in format MM/DD/YYYY and returns MM as_type (default str)\"\"\"\n",
    "    if this_date:\n",
    "        if as_type == \"int\":\n",
    "            return int(this_date.split(\"/\")[0])\n",
    "        else:\n",
    "            return str(this_date.split(\"/\")[0])\n",
    "    return None"
   ]
  },
  {
   "cell_type": "code",
   "execution_count": 12,
   "id": "ea1d7c5c",
   "metadata": {},
   "outputs": [],
   "source": [
    "def corr_mat(num_df):\n",
    "    corr = num_df.corr()\n",
    "    mask = np.zeros_like(corr)\n",
    "    mask[np.triu_indices_from(mask)] = True\n",
    "    with sns.axes_style(\"white\"):\n",
    "        f, ax = plt.subplots(figsize=(9, 7))\n",
    "        ax = sns.heatmap(corr, mask=mask,cmap='coolwarm', vmin=-1,vmax=1,annot=True, square=True)"
   ]
  },
  {
   "cell_type": "code",
   "execution_count": 13,
   "id": "1acaba69",
   "metadata": {},
   "outputs": [],
   "source": [
    "def return_year(this_date:[str]=None):\n",
    "    # __author__ = \"Roman Kaltschew\"\n",
    "    return int(this_date.split(\"/\")[2])"
   ]
  },
  {
   "cell_type": "code",
   "execution_count": 14,
   "id": "fc5f4421",
   "metadata": {},
   "outputs": [],
   "source": [
    "def return_distance(coord:[tuple]):\n",
    "    # __author__ = \"Roman Kaltschew\"\n",
    "    \"\"\"takes in a tuple of lat and lon, calculates distance to coords_center_top_prices calculated BEFORE running this function\"\"\"\n",
    "    R = 3958.8   # radius of earth in miles\n",
    "\n",
    "    lat1 = radians(coords_center_top_prices[0])\n",
    "    lon1 = radians(coords_center_top_prices[1])\n",
    "\n",
    "    lat2 = radians(coord[0])\n",
    "    lon2 = radians(coord[1])\n",
    "\n",
    "    dlon = lon2 - lon1\n",
    "    dlat = lat2 - lat1\n",
    "\n",
    "    a = sin(dlat / 2)**2 + cos(lat1) * cos(lat2) * sin(dlon / 2)**2\n",
    "    c = 2 * atan2(sqrt(a), sqrt(1 - a))\n",
    "\n",
    "    return R * c"
   ]
  },
  {
   "cell_type": "markdown",
   "id": "bf5db63e",
   "metadata": {},
   "source": [
    "[top of notebook](#top)"
   ]
  },
  {
   "cell_type": "markdown",
   "id": "64a15385",
   "metadata": {},
   "source": [
    "<a id='read_clean'></a>\n",
    "\n",
    "## 2 Read and Clean"
   ]
  },
  {
   "cell_type": "code",
   "execution_count": 15,
   "id": "75c5afc0",
   "metadata": {},
   "outputs": [
    {
     "data": {
      "text/html": [
       "<div>\n",
       "<style scoped>\n",
       "    .dataframe tbody tr th:only-of-type {\n",
       "        vertical-align: middle;\n",
       "    }\n",
       "\n",
       "    .dataframe tbody tr th {\n",
       "        vertical-align: top;\n",
       "    }\n",
       "\n",
       "    .dataframe thead th {\n",
       "        text-align: right;\n",
       "    }\n",
       "</style>\n",
       "<table border=\"1\" class=\"dataframe\">\n",
       "  <thead>\n",
       "    <tr style=\"text-align: right;\">\n",
       "      <th></th>\n",
       "      <th>id</th>\n",
       "      <th>date</th>\n",
       "      <th>bedrooms</th>\n",
       "      <th>bathrooms</th>\n",
       "      <th>sqft_living</th>\n",
       "      <th>sqft_lot</th>\n",
       "      <th>floors</th>\n",
       "      <th>waterfront</th>\n",
       "      <th>view</th>\n",
       "      <th>condition</th>\n",
       "      <th>...</th>\n",
       "      <th>sqft_above</th>\n",
       "      <th>sqft_basement</th>\n",
       "      <th>yr_built</th>\n",
       "      <th>yr_renovated</th>\n",
       "      <th>zipcode</th>\n",
       "      <th>lat</th>\n",
       "      <th>long</th>\n",
       "      <th>sqft_living15</th>\n",
       "      <th>sqft_lot15</th>\n",
       "      <th>price</th>\n",
       "    </tr>\n",
       "  </thead>\n",
       "  <tbody>\n",
       "    <tr>\n",
       "      <th>0</th>\n",
       "      <td>7129300520</td>\n",
       "      <td>10/13/2014</td>\n",
       "      <td>3</td>\n",
       "      <td>1.00</td>\n",
       "      <td>1180</td>\n",
       "      <td>5650</td>\n",
       "      <td>1.0</td>\n",
       "      <td>0</td>\n",
       "      <td>0</td>\n",
       "      <td>3</td>\n",
       "      <td>...</td>\n",
       "      <td>1180</td>\n",
       "      <td>0</td>\n",
       "      <td>1955</td>\n",
       "      <td>0</td>\n",
       "      <td>98178</td>\n",
       "      <td>47.5112</td>\n",
       "      <td>-122.257</td>\n",
       "      <td>1340</td>\n",
       "      <td>5650</td>\n",
       "      <td>221900</td>\n",
       "    </tr>\n",
       "    <tr>\n",
       "      <th>1</th>\n",
       "      <td>6414100192</td>\n",
       "      <td>12/9/2014</td>\n",
       "      <td>3</td>\n",
       "      <td>2.25</td>\n",
       "      <td>2570</td>\n",
       "      <td>7242</td>\n",
       "      <td>2.0</td>\n",
       "      <td>0</td>\n",
       "      <td>0</td>\n",
       "      <td>3</td>\n",
       "      <td>...</td>\n",
       "      <td>2170</td>\n",
       "      <td>400</td>\n",
       "      <td>1951</td>\n",
       "      <td>1991</td>\n",
       "      <td>98125</td>\n",
       "      <td>47.7210</td>\n",
       "      <td>-122.319</td>\n",
       "      <td>1690</td>\n",
       "      <td>7639</td>\n",
       "      <td>538000</td>\n",
       "    </tr>\n",
       "    <tr>\n",
       "      <th>2</th>\n",
       "      <td>5631500400</td>\n",
       "      <td>2/25/2015</td>\n",
       "      <td>2</td>\n",
       "      <td>1.00</td>\n",
       "      <td>770</td>\n",
       "      <td>10000</td>\n",
       "      <td>1.0</td>\n",
       "      <td>0</td>\n",
       "      <td>0</td>\n",
       "      <td>3</td>\n",
       "      <td>...</td>\n",
       "      <td>770</td>\n",
       "      <td>0</td>\n",
       "      <td>1933</td>\n",
       "      <td>0</td>\n",
       "      <td>98028</td>\n",
       "      <td>47.7379</td>\n",
       "      <td>-122.233</td>\n",
       "      <td>2720</td>\n",
       "      <td>8062</td>\n",
       "      <td>180000</td>\n",
       "    </tr>\n",
       "    <tr>\n",
       "      <th>3</th>\n",
       "      <td>2487200875</td>\n",
       "      <td>12/9/2014</td>\n",
       "      <td>4</td>\n",
       "      <td>3.00</td>\n",
       "      <td>1960</td>\n",
       "      <td>5000</td>\n",
       "      <td>1.0</td>\n",
       "      <td>0</td>\n",
       "      <td>0</td>\n",
       "      <td>5</td>\n",
       "      <td>...</td>\n",
       "      <td>1050</td>\n",
       "      <td>910</td>\n",
       "      <td>1965</td>\n",
       "      <td>0</td>\n",
       "      <td>98136</td>\n",
       "      <td>47.5208</td>\n",
       "      <td>-122.393</td>\n",
       "      <td>1360</td>\n",
       "      <td>5000</td>\n",
       "      <td>604000</td>\n",
       "    </tr>\n",
       "    <tr>\n",
       "      <th>4</th>\n",
       "      <td>1954400510</td>\n",
       "      <td>2/18/2015</td>\n",
       "      <td>3</td>\n",
       "      <td>2.00</td>\n",
       "      <td>1680</td>\n",
       "      <td>8080</td>\n",
       "      <td>1.0</td>\n",
       "      <td>0</td>\n",
       "      <td>0</td>\n",
       "      <td>3</td>\n",
       "      <td>...</td>\n",
       "      <td>1680</td>\n",
       "      <td>0</td>\n",
       "      <td>1987</td>\n",
       "      <td>0</td>\n",
       "      <td>98074</td>\n",
       "      <td>47.6168</td>\n",
       "      <td>-122.045</td>\n",
       "      <td>1800</td>\n",
       "      <td>7503</td>\n",
       "      <td>510000</td>\n",
       "    </tr>\n",
       "  </tbody>\n",
       "</table>\n",
       "<p>5 rows × 21 columns</p>\n",
       "</div>"
      ],
      "text/plain": [
       "           id        date  bedrooms  bathrooms  sqft_living  sqft_lot  floors  \\\n",
       "0  7129300520  10/13/2014         3       1.00         1180      5650     1.0   \n",
       "1  6414100192   12/9/2014         3       2.25         2570      7242     2.0   \n",
       "2  5631500400   2/25/2015         2       1.00          770     10000     1.0   \n",
       "3  2487200875   12/9/2014         4       3.00         1960      5000     1.0   \n",
       "4  1954400510   2/18/2015         3       2.00         1680      8080     1.0   \n",
       "\n",
       "   waterfront  view  condition  ...  sqft_above  sqft_basement  yr_built  \\\n",
       "0           0     0          3  ...        1180              0      1955   \n",
       "1           0     0          3  ...        2170            400      1951   \n",
       "2           0     0          3  ...         770              0      1933   \n",
       "3           0     0          5  ...        1050            910      1965   \n",
       "4           0     0          3  ...        1680              0      1987   \n",
       "\n",
       "   yr_renovated  zipcode      lat     long  sqft_living15  sqft_lot15   price  \n",
       "0             0    98178  47.5112 -122.257           1340        5650  221900  \n",
       "1          1991    98125  47.7210 -122.319           1690        7639  538000  \n",
       "2             0    98028  47.7379 -122.233           2720        8062  180000  \n",
       "3             0    98136  47.5208 -122.393           1360        5000  604000  \n",
       "4             0    98074  47.6168 -122.045           1800        7503  510000  \n",
       "\n",
       "[5 rows x 21 columns]"
      ]
     },
     "execution_count": 15,
     "metadata": {},
     "output_type": "execute_result"
    }
   ],
   "source": [
    "data = pd.read_csv(\"data/regression_data.csv\")\n",
    "data.head()"
   ]
  },
  {
   "cell_type": "markdown",
   "id": "9f454faa",
   "metadata": {},
   "source": [
    "<a id=\"classifying_columns\"></a>\n",
    "### 2.1 Classifying columns"
   ]
  },
  {
   "cell_type": "markdown",
   "id": "abe90ac7",
   "metadata": {},
   "source": [
    "+ divide columns in numerical and discrete"
   ]
  },
  {
   "cell_type": "code",
   "execution_count": 16,
   "id": "feedcada",
   "metadata": {},
   "outputs": [
    {
     "name": "stdout",
     "output_type": "stream",
     "text": [
      "<class 'pandas.core.frame.DataFrame'>\n",
      "RangeIndex: 21597 entries, 0 to 21596\n",
      "Data columns (total 21 columns):\n",
      " #   Column         Non-Null Count  Dtype  \n",
      "---  ------         --------------  -----  \n",
      " 0   id             21597 non-null  int64  \n",
      " 1   date           21597 non-null  object \n",
      " 2   bedrooms       21597 non-null  int64  \n",
      " 3   bathrooms      21597 non-null  float64\n",
      " 4   sqft_living    21597 non-null  int64  \n",
      " 5   sqft_lot       21597 non-null  int64  \n",
      " 6   floors         21597 non-null  float64\n",
      " 7   waterfront     21597 non-null  int64  \n",
      " 8   view           21597 non-null  int64  \n",
      " 9   condition      21597 non-null  int64  \n",
      " 10  grade          21597 non-null  int64  \n",
      " 11  sqft_above     21597 non-null  int64  \n",
      " 12  sqft_basement  21597 non-null  int64  \n",
      " 13  yr_built       21597 non-null  int64  \n",
      " 14  yr_renovated   21597 non-null  int64  \n",
      " 15  zipcode        21597 non-null  int64  \n",
      " 16  lat            21597 non-null  float64\n",
      " 17  long           21597 non-null  float64\n",
      " 18  sqft_living15  21597 non-null  int64  \n",
      " 19  sqft_lot15     21597 non-null  int64  \n",
      " 20  price          21597 non-null  int64  \n",
      "dtypes: float64(4), int64(16), object(1)\n",
      "memory usage: 3.5+ MB\n"
     ]
    }
   ],
   "source": [
    "data.info()"
   ]
  },
  {
   "cell_type": "code",
   "execution_count": 17,
   "id": "8613b635",
   "metadata": {},
   "outputs": [],
   "source": [
    "for col in data.columns:\n",
    "    data[col] = data[col].astype('category')"
   ]
  },
  {
   "cell_type": "code",
   "execution_count": 18,
   "id": "a8cbd183",
   "metadata": {},
   "outputs": [],
   "source": [
    "for col in [\"sqft_living\", \"sqft_lot\", \"sqft_above\", \"sqft_basement\", \"price\", \"sqft_living15\", \"sqft_lot15\", \"yr_built\", \"yr_renovated\"]:\n",
    "    data[col] = data[col].astype(\"int64\")"
   ]
  },
  {
   "cell_type": "code",
   "execution_count": null,
   "id": "ab8dfdd9",
   "metadata": {},
   "outputs": [],
   "source": []
  },
  {
   "cell_type": "markdown",
   "id": "e870783d",
   "metadata": {},
   "source": [
    "[top of notebook](#top)"
   ]
  },
  {
   "cell_type": "markdown",
   "id": "4cf9dff0",
   "metadata": {},
   "source": [
    "<a id=\"numericals\"></a>\n",
    "### 2.2 Numericals"
   ]
  },
  {
   "cell_type": "markdown",
   "id": "bf85d29f",
   "metadata": {},
   "source": [
    "#### 2.2.1 Check for NaNs"
   ]
  },
  {
   "cell_type": "code",
   "execution_count": 19,
   "id": "1a8f46b0",
   "metadata": {},
   "outputs": [
    {
     "name": "stdout",
     "output_type": "stream",
     "text": [
      "sqft_living 0\n",
      "sqft_lot 0\n",
      "sqft_above 0\n",
      "sqft_basement 0\n",
      "yr_built 0\n",
      "yr_renovated 0\n",
      "sqft_living15 0\n",
      "sqft_lot15 0\n",
      "price 0\n"
     ]
    }
   ],
   "source": [
    "nan_values_of_all_columns(data[split_column_names_by(data)[0]])"
   ]
  },
  {
   "cell_type": "markdown",
   "id": "867f7334",
   "metadata": {},
   "source": [
    "#### 2.2.2 Boxplots - check for outliers"
   ]
  },
  {
   "cell_type": "code",
   "execution_count": 20,
   "id": "f8d34db7",
   "metadata": {},
   "outputs": [
    {
     "data": {
      "image/png": "[encoded data removed]",
      "text/plain": [
       "<Figure size 720x720 with 9 Axes>"
      ]
     },
     "metadata": {
      "needs_background": "light"
     },
     "output_type": "display_data"
    }
   ],
   "source": [
    "boxplots_for_all_numerical_cols(data)"
   ]
  },
  {
   "cell_type": "markdown",
   "id": "7ad079ea",
   "metadata": {},
   "source": [
    "##### bedroom outlier"
   ]
  },
  {
   "cell_type": "code",
   "execution_count": 21,
   "id": "0b90131a",
   "metadata": {},
   "outputs": [
    {
     "data": {
      "text/html": [
       "<div>\n",
       "<style scoped>\n",
       "    .dataframe tbody tr th:only-of-type {\n",
       "        vertical-align: middle;\n",
       "    }\n",
       "\n",
       "    .dataframe tbody tr th {\n",
       "        vertical-align: top;\n",
       "    }\n",
       "\n",
       "    .dataframe thead th {\n",
       "        text-align: right;\n",
       "    }\n",
       "</style>\n",
       "<table border=\"1\" class=\"dataframe\">\n",
       "  <thead>\n",
       "    <tr style=\"text-align: right;\">\n",
       "      <th></th>\n",
       "      <th>bedrooms</th>\n",
       "      <th>sqft_living</th>\n",
       "    </tr>\n",
       "  </thead>\n",
       "  <tbody>\n",
       "    <tr>\n",
       "      <th>15856</th>\n",
       "      <td>33</td>\n",
       "      <td>1620</td>\n",
       "    </tr>\n",
       "  </tbody>\n",
       "</table>\n",
       "</div>"
      ],
      "text/plain": [
       "      bedrooms  sqft_living\n",
       "15856       33         1620"
      ]
     },
     "execution_count": 21,
     "metadata": {},
     "output_type": "execute_result"
    }
   ],
   "source": [
    "data[data[\"bedrooms\"] == max(data[\"bedrooms\"])][[\"bedrooms\",\"sqft_living\"]]"
   ]
  },
  {
   "cell_type": "code",
   "execution_count": 22,
   "id": "af520d77",
   "metadata": {},
   "outputs": [
    {
     "name": "stdout",
     "output_type": "stream",
     "text": [
      "Average living space of tree bedrooms: 1805.84\n",
      "Average living space of two bedrooms: 1239.75\n"
     ]
    }
   ],
   "source": [
    "print(f\"Average living space of tree bedrooms: {round(np.mean(data[data['bedrooms']==3]['sqft_living']), 2)}\")\n",
    "print(f\"Average living space of two bedrooms: {round(np.mean(data[data['bedrooms']==2]['sqft_living']), 2)}\")"
   ]
  },
  {
   "cell_type": "markdown",
   "id": "a09b26df",
   "metadata": {},
   "source": [
    "+ it is likely, that the 33 is a typo, it will be changed to 3"
   ]
  },
  {
   "cell_type": "code",
   "execution_count": 23,
   "id": "5926cefe",
   "metadata": {},
   "outputs": [],
   "source": [
    "data.at[15856,\"bedrooms\"] = 3"
   ]
  },
  {
   "cell_type": "markdown",
   "id": "7e8728d0",
   "metadata": {},
   "source": [
    "##### sqft_lot outlier"
   ]
  },
  {
   "cell_type": "code",
   "execution_count": 24,
   "id": "935db30f",
   "metadata": {},
   "outputs": [
    {
     "name": "stdout",
     "output_type": "stream",
     "text": [
      "     bedrooms  sqft_lot\n",
      "1717        4   1651359\n"
     ]
    }
   ],
   "source": [
    "print(data[data[\"sqft_lot\"] == max(data[\"sqft_lot\"])][[\"bedrooms\",\"sqft_lot\"]])"
   ]
  },
  {
   "cell_type": "code",
   "execution_count": 25,
   "id": "5b134db2",
   "metadata": {},
   "outputs": [
    {
     "name": "stdout",
     "output_type": "stream",
     "text": [
      "Average lot in ft² of four bedrooms: 16720.79\n"
     ]
    }
   ],
   "source": [
    "print(f\"Average lot in ft² of four bedrooms: {round(np.mean(data[data['bedrooms']==4]['sqft_lot']), 2)}\")\n"
   ]
  },
  {
   "cell_type": "markdown",
   "id": "8d6c1310",
   "metadata": {},
   "source": [
    "+ it is likely, that a comma was forgotton, sqft_lot will be set to 16513.59"
   ]
  },
  {
   "cell_type": "code",
   "execution_count": 26,
   "id": "d8996111",
   "metadata": {},
   "outputs": [],
   "source": [
    "data.at[1717,\"sqft_lot\"] = 16513.59"
   ]
  },
  {
   "cell_type": "markdown",
   "id": "8d41c93d",
   "metadata": {},
   "source": [
    "##### sqft_living"
   ]
  },
  {
   "cell_type": "code",
   "execution_count": 27,
   "id": "5092a2f1",
   "metadata": {},
   "outputs": [
    {
     "data": {
      "text/html": [
       "<div>\n",
       "<style scoped>\n",
       "    .dataframe tbody tr th:only-of-type {\n",
       "        vertical-align: middle;\n",
       "    }\n",
       "\n",
       "    .dataframe tbody tr th {\n",
       "        vertical-align: top;\n",
       "    }\n",
       "\n",
       "    .dataframe thead th {\n",
       "        text-align: right;\n",
       "    }\n",
       "</style>\n",
       "<table border=\"1\" class=\"dataframe\">\n",
       "  <thead>\n",
       "    <tr style=\"text-align: right;\">\n",
       "      <th></th>\n",
       "      <th>id</th>\n",
       "      <th>date</th>\n",
       "      <th>bedrooms</th>\n",
       "      <th>bathrooms</th>\n",
       "      <th>sqft_living</th>\n",
       "      <th>sqft_lot</th>\n",
       "      <th>floors</th>\n",
       "      <th>waterfront</th>\n",
       "      <th>view</th>\n",
       "      <th>condition</th>\n",
       "      <th>...</th>\n",
       "      <th>sqft_above</th>\n",
       "      <th>sqft_basement</th>\n",
       "      <th>yr_built</th>\n",
       "      <th>yr_renovated</th>\n",
       "      <th>zipcode</th>\n",
       "      <th>lat</th>\n",
       "      <th>long</th>\n",
       "      <th>sqft_living15</th>\n",
       "      <th>sqft_lot15</th>\n",
       "      <th>price</th>\n",
       "    </tr>\n",
       "  </thead>\n",
       "  <tbody>\n",
       "    <tr>\n",
       "      <th>12764</th>\n",
       "      <td>1225069038</td>\n",
       "      <td>5/5/2014</td>\n",
       "      <td>7</td>\n",
       "      <td>8.0</td>\n",
       "      <td>13540</td>\n",
       "      <td>307752</td>\n",
       "      <td>3.0</td>\n",
       "      <td>0</td>\n",
       "      <td>4</td>\n",
       "      <td>3</td>\n",
       "      <td>...</td>\n",
       "      <td>9410</td>\n",
       "      <td>4130</td>\n",
       "      <td>1999</td>\n",
       "      <td>0</td>\n",
       "      <td>98053</td>\n",
       "      <td>47.6675</td>\n",
       "      <td>-121.986</td>\n",
       "      <td>4850</td>\n",
       "      <td>217800</td>\n",
       "      <td>2280000</td>\n",
       "    </tr>\n",
       "  </tbody>\n",
       "</table>\n",
       "<p>1 rows × 21 columns</p>\n",
       "</div>"
      ],
      "text/plain": [
       "               id      date bedrooms bathrooms  sqft_living  sqft_lot floors  \\\n",
       "12764  1225069038  5/5/2014        7       8.0        13540    307752    3.0   \n",
       "\n",
       "      waterfront view condition  ... sqft_above  sqft_basement  yr_built  \\\n",
       "12764          0    4         3  ...       9410           4130      1999   \n",
       "\n",
       "       yr_renovated  zipcode      lat     long sqft_living15  sqft_lot15  \\\n",
       "12764             0    98053  47.6675 -121.986          4850      217800   \n",
       "\n",
       "         price  \n",
       "12764  2280000  \n",
       "\n",
       "[1 rows x 21 columns]"
      ]
     },
     "execution_count": 27,
     "metadata": {},
     "output_type": "execute_result"
    }
   ],
   "source": [
    "# max sqft_living\n",
    "data[data[\"sqft_living\"] == max(data[\"sqft_living\"])]"
   ]
  },
  {
   "cell_type": "code",
   "execution_count": 28,
   "id": "e68716ee",
   "metadata": {},
   "outputs": [
    {
     "data": {
      "text/html": [
       "<div>\n",
       "<style scoped>\n",
       "    .dataframe tbody tr th:only-of-type {\n",
       "        vertical-align: middle;\n",
       "    }\n",
       "\n",
       "    .dataframe tbody tr th {\n",
       "        vertical-align: top;\n",
       "    }\n",
       "\n",
       "    .dataframe thead th {\n",
       "        text-align: right;\n",
       "    }\n",
       "</style>\n",
       "<table border=\"1\" class=\"dataframe\">\n",
       "  <thead>\n",
       "    <tr style=\"text-align: right;\">\n",
       "      <th></th>\n",
       "      <th>id</th>\n",
       "      <th>date</th>\n",
       "      <th>bedrooms</th>\n",
       "      <th>bathrooms</th>\n",
       "      <th>sqft_living</th>\n",
       "      <th>sqft_lot</th>\n",
       "      <th>floors</th>\n",
       "      <th>waterfront</th>\n",
       "      <th>view</th>\n",
       "      <th>condition</th>\n",
       "      <th>...</th>\n",
       "      <th>sqft_above</th>\n",
       "      <th>sqft_basement</th>\n",
       "      <th>yr_built</th>\n",
       "      <th>yr_renovated</th>\n",
       "      <th>zipcode</th>\n",
       "      <th>lat</th>\n",
       "      <th>long</th>\n",
       "      <th>sqft_living15</th>\n",
       "      <th>sqft_lot15</th>\n",
       "      <th>price</th>\n",
       "    </tr>\n",
       "  </thead>\n",
       "  <tbody>\n",
       "    <tr>\n",
       "      <th>3910</th>\n",
       "      <td>9808700762</td>\n",
       "      <td>6/11/2014</td>\n",
       "      <td>5</td>\n",
       "      <td>4.5</td>\n",
       "      <td>10040</td>\n",
       "      <td>37325</td>\n",
       "      <td>2.0</td>\n",
       "      <td>1</td>\n",
       "      <td>2</td>\n",
       "      <td>3</td>\n",
       "      <td>...</td>\n",
       "      <td>7680</td>\n",
       "      <td>2360</td>\n",
       "      <td>1940</td>\n",
       "      <td>2001</td>\n",
       "      <td>98004</td>\n",
       "      <td>47.6500</td>\n",
       "      <td>-122.214</td>\n",
       "      <td>3930</td>\n",
       "      <td>25449</td>\n",
       "      <td>7060000</td>\n",
       "    </tr>\n",
       "    <tr>\n",
       "      <th>7245</th>\n",
       "      <td>6762700020</td>\n",
       "      <td>10/13/2014</td>\n",
       "      <td>6</td>\n",
       "      <td>8.0</td>\n",
       "      <td>12050</td>\n",
       "      <td>27600</td>\n",
       "      <td>2.5</td>\n",
       "      <td>0</td>\n",
       "      <td>3</td>\n",
       "      <td>4</td>\n",
       "      <td>...</td>\n",
       "      <td>8570</td>\n",
       "      <td>3480</td>\n",
       "      <td>1910</td>\n",
       "      <td>1987</td>\n",
       "      <td>98102</td>\n",
       "      <td>47.6298</td>\n",
       "      <td>-122.323</td>\n",
       "      <td>3940</td>\n",
       "      <td>8800</td>\n",
       "      <td>7700000</td>\n",
       "    </tr>\n",
       "    <tr>\n",
       "      <th>12764</th>\n",
       "      <td>1225069038</td>\n",
       "      <td>5/5/2014</td>\n",
       "      <td>7</td>\n",
       "      <td>8.0</td>\n",
       "      <td>13540</td>\n",
       "      <td>307752</td>\n",
       "      <td>3.0</td>\n",
       "      <td>0</td>\n",
       "      <td>4</td>\n",
       "      <td>3</td>\n",
       "      <td>...</td>\n",
       "      <td>9410</td>\n",
       "      <td>4130</td>\n",
       "      <td>1999</td>\n",
       "      <td>0</td>\n",
       "      <td>98053</td>\n",
       "      <td>47.6675</td>\n",
       "      <td>-121.986</td>\n",
       "      <td>4850</td>\n",
       "      <td>217800</td>\n",
       "      <td>2280000</td>\n",
       "    </tr>\n",
       "  </tbody>\n",
       "</table>\n",
       "<p>3 rows × 21 columns</p>\n",
       "</div>"
      ],
      "text/plain": [
       "               id        date bedrooms bathrooms  sqft_living  sqft_lot  \\\n",
       "3910   9808700762   6/11/2014        5       4.5        10040     37325   \n",
       "7245   6762700020  10/13/2014        6       8.0        12050     27600   \n",
       "12764  1225069038    5/5/2014        7       8.0        13540    307752   \n",
       "\n",
       "      floors waterfront view condition  ... sqft_above  sqft_basement  \\\n",
       "3910     2.0          1    2         3  ...       7680           2360   \n",
       "7245     2.5          0    3         4  ...       8570           3480   \n",
       "12764    3.0          0    4         3  ...       9410           4130   \n",
       "\n",
       "       yr_built  yr_renovated  zipcode      lat     long sqft_living15  \\\n",
       "3910       1940          2001    98004  47.6500 -122.214          3930   \n",
       "7245       1910          1987    98102  47.6298 -122.323          3940   \n",
       "12764      1999             0    98053  47.6675 -121.986          4850   \n",
       "\n",
       "       sqft_lot15    price  \n",
       "3910        25449  7060000  \n",
       "7245         8800  7700000  \n",
       "12764      217800  2280000  \n",
       "\n",
       "[3 rows x 21 columns]"
      ]
     },
     "execution_count": 28,
     "metadata": {},
     "output_type": "execute_result"
    }
   ],
   "source": [
    "# sqft_living > 10000\n",
    "data[data[\"sqft_living\"] > 10000]"
   ]
  },
  {
   "cell_type": "markdown",
   "id": "49e760ff",
   "metadata": {},
   "source": [
    "consider dropping these for modelling, as they don't represent a \"normal\" property in this dataset<br>\n",
    "update: in the model with the highest adjusted r², these properties are excluding by price filtering"
   ]
  },
  {
   "cell_type": "markdown",
   "id": "0e50c3b4",
   "metadata": {},
   "source": [
    "##### sqft_basement"
   ]
  },
  {
   "cell_type": "code",
   "execution_count": 29,
   "id": "a45f2c18",
   "metadata": {},
   "outputs": [
    {
     "data": {
      "text/html": [
       "<div>\n",
       "<style scoped>\n",
       "    .dataframe tbody tr th:only-of-type {\n",
       "        vertical-align: middle;\n",
       "    }\n",
       "\n",
       "    .dataframe tbody tr th {\n",
       "        vertical-align: top;\n",
       "    }\n",
       "\n",
       "    .dataframe thead th {\n",
       "        text-align: right;\n",
       "    }\n",
       "</style>\n",
       "<table border=\"1\" class=\"dataframe\">\n",
       "  <thead>\n",
       "    <tr style=\"text-align: right;\">\n",
       "      <th></th>\n",
       "      <th>id</th>\n",
       "      <th>date</th>\n",
       "      <th>bedrooms</th>\n",
       "      <th>bathrooms</th>\n",
       "      <th>sqft_living</th>\n",
       "      <th>sqft_lot</th>\n",
       "      <th>floors</th>\n",
       "      <th>waterfront</th>\n",
       "      <th>view</th>\n",
       "      <th>condition</th>\n",
       "      <th>...</th>\n",
       "      <th>sqft_above</th>\n",
       "      <th>sqft_basement</th>\n",
       "      <th>yr_built</th>\n",
       "      <th>yr_renovated</th>\n",
       "      <th>zipcode</th>\n",
       "      <th>lat</th>\n",
       "      <th>long</th>\n",
       "      <th>sqft_living15</th>\n",
       "      <th>sqft_lot15</th>\n",
       "      <th>price</th>\n",
       "    </tr>\n",
       "  </thead>\n",
       "  <tbody>\n",
       "    <tr>\n",
       "      <th>8085</th>\n",
       "      <td>1924059029</td>\n",
       "      <td>6/17/2014</td>\n",
       "      <td>5</td>\n",
       "      <td>6.75</td>\n",
       "      <td>9640</td>\n",
       "      <td>13068</td>\n",
       "      <td>1.0</td>\n",
       "      <td>1</td>\n",
       "      <td>4</td>\n",
       "      <td>3</td>\n",
       "      <td>...</td>\n",
       "      <td>4820</td>\n",
       "      <td>4820</td>\n",
       "      <td>1983</td>\n",
       "      <td>2009</td>\n",
       "      <td>98040</td>\n",
       "      <td>47.557</td>\n",
       "      <td>-122.21</td>\n",
       "      <td>3270</td>\n",
       "      <td>10454</td>\n",
       "      <td>4670000</td>\n",
       "    </tr>\n",
       "  </tbody>\n",
       "</table>\n",
       "<p>1 rows × 21 columns</p>\n",
       "</div>"
      ],
      "text/plain": [
       "              id       date bedrooms bathrooms  sqft_living  sqft_lot floors  \\\n",
       "8085  1924059029  6/17/2014        5      6.75         9640     13068    1.0   \n",
       "\n",
       "     waterfront view condition  ... sqft_above  sqft_basement  yr_built  \\\n",
       "8085          1    4         3  ...       4820           4820      1983   \n",
       "\n",
       "      yr_renovated  zipcode     lat    long sqft_living15  sqft_lot15    price  \n",
       "8085          2009    98040  47.557 -122.21          3270       10454  4670000  \n",
       "\n",
       "[1 rows x 21 columns]"
      ]
     },
     "execution_count": 29,
     "metadata": {},
     "output_type": "execute_result"
    }
   ],
   "source": [
    "# max sqft_basement\n",
    "data[data[\"sqft_basement\"] == max(data[\"sqft_basement\"])]"
   ]
  },
  {
   "cell_type": "code",
   "execution_count": 30,
   "id": "330da7a7",
   "metadata": {},
   "outputs": [
    {
     "name": "stdout",
     "output_type": "stream",
     "text": [
      "Average sqft_basement of five bedrooms: 639.98\n",
      "Average sqft_above of five bedrooms: 2407.57\n"
     ]
    }
   ],
   "source": [
    "print(f\"Average sqft_basement of five bedrooms: {round(np.mean(data[data['bedrooms']==5]['sqft_basement']), 2)}\")\n",
    "print(f\"Average sqft_above of five bedrooms: {round(np.mean(data[data['bedrooms']==5]['sqft_above']), 2)}\")"
   ]
  },
  {
   "cell_type": "markdown",
   "id": "e8e32aef",
   "metadata": {},
   "source": [
    "no suitable solution found apart from dropping datapoint completely"
   ]
  },
  {
   "cell_type": "markdown",
   "id": "be4ef3cc",
   "metadata": {},
   "source": [
    "#### 2.2.3 Build age at time of sale column (feature engineering)"
   ]
  },
  {
   "cell_type": "code",
   "execution_count": 31,
   "id": "432643e5",
   "metadata": {},
   "outputs": [],
   "source": [
    "data[\"year_sold\"] = list(map(return_year, data[\"date\"]))"
   ]
  },
  {
   "cell_type": "code",
   "execution_count": 32,
   "id": "157dae3d",
   "metadata": {},
   "outputs": [],
   "source": [
    "data[\"year_last\"] = data[\"yr_built\"]"
   ]
  },
  {
   "cell_type": "code",
   "execution_count": 33,
   "id": "afa94e62",
   "metadata": {},
   "outputs": [],
   "source": [
    "# get indeces of renovated properties\n",
    "ren_lst = list(data[data[\"yr_renovated\"] != 0].index)"
   ]
  },
  {
   "cell_type": "code",
   "execution_count": 34,
   "id": "d2f0d655",
   "metadata": {},
   "outputs": [],
   "source": [
    "# change respectective rows\n",
    "for i in ren_lst:\n",
    "    data.at[i,\"year_last\"] = data[\"yr_renovated\"].iloc[i]"
   ]
  },
  {
   "cell_type": "code",
   "execution_count": 35,
   "id": "b202da2b",
   "metadata": {},
   "outputs": [],
   "source": [
    "data[\"age_in_2015\"] = 2015 - data[\"year_last\"]"
   ]
  },
  {
   "cell_type": "markdown",
   "id": "2cede6c3",
   "metadata": {},
   "source": [
    "#### 2.2.4 average sqft price according to view"
   ]
  },
  {
   "cell_type": "code",
   "execution_count": 788,
   "id": "d585d241",
   "metadata": {},
   "outputs": [
    {
     "name": "stdout",
     "output_type": "stream",
     "text": [
      "View = 0  →  256.8777439007596\n",
      "View = 1  →  319.97283025967334\n",
      "View = 2  →  304.35271830456304\n",
      "View = 3  →  322.6116490600102\n",
      "View = 4  →  434.998060993705\n"
     ]
    }
   ],
   "source": [
    "data[\"sqft_price\"] = data[\"price\"] / data[\"sqft_living\"]\n",
    "for v in range(5):\n",
    "    print(\"View =\", v,\" → \", np.mean(data[data[\"view\"] == v][\"sqft_price\"]))"
   ]
  },
  {
   "cell_type": "markdown",
   "id": "77735507",
   "metadata": {},
   "source": [
    "#### 2.2.5 Change all numeric values to integer"
   ]
  },
  {
   "cell_type": "markdown",
   "id": "49e91036",
   "metadata": {},
   "source": [
    "+ decided **against**, as most of the data is already numerical and some data shouldn't be (long, lat, rooms, ...)"
   ]
  },
  {
   "cell_type": "code",
   "execution_count": 36,
   "id": "459f7bc4",
   "metadata": {},
   "outputs": [],
   "source": [
    "# data = all_numeric_to_int(ca_df)"
   ]
  },
  {
   "cell_type": "markdown",
   "id": "9024af04",
   "metadata": {},
   "source": [
    "<a id = \"categoricals\"></a>\n",
    "### 2.3 Categorical columns"
   ]
  },
  {
   "cell_type": "markdown",
   "id": "cb395932",
   "metadata": {},
   "source": [
    "#### 2.2.1 Check for NaNs"
   ]
  },
  {
   "cell_type": "code",
   "execution_count": 37,
   "id": "eb5f628a",
   "metadata": {},
   "outputs": [
    {
     "name": "stdout",
     "output_type": "stream",
     "text": [
      "id 0\n",
      "date 0\n",
      "bedrooms 0\n",
      "bathrooms 0\n",
      "floors 0\n",
      "waterfront 0\n",
      "view 0\n",
      "condition 0\n",
      "grade 0\n",
      "zipcode 0\n",
      "lat 0\n",
      "long 0\n"
     ]
    }
   ],
   "source": [
    "nan_values_of_all_columns(data[split_column_names_by(data)[1]])"
   ]
  },
  {
   "cell_type": "markdown",
   "id": "c9fce9f9",
   "metadata": {},
   "source": [
    "+ create month_sold column"
   ]
  },
  {
   "cell_type": "code",
   "execution_count": 38,
   "id": "c1013873",
   "metadata": {},
   "outputs": [],
   "source": [
    "data[\"month_sold\"] = list(map(extract_month, data[\"date\"]))"
   ]
  },
  {
   "cell_type": "code",
   "execution_count": 39,
   "id": "fa79ccff",
   "metadata": {},
   "outputs": [],
   "source": [
    "data[\"month_sold\"] = data[\"month_sold\"].astype('category')"
   ]
  },
  {
   "cell_type": "markdown",
   "id": "02ebe49f",
   "metadata": {},
   "source": [
    "#### 2.2.3 All strings to lower case"
   ]
  },
  {
   "cell_type": "markdown",
   "id": "50c6a2b3",
   "metadata": {},
   "source": [
    "+ no need "
   ]
  },
  {
   "cell_type": "markdown",
   "id": "f36f656f",
   "metadata": {},
   "source": [
    "#### 2.2.4 Seattle Grading System"
   ]
  },
  {
   "cell_type": "markdown",
   "id": "56b85703",
   "metadata": {},
   "source": [
    "+ 1-3: minimum building standards, cabin or inferior structure.\n",
    "+ 4: older, low quality construction.\n",
    "+ 5: low construction costs, small and simple design.\n",
    "+ 6: lowest grade currently meeting building code, low quality materials and simple designs.\n",
    "+ 7: average grade of construction and design.\n",
    "+ 8: just above average in construction and design, better materials.\n",
    "+ 9: better architectural design and quality.\n",
    "+ 10: high quality features, better design, generally larger square footage.\n",
    "+ 11: custom design, higher quality and more luxurious features.\n",
    "+ 12: custom design and excellent builders and materials.\n",
    "+ 13: custom designed and built, mansion level."
   ]
  },
  {
   "cell_type": "code",
   "execution_count": 842,
   "id": "069f7b24",
   "metadata": {},
   "outputs": [],
   "source": [
    "# cf. TABLEAU SOLUTION \n",
    "grades = pd.DataFrame(data.groupby(\"grade\").count()[\"id\"])\n",
    "grades[\"view\"] = grades.index\n",
    "# grades.plot(kind=\"bar\")\n"
   ]
  },
  {
   "cell_type": "code",
   "execution_count": 41,
   "id": "1f45f20e",
   "metadata": {},
   "outputs": [
    {
     "data": {
      "text/html": [
       "<div>\n",
       "<style scoped>\n",
       "    .dataframe tbody tr th:only-of-type {\n",
       "        vertical-align: middle;\n",
       "    }\n",
       "\n",
       "    .dataframe tbody tr th {\n",
       "        vertical-align: top;\n",
       "    }\n",
       "\n",
       "    .dataframe thead th {\n",
       "        text-align: right;\n",
       "    }\n",
       "</style>\n",
       "<table border=\"1\" class=\"dataframe\">\n",
       "  <thead>\n",
       "    <tr style=\"text-align: right;\">\n",
       "      <th></th>\n",
       "      <th>id</th>\n",
       "      <th>view</th>\n",
       "      <th>percent</th>\n",
       "    </tr>\n",
       "    <tr>\n",
       "      <th>grade</th>\n",
       "      <th></th>\n",
       "      <th></th>\n",
       "      <th></th>\n",
       "    </tr>\n",
       "  </thead>\n",
       "  <tbody>\n",
       "    <tr>\n",
       "      <th>3</th>\n",
       "      <td>1</td>\n",
       "      <td>3</td>\n",
       "      <td>0.00</td>\n",
       "    </tr>\n",
       "    <tr>\n",
       "      <th>4</th>\n",
       "      <td>27</td>\n",
       "      <td>4</td>\n",
       "      <td>0.13</td>\n",
       "    </tr>\n",
       "    <tr>\n",
       "      <th>5</th>\n",
       "      <td>242</td>\n",
       "      <td>5</td>\n",
       "      <td>1.12</td>\n",
       "    </tr>\n",
       "    <tr>\n",
       "      <th>6</th>\n",
       "      <td>2038</td>\n",
       "      <td>6</td>\n",
       "      <td>9.44</td>\n",
       "    </tr>\n",
       "    <tr>\n",
       "      <th>7</th>\n",
       "      <td>8974</td>\n",
       "      <td>7</td>\n",
       "      <td>41.55</td>\n",
       "    </tr>\n",
       "    <tr>\n",
       "      <th>8</th>\n",
       "      <td>6065</td>\n",
       "      <td>8</td>\n",
       "      <td>28.08</td>\n",
       "    </tr>\n",
       "    <tr>\n",
       "      <th>9</th>\n",
       "      <td>2615</td>\n",
       "      <td>9</td>\n",
       "      <td>12.11</td>\n",
       "    </tr>\n",
       "    <tr>\n",
       "      <th>10</th>\n",
       "      <td>1134</td>\n",
       "      <td>10</td>\n",
       "      <td>5.25</td>\n",
       "    </tr>\n",
       "    <tr>\n",
       "      <th>11</th>\n",
       "      <td>399</td>\n",
       "      <td>11</td>\n",
       "      <td>1.85</td>\n",
       "    </tr>\n",
       "    <tr>\n",
       "      <th>12</th>\n",
       "      <td>89</td>\n",
       "      <td>12</td>\n",
       "      <td>0.41</td>\n",
       "    </tr>\n",
       "    <tr>\n",
       "      <th>13</th>\n",
       "      <td>13</td>\n",
       "      <td>13</td>\n",
       "      <td>0.06</td>\n",
       "    </tr>\n",
       "  </tbody>\n",
       "</table>\n",
       "</div>"
      ],
      "text/plain": [
       "         id view  percent\n",
       "grade                    \n",
       "3         1    3     0.00\n",
       "4        27    4     0.13\n",
       "5       242    5     1.12\n",
       "6      2038    6     9.44\n",
       "7      8974    7    41.55\n",
       "8      6065    8    28.08\n",
       "9      2615    9    12.11\n",
       "10     1134   10     5.25\n",
       "11      399   11     1.85\n",
       "12       89   12     0.41\n",
       "13       13   13     0.06"
      ]
     },
     "execution_count": 41,
     "metadata": {},
     "output_type": "execute_result"
    }
   ],
   "source": [
    "grades[\"percent\"] = round(grades[\"id\"]/sum(grades[\"id\"]) * 100, 2)\n",
    "grades"
   ]
  },
  {
   "cell_type": "markdown",
   "id": "77937d3b",
   "metadata": {},
   "source": [
    "#### 2.2.5 Zipcode average mean price in 5 bins"
   ]
  },
  {
   "cell_type": "code",
   "execution_count": 42,
   "id": "862e7929",
   "metadata": {},
   "outputs": [],
   "source": [
    "# create new df zipcodes average sales price and bin these in 5 cats (1-5, evenly spread)\n",
    "zipcodes_df = pd.DataFrame(data.groupby(\"zipcode\").mean()[\"price\"])\n",
    "bin_labels = ['1', '2', '3', '4', '5']\n",
    "zipcodes_df['area_pricing'] = pd.qcut(zipcodes_df['price'],\n",
    "                              q=[0, .2, .4, .6, .8, 1],\n",
    "                              labels=bin_labels)"
   ]
  },
  {
   "cell_type": "code",
   "execution_count": 43,
   "id": "8e643bf5",
   "metadata": {},
   "outputs": [],
   "source": [
    "# make a dictionary from the zipcode df\n",
    "zipcodes_df.drop(\"price\", axis=1, inplace=True)\n",
    "zipcodes_df.to_dict()\n",
    "zip_dict = zipcodes_df.to_dict()[\"area_pricing\"]\n",
    "for k,v in zip_dict.items():\n",
    "    k = int(v)"
   ]
  },
  {
   "cell_type": "code",
   "execution_count": 44,
   "id": "144cda62",
   "metadata": {},
   "outputs": [],
   "source": [
    "# use this dictionary to create a new column according to average sales price\n",
    "data['aver_price_zip_cat'] = data['zipcode'].map(zip_dict)\n",
    "data[\"aver_price_zip_cat\"] = data[\"aver_price_zip_cat\"].astype(\"category\")"
   ]
  },
  {
   "cell_type": "markdown",
   "id": "8f3cd58a",
   "metadata": {},
   "source": [
    "#### 2.2.6 Lat Long Zoning"
   ]
  },
  {
   "cell_type": "code",
   "execution_count": 45,
   "id": "23b8dcdb",
   "metadata": {},
   "outputs": [],
   "source": [
    "# Choose, how many top places should be included for \"highest price center\"\n",
    "top_prices = 15\n",
    "\n",
    "# create a df accordingly \n",
    "top_prices_df = data.sort_values(\"price\", ascending=False)[[\"lat\", \"long\", \"price\"]].head(top_prices)\n",
    "\n",
    "# calculate coordinate tuple (lat, long)\n",
    "coords_center_top_prices = ((round(np.mean(list(top_prices_df.lat)), 3)),\n",
    "                              (round(np.mean(list(top_prices_df.long)), 3)))"
   ]
  },
  {
   "cell_type": "code",
   "execution_count": 46,
   "id": "4349809e",
   "metadata": {},
   "outputs": [],
   "source": [
    "# create new column with lat and long as tuple\n",
    "data[\"coords\"] = list(zip(list(data.lat), list(data.long)))\n",
    "\n",
    "# create column with distance every data point to coords_center_top_prices\n",
    "data[\"dist_to_top_center\"] = list(map(return_distance, data.coords))\n",
    "\n",
    "# create column with bins of calculated distance\n",
    "bin_labels = ['1', '2', '3', '4', '5']\n",
    "data['price_zone'] = pd.qcut(data['dist_to_top_center'],\n",
    "                              q=[0, .2, .4, .6, .8, 1],\n",
    "                              labels=bin_labels)\n",
    "data[\"price_zone\"] = data[\"price_zone\"].astype(\"category\")"
   ]
  },
  {
   "cell_type": "code",
   "execution_count": 47,
   "id": "7fead001",
   "metadata": {},
   "outputs": [
    {
     "name": "stdout",
     "output_type": "stream",
     "text": [
      "center: 9245    (47.6305, -122.24)\n",
      "Name: coords, dtype: object\n",
      "max. dist: 2925    (47.713, -121.315)\n",
      "Name: coords, dtype: object\n"
     ]
    }
   ],
   "source": [
    "print(\"center:\", str(data[data[\"dist_to_top_center\"] == min(data[\"dist_to_top_center\"])][\"coords\"]))\n",
    "print(\"max. dist:\", data[data[\"dist_to_top_center\"] == max(data[\"dist_to_top_center\"])][\"coords\"])"
   ]
  },
  {
   "cell_type": "markdown",
   "id": "7d323c82",
   "metadata": {},
   "source": [
    "##### 2.2.6.1 Price zone df"
   ]
  },
  {
   "cell_type": "code",
   "execution_count": 48,
   "id": "0b5f1b5c",
   "metadata": {},
   "outputs": [],
   "source": [
    "price_zone_dict = {}\n",
    "for z in range (1, 6):\n",
    "    price_zone_dict[z] = {}\n",
    "    price_zone_dict[z][\"aver_price\"] = round(np.mean(data[data[\"price_zone\"].astype(\"int64\") == z][\"price\"]), 2)\n",
    "    price_zone_dict[z][\"aver_sqft_living\"] = round(np.mean(data[data[\"price_zone\"].astype(\"int64\") == z][\"sqft_living\"]), 2)\n",
    "    price_zone_dict[z][\"aver_sqft_floors\"] = round(np.mean(data[data[\"price_zone\"].astype(\"int64\") == z][\"floors\"].astype(\"float\")), 1)\n",
    "    price_zone_dict[z][\"aver_sqft_lot\"] = round(np.mean(data[data[\"price_zone\"].astype(\"int64\") == z][\"sqft_lot\"].astype(\"float\")), 2)"
   ]
  },
  {
   "cell_type": "code",
   "execution_count": 49,
   "id": "50c011b6",
   "metadata": {},
   "outputs": [
    {
     "data": {
      "text/html": [
       "<div>\n",
       "<style scoped>\n",
       "    .dataframe tbody tr th:only-of-type {\n",
       "        vertical-align: middle;\n",
       "    }\n",
       "\n",
       "    .dataframe tbody tr th {\n",
       "        vertical-align: top;\n",
       "    }\n",
       "\n",
       "    .dataframe thead th {\n",
       "        text-align: right;\n",
       "    }\n",
       "</style>\n",
       "<table border=\"1\" class=\"dataframe\">\n",
       "  <thead>\n",
       "    <tr style=\"text-align: right;\">\n",
       "      <th></th>\n",
       "      <th>aver_price</th>\n",
       "      <th>aver_sqft_living</th>\n",
       "      <th>aver_sqft_floors</th>\n",
       "      <th>aver_sqft_lot</th>\n",
       "    </tr>\n",
       "  </thead>\n",
       "  <tbody>\n",
       "    <tr>\n",
       "      <th>1</th>\n",
       "      <td>801601.73</td>\n",
       "      <td>2201.83</td>\n",
       "      <td>1.5</td>\n",
       "      <td>7781.36</td>\n",
       "    </tr>\n",
       "    <tr>\n",
       "      <th>2</th>\n",
       "      <td>579105.72</td>\n",
       "      <td>1959.58</td>\n",
       "      <td>1.5</td>\n",
       "      <td>7454.99</td>\n",
       "    </tr>\n",
       "    <tr>\n",
       "      <th>3</th>\n",
       "      <td>513906.18</td>\n",
       "      <td>2049.19</td>\n",
       "      <td>1.4</td>\n",
       "      <td>11659.02</td>\n",
       "    </tr>\n",
       "    <tr>\n",
       "      <th>4</th>\n",
       "      <td>466016.30</td>\n",
       "      <td>2164.14</td>\n",
       "      <td>1.5</td>\n",
       "      <td>22235.21</td>\n",
       "    </tr>\n",
       "    <tr>\n",
       "      <th>5</th>\n",
       "      <td>340838.62</td>\n",
       "      <td>2026.85</td>\n",
       "      <td>1.5</td>\n",
       "      <td>25987.12</td>\n",
       "    </tr>\n",
       "  </tbody>\n",
       "</table>\n",
       "</div>"
      ],
      "text/plain": [
       "   aver_price  aver_sqft_living  aver_sqft_floors  aver_sqft_lot\n",
       "1   801601.73           2201.83               1.5        7781.36\n",
       "2   579105.72           1959.58               1.5        7454.99\n",
       "3   513906.18           2049.19               1.4       11659.02\n",
       "4   466016.30           2164.14               1.5       22235.21\n",
       "5   340838.62           2026.85               1.5       25987.12"
      ]
     },
     "execution_count": 49,
     "metadata": {},
     "output_type": "execute_result"
    }
   ],
   "source": [
    "zones_aver_df = pd.DataFrame.from_dict(price_zone_dict).transpose()\n",
    "zones_aver_df"
   ]
  },
  {
   "cell_type": "markdown",
   "id": "cf3d58c0",
   "metadata": {},
   "source": [
    "##### 2.2.6.2 Average price per ft² for 3 bedroom houses by zone"
   ]
  },
  {
   "cell_type": "code",
   "execution_count": 929,
   "id": "e10671b1",
   "metadata": {},
   "outputs": [],
   "source": [
    "average_price_dict = {}\n",
    "this_df = data[data[\"bedrooms\"] == 3]\n",
    "\n",
    "for z in range(1,6):\n",
    "    average_price_dict[z] = {}\n",
    "    average_price_dict[z][\"av_pr_sqft\"] = np.mean(this_df[this_df[\"price_zone\"].astype(\"int64\") == z][\"sqft_price\"])\n",
    "    "
   ]
  },
  {
   "cell_type": "code",
   "execution_count": 930,
   "id": "e64218bf",
   "metadata": {},
   "outputs": [],
   "source": [
    "average_price_dict[1][\"percent_lower_that_zone1\"] = \"---\""
   ]
  },
  {
   "cell_type": "code",
   "execution_count": 931,
   "id": "f2871b53",
   "metadata": {},
   "outputs": [],
   "source": [
    "for z in range(2,6):\n",
    "    average_price_dict[z][\"percent_lower_that_zone1\"] = round(1 - average_price_dict[z][\"av_pr_sqft\"] /average_price_dict[1][\"av_pr_sqft\"],4)*100\n"
   ]
  },
  {
   "cell_type": "code",
   "execution_count": 935,
   "id": "3f552002",
   "metadata": {},
   "outputs": [
    {
     "data": {
      "text/html": [
       "<div>\n",
       "<style scoped>\n",
       "    .dataframe tbody tr th:only-of-type {\n",
       "        vertical-align: middle;\n",
       "    }\n",
       "\n",
       "    .dataframe tbody tr th {\n",
       "        vertical-align: top;\n",
       "    }\n",
       "\n",
       "    .dataframe thead th {\n",
       "        text-align: right;\n",
       "    }\n",
       "</style>\n",
       "<table border=\"1\" class=\"dataframe\">\n",
       "  <thead>\n",
       "    <tr style=\"text-align: right;\">\n",
       "      <th></th>\n",
       "      <th>av_pr_sqft</th>\n",
       "      <th>percent_lower_that_zone1</th>\n",
       "    </tr>\n",
       "  </thead>\n",
       "  <tbody>\n",
       "    <tr>\n",
       "      <th>1</th>\n",
       "      <td>370.344604</td>\n",
       "      <td>---</td>\n",
       "    </tr>\n",
       "    <tr>\n",
       "      <th>2</th>\n",
       "      <td>303.170937</td>\n",
       "      <td>18.14</td>\n",
       "    </tr>\n",
       "    <tr>\n",
       "      <th>3</th>\n",
       "      <td>259.421377</td>\n",
       "      <td>29.95</td>\n",
       "    </tr>\n",
       "    <tr>\n",
       "      <th>4</th>\n",
       "      <td>218.552187</td>\n",
       "      <td>40.99</td>\n",
       "    </tr>\n",
       "    <tr>\n",
       "      <th>5</th>\n",
       "      <td>177.622635</td>\n",
       "      <td>52.04</td>\n",
       "    </tr>\n",
       "  </tbody>\n",
       "</table>\n",
       "</div>"
      ],
      "text/plain": [
       "   av_pr_sqft percent_lower_that_zone1\n",
       "1  370.344604                      ---\n",
       "2  303.170937                    18.14\n",
       "3  259.421377                    29.95\n",
       "4  218.552187                    40.99\n",
       "5  177.622635                    52.04"
      ]
     },
     "execution_count": 935,
     "metadata": {},
     "output_type": "execute_result"
    }
   ],
   "source": [
    "average_price_df = pd.DataFrame.from_dict(average_price_dict).transpose()\n",
    "average_price_df"
   ]
  },
  {
   "cell_type": "markdown",
   "id": "aec5542a",
   "metadata": {},
   "source": [
    "##### 2.2.6.3 map with concentric circles around center \n",
    "\n",
    "for use on https://www.freemaptools.com/concentric-circles.htm\n",
    "\n",
    "\"47.6305, -122.24\", 0, 4, yellow<br>\n",
    "\"47.6305, -122.24\", 4, 8, green<br>\n",
    "\"47.6305, -122.24\", 8, 12, blue<br>\n",
    "\"47.6305, -122.24\", 12, 16, brown<br>\n",
    "\"47.6305, -122.24\", 16, 20, gray<br>\n",
    "\n",
    "\n"
   ]
  },
  {
   "cell_type": "markdown",
   "id": "2af1849d",
   "metadata": {},
   "source": [
    "##### 2.2.6.4 quadrant df's"
   ]
  },
  {
   "cell_type": "code",
   "execution_count": 50,
   "id": "55f0c24a",
   "metadata": {},
   "outputs": [
    {
     "name": "stdout",
     "output_type": "stream",
     "text": [
      "Overview: \n",
      "northeast quadrant 3334\n",
      "northwest quadrant 4809\n",
      "southeast quadrant 7751\n",
      "southwest quadrant 5673\n"
     ]
    }
   ],
   "source": [
    "print(\"Overview: \")\n",
    "print(\"northeast quadrant\", len(data[data[\"lat\"].astype(\"float64\") > 47.6305][data[data[\"lat\"].astype(\"float64\") > 47.6305][\"long\"].astype(\"float64\") > -122.24]))\n",
    "print(\"northwest quadrant\", len(data[data[\"lat\"].astype(\"float64\") > 47.6305][data[data[\"lat\"].astype(\"float64\") > 47.6305][\"long\"].astype(\"float64\") < -122.24]))\n",
    "print(\"southeast quadrant\", len(data[data[\"lat\"].astype(\"float64\") < 47.6305][data[data[\"lat\"].astype(\"float64\") < 47.6305][\"long\"].astype(\"float64\") > -122.24]))\n",
    "print(\"southwest quadrant\", len(data[data[\"lat\"].astype(\"float64\") < 47.6305][data[data[\"lat\"].astype(\"float64\") < 47.6305][\"long\"].astype(\"float64\") < -122.24]))"
   ]
  },
  {
   "cell_type": "code",
   "execution_count": 51,
   "id": "8bfbc132",
   "metadata": {},
   "outputs": [],
   "source": [
    "# create 4 df according to quadrant using lat and long of each property\n",
    "ne_df = data[data[\"lat\"].astype(\"float64\") > 47.6305][data[data[\"lat\"].astype(\"float64\") > 47.6305][\"long\"].astype(\"float64\") > -122.24]\n",
    "nw_df = data[data[\"lat\"].astype(\"float64\") > 47.6305][data[data[\"lat\"].astype(\"float64\") > 47.6305][\"long\"].astype(\"float64\") < -122.24]\n",
    "se_df = data[data[\"lat\"].astype(\"float64\") < 47.6305][data[data[\"lat\"].astype(\"float64\") < 47.6305][\"long\"].astype(\"float64\") > -122.24]\n",
    "sw_df = data[data[\"lat\"].astype(\"float64\") < 47.6305][data[data[\"lat\"].astype(\"float64\") < 47.6305][\"long\"].astype(\"float64\") < -122.24]"
   ]
  },
  {
   "cell_type": "code",
   "execution_count": 52,
   "id": "8497879d",
   "metadata": {},
   "outputs": [],
   "source": [
    "# make a lst of these ↑ dataframes for the creation of the quad_dict\n",
    "quad_lst = []\n",
    "quad_lst.append(ne_df)\n",
    "quad_lst.append(nw_df)\n",
    "quad_lst.append(se_df)\n",
    "quad_lst.append(sw_df)\n",
    "quad_names = [\"North East\", \"North West\", \"South East\", \"South West\"]"
   ]
  },
  {
   "cell_type": "code",
   "execution_count": 53,
   "id": "a827a285",
   "metadata": {},
   "outputs": [],
   "source": [
    "quad_dict = {}\n",
    "for q in range(4):\n",
    "    quad_dict[quad_names[q]] = {}\n",
    "    quad_dict[quad_names[q]][\"Number of properties\"] = len(quad_lst[q])\n",
    "    quad_dict[quad_names[q]][\"aver_price\"] = round(np.mean(quad_lst[q][\"price\"].astype(\"float64\")), 2)\n",
    "    quad_dict[quad_names[q]][\"aver_sqft\"] = round(np.mean(quad_lst[q][\"sqft_living\"].astype(\"float64\")), 2)\n",
    "    quad_dict[quad_names[q]][\"aver_floors\"] = round(np.mean(quad_lst[q][\"floors\"].astype(\"float64\")), 2)\n",
    "    quad_dict[quad_names[q]][\"aver_lot\"] = round(np.mean(quad_lst[q][\"sqft_lot\"].astype(\"float64\")), 2)\n",
    "    "
   ]
  },
  {
   "cell_type": "code",
   "execution_count": 54,
   "id": "b43d156f",
   "metadata": {},
   "outputs": [
    {
     "data": {
      "text/html": [
       "<div>\n",
       "<style scoped>\n",
       "    .dataframe tbody tr th:only-of-type {\n",
       "        vertical-align: middle;\n",
       "    }\n",
       "\n",
       "    .dataframe tbody tr th {\n",
       "        vertical-align: top;\n",
       "    }\n",
       "\n",
       "    .dataframe thead th {\n",
       "        text-align: right;\n",
       "    }\n",
       "</style>\n",
       "<table border=\"1\" class=\"dataframe\">\n",
       "  <thead>\n",
       "    <tr style=\"text-align: right;\">\n",
       "      <th></th>\n",
       "      <th>Number of properties</th>\n",
       "      <th>aver_price</th>\n",
       "      <th>aver_sqft</th>\n",
       "      <th>aver_floors</th>\n",
       "      <th>aver_lot</th>\n",
       "    </tr>\n",
       "  </thead>\n",
       "  <tbody>\n",
       "    <tr>\n",
       "      <th>North East</th>\n",
       "      <td>3334.0</td>\n",
       "      <td>642678.50</td>\n",
       "      <td>2374.56</td>\n",
       "      <td>1.53</td>\n",
       "      <td>22805.19</td>\n",
       "    </tr>\n",
       "    <tr>\n",
       "      <th>North West</th>\n",
       "      <td>4809.0</td>\n",
       "      <td>605032.12</td>\n",
       "      <td>1857.14</td>\n",
       "      <td>1.50</td>\n",
       "      <td>6295.62</td>\n",
       "    </tr>\n",
       "    <tr>\n",
       "      <th>South East</th>\n",
       "      <td>7751.0</td>\n",
       "      <td>536684.17</td>\n",
       "      <td>2298.89</td>\n",
       "      <td>1.55</td>\n",
       "      <td>20892.15</td>\n",
       "    </tr>\n",
       "    <tr>\n",
       "      <th>South West</th>\n",
       "      <td>5673.0</td>\n",
       "      <td>427844.93</td>\n",
       "      <td>1795.84</td>\n",
       "      <td>1.40</td>\n",
       "      <td>9844.67</td>\n",
       "    </tr>\n",
       "  </tbody>\n",
       "</table>\n",
       "</div>"
      ],
      "text/plain": [
       "            Number of properties  aver_price  aver_sqft  aver_floors  aver_lot\n",
       "North East                3334.0   642678.50    2374.56         1.53  22805.19\n",
       "North West                4809.0   605032.12    1857.14         1.50   6295.62\n",
       "South East                7751.0   536684.17    2298.89         1.55  20892.15\n",
       "South West                5673.0   427844.93    1795.84         1.40   9844.67"
      ]
     },
     "execution_count": 54,
     "metadata": {},
     "output_type": "execute_result"
    }
   ],
   "source": [
    "quad_data_df = pd.DataFrame.from_dict(quad_dict).transpose()\n",
    "quad_data_df"
   ]
  },
  {
   "cell_type": "code",
   "execution_count": null,
   "id": "7e7af861",
   "metadata": {},
   "outputs": [],
   "source": []
  },
  {
   "cell_type": "markdown",
   "id": "745f5a1d",
   "metadata": {},
   "source": [
    "[top of notebook](#top)"
   ]
  },
  {
   "cell_type": "markdown",
   "id": "ff21f360",
   "metadata": {},
   "source": [
    "## 3. Adjust the DataFrame to fine tune the model\n",
    "\n",
    "Different adjustments were made (cf. headlines), optional re-run possible from each uncommented cell.<br>\n",
    "For faster processing, a copy of the **data** df is made for each adjustment. "
   ]
  },
  {
   "cell_type": "markdown",
   "id": "d08a6f63",
   "metadata": {},
   "source": [
    "<a id=\"df_setup\"></a>\n",
    "### 3.1 Dataframe set up\n",
    "Create a copy of the cleaned DataFrame to avoid multiple new runs of the cleaning process"
   ]
  },
  {
   "cell_type": "code",
   "execution_count": 55,
   "id": "44dc6404",
   "metadata": {},
   "outputs": [],
   "source": [
    "this_model = data.copy()\n",
    "len(this_model)\n",
    "filename_ext = \"TO BE SET BEFORE RUNNING\""
   ]
  },
  {
   "cell_type": "markdown",
   "id": "d1c85d79",
   "metadata": {},
   "source": [
    "**In the following cells, adjust the DataFrame**"
   ]
  },
  {
   "cell_type": "code",
   "execution_count": 56,
   "id": "50d2ff1c",
   "metadata": {},
   "outputs": [
    {
     "data": {
      "text/plain": [
       "Index(['id', 'date', 'bedrooms', 'bathrooms', 'sqft_living', 'sqft_lot',\n",
       "       'floors', 'waterfront', 'view', 'condition', 'grade', 'sqft_above',\n",
       "       'sqft_basement', 'yr_built', 'yr_renovated', 'zipcode', 'lat', 'long',\n",
       "       'sqft_living15', 'sqft_lot15', 'price', 'year_sold', 'year_last',\n",
       "       'age_in_2015', 'month_sold', 'aver_price_zip_cat', 'coords',\n",
       "       'dist_to_top_center', 'price_zone'],\n",
       "      dtype='object')"
      ]
     },
     "execution_count": 56,
     "metadata": {},
     "output_type": "execute_result"
    }
   ],
   "source": [
    "this_model.columns"
   ]
  },
  {
   "cell_type": "markdown",
   "id": "1ae07402",
   "metadata": {},
   "source": [
    "#### 3.1.1 trying different filtering approaches"
   ]
  },
  {
   "cell_type": "markdown",
   "id": "cf5c92e6",
   "metadata": {},
   "source": [
    "##### 3.1.1.1 No further adjustments using price_zone"
   ]
  },
  {
   "cell_type": "code",
   "execution_count": 57,
   "id": "019f1123",
   "metadata": {},
   "outputs": [],
   "source": [
    "# this_model = data.copy()\n",
    "# this_model.drop([\"id\", \"date\", \"yr_renovated\", \"sqft_above\", \"year_sold\", \n",
    "#                  \"year_last\", \"yr_built\", \"long\", \"lat\", \"dist_to_top_center\", \"zipcode\", 'aver_price_zip_cat', \"sqft_price\",\n",
    "#                  \"coords\", \"month_sold\"], axis=1, inplace=True)\n",
    "\n",
    "# filename_ext = \"no_further_df_adjustments_price_zone\"\n",
    "# this_model = this_model.reset_index(drop=True)"
   ]
  },
  {
   "cell_type": "markdown",
   "id": "25cf0139",
   "metadata": {},
   "source": [
    "[result](#result)"
   ]
  },
  {
   "cell_type": "markdown",
   "id": "6b55b9b6",
   "metadata": {},
   "source": [
    "##### 3.1.1.2 dataframe using price_zone, excluding prices > 4_000_000"
   ]
  },
  {
   "cell_type": "code",
   "execution_count": 606,
   "id": "6c7b99e9",
   "metadata": {},
   "outputs": [],
   "source": [
    "this_model = data.copy()\n",
    "this_model.drop([\"id\", \"date\", \"yr_renovated\", \"sqft_above\", \"year_sold\", \n",
    "                 \"year_last\", \"yr_built\", \"long\", \"lat\", \"dist_to_top_center\", \"zipcode\", 'aver_price_zip_cat', \"sqft_price\",\n",
    "                 \"coords\", \"month_sold\"], axis=1, inplace=True)\n",
    "this_model = this_model[this_model[\"price\"] < 4000000]\n",
    "filename_ext = \"df_w_price_zone_excl_4_mio_and_above\"\n",
    "this_model = this_model.reset_index(drop=True)"
   ]
  },
  {
   "cell_type": "markdown",
   "id": "4d5e30c1",
   "metadata": {},
   "source": [
    "[result](#result)"
   ]
  },
  {
   "cell_type": "markdown",
   "id": "4959f2a3",
   "metadata": {},
   "source": [
    "[top of notebook](#top)"
   ]
  },
  {
   "cell_type": "markdown",
   "id": "5a7e81b0",
   "metadata": {},
   "source": [
    "##### 3.1.1.3 df using pricezone and zipcode_zone, only properties for < 650K"
   ]
  },
  {
   "cell_type": "code",
   "execution_count": 607,
   "id": "f0579cb4",
   "metadata": {},
   "outputs": [],
   "source": [
    "# this_model = data.copy()\n",
    "# this_model.drop([\"id\", \"date\", \"yr_renovated\", \"sqft_above\", \"year_sold\", \n",
    "#                  \"year_last\", \"yr_built\", \"long\", \"lat\", \"dist_to_top_center\", \"zipcode\", 'aver_price_zip_cat', \"sqft_price\",\n",
    "#                  \"coords\", \"month_sold\"], axis=1, inplace=True)\n",
    "# this_model = this_model[this_model[\"price\"] < 650_000]\n",
    "# this_model = this_model.reset_index(drop=True)\n",
    "# filename_ext = \"df_price_below_650k_price_zone\""
   ]
  },
  {
   "cell_type": "markdown",
   "id": "a79b0234",
   "metadata": {},
   "source": [
    "##### 3.1.1.4 df using pricezone and zipcode_zone, only properties for > 650K"
   ]
  },
  {
   "cell_type": "code",
   "execution_count": 608,
   "id": "f01dadcb",
   "metadata": {},
   "outputs": [],
   "source": [
    "# this_model = data.copy()\n",
    "# this_model.drop([\"id\", \"date\", \"yr_renovated\", \"sqft_above\", \"year_sold\", \n",
    "#                  \"year_last\", \"yr_built\", \"long\", \"lat\", \"dist_to_top_center\", \"zipcode\", 'aver_price_zip_cat', \"sqft_price\",\n",
    "#                  \"coords\", \"month_sold\"], axis=1, inplace=True)\n",
    "# this_model = this_model[this_model[\"price\"] > 650_000]\n",
    "# this_model = this_model.reset_index(drop=True)\n",
    "# filename_ext = \"df_price_above_650k_price_zone\""
   ]
  },
  {
   "cell_type": "markdown",
   "id": "063ec27c",
   "metadata": {},
   "source": [
    "##### 3.1.1.5 create df view = 0 and waterfront = 0"
   ]
  },
  {
   "cell_type": "code",
   "execution_count": 609,
   "id": "778146ce",
   "metadata": {},
   "outputs": [],
   "source": [
    "# this_model = data.copy()\n",
    "# this_model.drop([\"id\", \"date\", \"yr_renovated\", \"sqft_above\", \"year_sold\", \n",
    "#                  \"year_last\", \"yr_built\", \"long\", \"lat\", \"dist_to_top_center\", \"zipcode\", 'aver_price_zip_cat', \"sqft_price\",\n",
    "#                  \"coords\", \"month_sold\"], axis=1, inplace=True)\n",
    "# this_model = this_model[this_model[\"view\"] == 0]\n",
    "# this_model = this_model[this_model[\"waterfront\"] == 0]\n",
    "# filename_ext = \"df_adjustments_price_zone_no_view_no_waterfront\"\n",
    "# this_model = this_model.reset_index(drop=True)\n"
   ]
  },
  {
   "cell_type": "markdown",
   "id": "d7ca7527",
   "metadata": {},
   "source": [
    "##### 3.1.1.6 create df view = 0 and waterfront = 0 and excluding 4 mio and above\n"
   ]
  },
  {
   "cell_type": "code",
   "execution_count": 610,
   "id": "0587465b",
   "metadata": {},
   "outputs": [],
   "source": [
    "# this_model = data.copy()\n",
    "# this_model.drop([\"id\", \"date\", \"yr_renovated\", \"sqft_above\", \"year_sold\", \n",
    "#                  \"year_last\", \"yr_built\", \"long\", \"lat\", \"dist_to_top_center\", \"zipcode\", 'aver_price_zip_cat', \"sqft_price\",\n",
    "#                  \"coords\", \"month_sold\"], axis=1, inplace=True)\n",
    "# this_model = this_model[this_model[\"view\"] == 0]\n",
    "# this_model = this_model[this_model[\"waterfront\"] == 0]\n",
    "# this_model = this_model[this_model[\"price\"] < 4_000_000]\n",
    "# filename_ext = \"df_adjustments_price_zone_no_view_no_waterfront_price_under_4mio\"\n",
    "# this_model = this_model.reset_index(drop=True)\n"
   ]
  },
  {
   "cell_type": "markdown",
   "id": "1d99a6d0",
   "metadata": {},
   "source": [
    "##### 3.1.1.7 Remove all outliers\n"
   ]
  },
  {
   "cell_type": "code",
   "execution_count": 611,
   "id": "96400dff",
   "metadata": {},
   "outputs": [],
   "source": [
    "# this_model = data.copy()\n",
    "# this_model.drop([\"id\", \"date\", \"yr_renovated\", \"sqft_above\", \"year_sold\", \n",
    "#                  \"year_last\", \"yr_built\", \"long\", \"lat\", \"dist_to_top_center\", \"zipcode\", 'aver_price_zip_cat', \"sqft_price\",\n",
    "#                  \"coords\", \"month_sold\"], axis=1, inplace=True)\n",
    "# this_model = this_model[(np.abs(stats.zscore(this_model.select_dtypes(include=np.number))) < 3).all(axis=1)]\n",
    "# filename_ext = \"df_adjustments_remove_outliers\"\n",
    "# this_model = this_model.reset_index(drop=True)\n"
   ]
  },
  {
   "cell_type": "markdown",
   "id": "020ad281",
   "metadata": {},
   "source": [
    "##### 3.1.1.8   - - - "
   ]
  },
  {
   "cell_type": "code",
   "execution_count": 718,
   "id": "2ddfc60b",
   "metadata": {},
   "outputs": [],
   "source": [
    "this_model = data.copy()\n",
    "this_model.drop([\"id\", \"date\", \"yr_renovated\", \"sqft_above\", \"year_sold\", \n",
    "                 \"year_last\", \"yr_built\", \"long\", \"lat\", \"dist_to_top_center\", \"zipcode\", 'aver_price_zip_cat', \"price_zone\",\n",
    "                 \"coords\", \"month_sold\"], axis=1, inplace=True)\n",
    "this_model = this_model[this_model[\"view\"] == 0]\n",
    "this_model = this_model[this_model[\"waterfront\"] == 0]\n",
    "this_model = this_model[this_model[\"price\"] < 4_000_000]\n",
    "filename_ext = \"df_adjustments_price_zone_no_view_no_waterfront_price_under_4mio\"\n",
    "this_model = this_model.reset_index(drop=True)\n"
   ]
  },
  {
   "cell_type": "code",
   "execution_count": 719,
   "id": "389fcd5b",
   "metadata": {},
   "outputs": [],
   "source": [
    "# placeholder"
   ]
  },
  {
   "cell_type": "markdown",
   "id": "ce62b3ef",
   "metadata": {},
   "source": [
    "<a id=\"scaler\"></a>\n",
    "##### 3.1.1.10 Select scaling method by (un)commenting contents of the following cell:"
   ]
  },
  {
   "cell_type": "code",
   "execution_count": 720,
   "id": "65cab205",
   "metadata": {},
   "outputs": [],
   "source": [
    "scaler = \"standard_scaler\"\n",
    "# scaler = \"quantile_transformer\"\n",
    "# scaler = \"power_transformator\"  # not completely tested\n"
   ]
  },
  {
   "cell_type": "markdown",
   "id": "194fa83c",
   "metadata": {},
   "source": [
    "***Select the size of the test set***"
   ]
  },
  {
   "cell_type": "code",
   "execution_count": 721,
   "id": "f9af25af",
   "metadata": {},
   "outputs": [],
   "source": [
    "test_set_size = .30"
   ]
  },
  {
   "cell_type": "markdown",
   "id": "e0e22ec2",
   "metadata": {},
   "source": [
    "<a id=\"options\"></a>\n",
    "##### 3.1.1.11 Select further options:"
   ]
  },
  {
   "cell_type": "code",
   "execution_count": 722,
   "id": "912844f7",
   "metadata": {},
   "outputs": [],
   "source": [
    "show_boxplots_for_all_numerical = False\n",
    "show_histograms_for_normalized_cols = False\n",
    "show_hist_for_X = False\n",
    "print_model_data = False\n",
    "show_prediction_plots = True\n",
    "show_beta_plot = True\n",
    "save_beta_plot = False\n",
    "save_error_metric = False"
   ]
  },
  {
   "cell_type": "markdown",
   "id": "6fd4c247",
   "metadata": {},
   "source": [
    "When complete, run code and find the result under [output](#result)."
   ]
  },
  {
   "cell_type": "markdown",
   "id": "ed94aa29",
   "metadata": {},
   "source": [
    "#### 3.1.1 Numerical"
   ]
  },
  {
   "cell_type": "code",
   "execution_count": 723,
   "id": "3a77b8c5",
   "metadata": {},
   "outputs": [],
   "source": [
    "if show_boxplots_for_all_numerical:\n",
    "    boxplots_for_all_numerical_cols(split_df_by(this_model)[0])"
   ]
  },
  {
   "cell_type": "code",
   "execution_count": 724,
   "id": "faaad05a",
   "metadata": {},
   "outputs": [],
   "source": [
    "if show_histograms_for_normalized_cols:\n",
    "    for col in split_column_names_by(this_model)[0]:\n",
    "        plot_hist_normalized(this_model[col], scaler)"
   ]
  },
  {
   "cell_type": "markdown",
   "id": "6d0c539f",
   "metadata": {},
   "source": [
    "#### 3.1.2 Categorical"
   ]
  },
  {
   "cell_type": "code",
   "execution_count": 725,
   "id": "f81bbf27",
   "metadata": {},
   "outputs": [
    {
     "data": {
      "text/html": [
       "<div>\n",
       "<style scoped>\n",
       "    .dataframe tbody tr th:only-of-type {\n",
       "        vertical-align: middle;\n",
       "    }\n",
       "\n",
       "    .dataframe tbody tr th {\n",
       "        vertical-align: top;\n",
       "    }\n",
       "\n",
       "    .dataframe thead th {\n",
       "        text-align: right;\n",
       "    }\n",
       "</style>\n",
       "<table border=\"1\" class=\"dataframe\">\n",
       "  <thead>\n",
       "    <tr style=\"text-align: right;\">\n",
       "      <th></th>\n",
       "      <th>bedrooms</th>\n",
       "      <th>bathrooms</th>\n",
       "      <th>floors</th>\n",
       "      <th>waterfront</th>\n",
       "      <th>view</th>\n",
       "      <th>condition</th>\n",
       "      <th>grade</th>\n",
       "    </tr>\n",
       "  </thead>\n",
       "  <tbody>\n",
       "    <tr>\n",
       "      <th>0</th>\n",
       "      <td>3</td>\n",
       "      <td>1.00</td>\n",
       "      <td>1.0</td>\n",
       "      <td>0</td>\n",
       "      <td>0</td>\n",
       "      <td>3</td>\n",
       "      <td>7</td>\n",
       "    </tr>\n",
       "    <tr>\n",
       "      <th>1</th>\n",
       "      <td>3</td>\n",
       "      <td>2.25</td>\n",
       "      <td>2.0</td>\n",
       "      <td>0</td>\n",
       "      <td>0</td>\n",
       "      <td>3</td>\n",
       "      <td>7</td>\n",
       "    </tr>\n",
       "    <tr>\n",
       "      <th>2</th>\n",
       "      <td>4</td>\n",
       "      <td>3.00</td>\n",
       "      <td>1.0</td>\n",
       "      <td>0</td>\n",
       "      <td>0</td>\n",
       "      <td>5</td>\n",
       "      <td>7</td>\n",
       "    </tr>\n",
       "    <tr>\n",
       "      <th>3</th>\n",
       "      <td>3</td>\n",
       "      <td>2.00</td>\n",
       "      <td>1.0</td>\n",
       "      <td>0</td>\n",
       "      <td>0</td>\n",
       "      <td>3</td>\n",
       "      <td>8</td>\n",
       "    </tr>\n",
       "    <tr>\n",
       "      <th>4</th>\n",
       "      <td>4</td>\n",
       "      <td>4.50</td>\n",
       "      <td>1.0</td>\n",
       "      <td>0</td>\n",
       "      <td>0</td>\n",
       "      <td>3</td>\n",
       "      <td>11</td>\n",
       "    </tr>\n",
       "    <tr>\n",
       "      <th>...</th>\n",
       "      <td>...</td>\n",
       "      <td>...</td>\n",
       "      <td>...</td>\n",
       "      <td>...</td>\n",
       "      <td>...</td>\n",
       "      <td>...</td>\n",
       "      <td>...</td>\n",
       "    </tr>\n",
       "    <tr>\n",
       "      <th>18633</th>\n",
       "      <td>3</td>\n",
       "      <td>2.50</td>\n",
       "      <td>3.0</td>\n",
       "      <td>0</td>\n",
       "      <td>0</td>\n",
       "      <td>3</td>\n",
       "      <td>8</td>\n",
       "    </tr>\n",
       "    <tr>\n",
       "      <th>18634</th>\n",
       "      <td>4</td>\n",
       "      <td>2.50</td>\n",
       "      <td>2.0</td>\n",
       "      <td>0</td>\n",
       "      <td>0</td>\n",
       "      <td>3</td>\n",
       "      <td>8</td>\n",
       "    </tr>\n",
       "    <tr>\n",
       "      <th>18635</th>\n",
       "      <td>2</td>\n",
       "      <td>0.75</td>\n",
       "      <td>2.0</td>\n",
       "      <td>0</td>\n",
       "      <td>0</td>\n",
       "      <td>3</td>\n",
       "      <td>7</td>\n",
       "    </tr>\n",
       "    <tr>\n",
       "      <th>18636</th>\n",
       "      <td>3</td>\n",
       "      <td>2.50</td>\n",
       "      <td>2.0</td>\n",
       "      <td>0</td>\n",
       "      <td>0</td>\n",
       "      <td>3</td>\n",
       "      <td>8</td>\n",
       "    </tr>\n",
       "    <tr>\n",
       "      <th>18637</th>\n",
       "      <td>2</td>\n",
       "      <td>0.75</td>\n",
       "      <td>2.0</td>\n",
       "      <td>0</td>\n",
       "      <td>0</td>\n",
       "      <td>3</td>\n",
       "      <td>7</td>\n",
       "    </tr>\n",
       "  </tbody>\n",
       "</table>\n",
       "<p>18638 rows × 7 columns</p>\n",
       "</div>"
      ],
      "text/plain": [
       "      bedrooms bathrooms floors waterfront view condition grade\n",
       "0            3      1.00    1.0          0    0         3     7\n",
       "1            3      2.25    2.0          0    0         3     7\n",
       "2            4      3.00    1.0          0    0         5     7\n",
       "3            3      2.00    1.0          0    0         3     8\n",
       "4            4      4.50    1.0          0    0         3    11\n",
       "...        ...       ...    ...        ...  ...       ...   ...\n",
       "18633        3      2.50    3.0          0    0         3     8\n",
       "18634        4      2.50    2.0          0    0         3     8\n",
       "18635        2      0.75    2.0          0    0         3     7\n",
       "18636        3      2.50    2.0          0    0         3     8\n",
       "18637        2      0.75    2.0          0    0         3     7\n",
       "\n",
       "[18638 rows x 7 columns]"
      ]
     },
     "execution_count": 725,
     "metadata": {},
     "output_type": "execute_result"
    }
   ],
   "source": [
    "categoricals_features= this_model.select_dtypes(\"category\")\n",
    "categoricals_features.reset_index(drop=True)"
   ]
  },
  {
   "cell_type": "code",
   "execution_count": 726,
   "id": "31ca9055",
   "metadata": {},
   "outputs": [],
   "source": [
    "#cat_cols"
   ]
  },
  {
   "cell_type": "code",
   "execution_count": 727,
   "id": "ecd978d4",
   "metadata": {},
   "outputs": [],
   "source": [
    "cat_cols=pd.get_dummies(categoricals_features, drop_first=True)"
   ]
  },
  {
   "cell_type": "markdown",
   "id": "b8a16ef0",
   "metadata": {},
   "source": [
    "#### 3.1.3 X-y split"
   ]
  },
  {
   "cell_type": "code",
   "execution_count": 728,
   "id": "bfde773b",
   "metadata": {},
   "outputs": [],
   "source": [
    "X=this_model.drop(\"price\", axis=1)\n",
    "y=this_model[\"price\"]"
   ]
  },
  {
   "cell_type": "code",
   "execution_count": 729,
   "id": "cf77ccec",
   "metadata": {},
   "outputs": [
    {
     "data": {
      "text/html": [
       "<div>\n",
       "<style scoped>\n",
       "    .dataframe tbody tr th:only-of-type {\n",
       "        vertical-align: middle;\n",
       "    }\n",
       "\n",
       "    .dataframe tbody tr th {\n",
       "        vertical-align: top;\n",
       "    }\n",
       "\n",
       "    .dataframe thead th {\n",
       "        text-align: right;\n",
       "    }\n",
       "</style>\n",
       "<table border=\"1\" class=\"dataframe\">\n",
       "  <thead>\n",
       "    <tr style=\"text-align: right;\">\n",
       "      <th></th>\n",
       "      <th>sqft_living</th>\n",
       "      <th>sqft_lot</th>\n",
       "      <th>sqft_basement</th>\n",
       "      <th>sqft_living15</th>\n",
       "      <th>sqft_lot15</th>\n",
       "      <th>age_in_2015</th>\n",
       "    </tr>\n",
       "  </thead>\n",
       "  <tbody>\n",
       "    <tr>\n",
       "      <th>0</th>\n",
       "      <td>1180</td>\n",
       "      <td>5650</td>\n",
       "      <td>0</td>\n",
       "      <td>1340</td>\n",
       "      <td>5650</td>\n",
       "      <td>60</td>\n",
       "    </tr>\n",
       "    <tr>\n",
       "      <th>1</th>\n",
       "      <td>2570</td>\n",
       "      <td>7242</td>\n",
       "      <td>400</td>\n",
       "      <td>1690</td>\n",
       "      <td>7639</td>\n",
       "      <td>24</td>\n",
       "    </tr>\n",
       "    <tr>\n",
       "      <th>2</th>\n",
       "      <td>1960</td>\n",
       "      <td>5000</td>\n",
       "      <td>910</td>\n",
       "      <td>1360</td>\n",
       "      <td>5000</td>\n",
       "      <td>50</td>\n",
       "    </tr>\n",
       "    <tr>\n",
       "      <th>3</th>\n",
       "      <td>1680</td>\n",
       "      <td>8080</td>\n",
       "      <td>0</td>\n",
       "      <td>1800</td>\n",
       "      <td>7503</td>\n",
       "      <td>28</td>\n",
       "    </tr>\n",
       "    <tr>\n",
       "      <th>4</th>\n",
       "      <td>5420</td>\n",
       "      <td>101930</td>\n",
       "      <td>1530</td>\n",
       "      <td>4760</td>\n",
       "      <td>101930</td>\n",
       "      <td>14</td>\n",
       "    </tr>\n",
       "    <tr>\n",
       "      <th>...</th>\n",
       "      <td>...</td>\n",
       "      <td>...</td>\n",
       "      <td>...</td>\n",
       "      <td>...</td>\n",
       "      <td>...</td>\n",
       "      <td>...</td>\n",
       "    </tr>\n",
       "    <tr>\n",
       "      <th>18633</th>\n",
       "      <td>1530</td>\n",
       "      <td>1131</td>\n",
       "      <td>0</td>\n",
       "      <td>1530</td>\n",
       "      <td>1509</td>\n",
       "      <td>6</td>\n",
       "    </tr>\n",
       "    <tr>\n",
       "      <th>18634</th>\n",
       "      <td>2310</td>\n",
       "      <td>5813</td>\n",
       "      <td>0</td>\n",
       "      <td>1830</td>\n",
       "      <td>7200</td>\n",
       "      <td>1</td>\n",
       "    </tr>\n",
       "    <tr>\n",
       "      <th>18635</th>\n",
       "      <td>1020</td>\n",
       "      <td>1350</td>\n",
       "      <td>0</td>\n",
       "      <td>1020</td>\n",
       "      <td>2007</td>\n",
       "      <td>6</td>\n",
       "    </tr>\n",
       "    <tr>\n",
       "      <th>18636</th>\n",
       "      <td>1600</td>\n",
       "      <td>2388</td>\n",
       "      <td>0</td>\n",
       "      <td>1410</td>\n",
       "      <td>1287</td>\n",
       "      <td>11</td>\n",
       "    </tr>\n",
       "    <tr>\n",
       "      <th>18637</th>\n",
       "      <td>1020</td>\n",
       "      <td>1076</td>\n",
       "      <td>0</td>\n",
       "      <td>1020</td>\n",
       "      <td>1357</td>\n",
       "      <td>7</td>\n",
       "    </tr>\n",
       "  </tbody>\n",
       "</table>\n",
       "<p>18638 rows × 6 columns</p>\n",
       "</div>"
      ],
      "text/plain": [
       "       sqft_living  sqft_lot  sqft_basement  sqft_living15  sqft_lot15  \\\n",
       "0             1180      5650              0           1340        5650   \n",
       "1             2570      7242            400           1690        7639   \n",
       "2             1960      5000            910           1360        5000   \n",
       "3             1680      8080              0           1800        7503   \n",
       "4             5420    101930           1530           4760      101930   \n",
       "...            ...       ...            ...            ...         ...   \n",
       "18633         1530      1131              0           1530        1509   \n",
       "18634         2310      5813              0           1830        7200   \n",
       "18635         1020      1350              0           1020        2007   \n",
       "18636         1600      2388              0           1410        1287   \n",
       "18637         1020      1076              0           1020        1357   \n",
       "\n",
       "       age_in_2015  \n",
       "0               60  \n",
       "1               24  \n",
       "2               50  \n",
       "3               28  \n",
       "4               14  \n",
       "...            ...  \n",
       "18633            6  \n",
       "18634            1  \n",
       "18635            6  \n",
       "18636           11  \n",
       "18637            7  \n",
       "\n",
       "[18638 rows x 6 columns]"
      ]
     },
     "execution_count": 729,
     "metadata": {},
     "output_type": "execute_result"
    }
   ],
   "source": [
    "X_num = X._get_numeric_data()\n",
    "X_num = X_num.reset_index(drop=True)\n",
    "X_num"
   ]
  },
  {
   "cell_type": "code",
   "execution_count": 730,
   "id": "6c2f86b5",
   "metadata": {},
   "outputs": [],
   "source": [
    "if show_hist_for_X:\n",
    "    X_num.hist(figsize=(14,14))"
   ]
  },
  {
   "cell_type": "code",
   "execution_count": 731,
   "id": "5ecbd581",
   "metadata": {},
   "outputs": [],
   "source": [
    "# cat_cols"
   ]
  },
  {
   "cell_type": "markdown",
   "id": "fbc604fd",
   "metadata": {},
   "source": [
    "**Concat dummies to numeric standardized**"
   ]
  },
  {
   "cell_type": "code",
   "execution_count": 732,
   "id": "61474bba",
   "metadata": {},
   "outputs": [
    {
     "data": {
      "text/html": [
       "<div>\n",
       "<style scoped>\n",
       "    .dataframe tbody tr th:only-of-type {\n",
       "        vertical-align: middle;\n",
       "    }\n",
       "\n",
       "    .dataframe tbody tr th {\n",
       "        vertical-align: top;\n",
       "    }\n",
       "\n",
       "    .dataframe thead th {\n",
       "        text-align: right;\n",
       "    }\n",
       "</style>\n",
       "<table border=\"1\" class=\"dataframe\">\n",
       "  <thead>\n",
       "    <tr style=\"text-align: right;\">\n",
       "      <th></th>\n",
       "      <th>sqft_living</th>\n",
       "      <th>sqft_lot</th>\n",
       "      <th>sqft_basement</th>\n",
       "      <th>sqft_living15</th>\n",
       "      <th>sqft_lot15</th>\n",
       "      <th>age_in_2015</th>\n",
       "      <th>bedrooms</th>\n",
       "      <th>bathrooms</th>\n",
       "      <th>floors</th>\n",
       "      <th>waterfront</th>\n",
       "      <th>view</th>\n",
       "      <th>condition</th>\n",
       "      <th>grade</th>\n",
       "    </tr>\n",
       "  </thead>\n",
       "  <tbody>\n",
       "    <tr>\n",
       "      <th>0</th>\n",
       "      <td>1180</td>\n",
       "      <td>5650</td>\n",
       "      <td>0</td>\n",
       "      <td>1340</td>\n",
       "      <td>5650</td>\n",
       "      <td>60</td>\n",
       "      <td>3</td>\n",
       "      <td>1.00</td>\n",
       "      <td>1.0</td>\n",
       "      <td>0</td>\n",
       "      <td>0</td>\n",
       "      <td>3</td>\n",
       "      <td>7</td>\n",
       "    </tr>\n",
       "    <tr>\n",
       "      <th>1</th>\n",
       "      <td>2570</td>\n",
       "      <td>7242</td>\n",
       "      <td>400</td>\n",
       "      <td>1690</td>\n",
       "      <td>7639</td>\n",
       "      <td>24</td>\n",
       "      <td>3</td>\n",
       "      <td>2.25</td>\n",
       "      <td>2.0</td>\n",
       "      <td>0</td>\n",
       "      <td>0</td>\n",
       "      <td>3</td>\n",
       "      <td>7</td>\n",
       "    </tr>\n",
       "    <tr>\n",
       "      <th>2</th>\n",
       "      <td>1960</td>\n",
       "      <td>5000</td>\n",
       "      <td>910</td>\n",
       "      <td>1360</td>\n",
       "      <td>5000</td>\n",
       "      <td>50</td>\n",
       "      <td>4</td>\n",
       "      <td>3.00</td>\n",
       "      <td>1.0</td>\n",
       "      <td>0</td>\n",
       "      <td>0</td>\n",
       "      <td>5</td>\n",
       "      <td>7</td>\n",
       "    </tr>\n",
       "    <tr>\n",
       "      <th>3</th>\n",
       "      <td>1680</td>\n",
       "      <td>8080</td>\n",
       "      <td>0</td>\n",
       "      <td>1800</td>\n",
       "      <td>7503</td>\n",
       "      <td>28</td>\n",
       "      <td>3</td>\n",
       "      <td>2.00</td>\n",
       "      <td>1.0</td>\n",
       "      <td>0</td>\n",
       "      <td>0</td>\n",
       "      <td>3</td>\n",
       "      <td>8</td>\n",
       "    </tr>\n",
       "    <tr>\n",
       "      <th>4</th>\n",
       "      <td>5420</td>\n",
       "      <td>101930</td>\n",
       "      <td>1530</td>\n",
       "      <td>4760</td>\n",
       "      <td>101930</td>\n",
       "      <td>14</td>\n",
       "      <td>4</td>\n",
       "      <td>4.50</td>\n",
       "      <td>1.0</td>\n",
       "      <td>0</td>\n",
       "      <td>0</td>\n",
       "      <td>3</td>\n",
       "      <td>11</td>\n",
       "    </tr>\n",
       "    <tr>\n",
       "      <th>...</th>\n",
       "      <td>...</td>\n",
       "      <td>...</td>\n",
       "      <td>...</td>\n",
       "      <td>...</td>\n",
       "      <td>...</td>\n",
       "      <td>...</td>\n",
       "      <td>...</td>\n",
       "      <td>...</td>\n",
       "      <td>...</td>\n",
       "      <td>...</td>\n",
       "      <td>...</td>\n",
       "      <td>...</td>\n",
       "      <td>...</td>\n",
       "    </tr>\n",
       "    <tr>\n",
       "      <th>18633</th>\n",
       "      <td>1530</td>\n",
       "      <td>1131</td>\n",
       "      <td>0</td>\n",
       "      <td>1530</td>\n",
       "      <td>1509</td>\n",
       "      <td>6</td>\n",
       "      <td>3</td>\n",
       "      <td>2.50</td>\n",
       "      <td>3.0</td>\n",
       "      <td>0</td>\n",
       "      <td>0</td>\n",
       "      <td>3</td>\n",
       "      <td>8</td>\n",
       "    </tr>\n",
       "    <tr>\n",
       "      <th>18634</th>\n",
       "      <td>2310</td>\n",
       "      <td>5813</td>\n",
       "      <td>0</td>\n",
       "      <td>1830</td>\n",
       "      <td>7200</td>\n",
       "      <td>1</td>\n",
       "      <td>4</td>\n",
       "      <td>2.50</td>\n",
       "      <td>2.0</td>\n",
       "      <td>0</td>\n",
       "      <td>0</td>\n",
       "      <td>3</td>\n",
       "      <td>8</td>\n",
       "    </tr>\n",
       "    <tr>\n",
       "      <th>18635</th>\n",
       "      <td>1020</td>\n",
       "      <td>1350</td>\n",
       "      <td>0</td>\n",
       "      <td>1020</td>\n",
       "      <td>2007</td>\n",
       "      <td>6</td>\n",
       "      <td>2</td>\n",
       "      <td>0.75</td>\n",
       "      <td>2.0</td>\n",
       "      <td>0</td>\n",
       "      <td>0</td>\n",
       "      <td>3</td>\n",
       "      <td>7</td>\n",
       "    </tr>\n",
       "    <tr>\n",
       "      <th>18636</th>\n",
       "      <td>1600</td>\n",
       "      <td>2388</td>\n",
       "      <td>0</td>\n",
       "      <td>1410</td>\n",
       "      <td>1287</td>\n",
       "      <td>11</td>\n",
       "      <td>3</td>\n",
       "      <td>2.50</td>\n",
       "      <td>2.0</td>\n",
       "      <td>0</td>\n",
       "      <td>0</td>\n",
       "      <td>3</td>\n",
       "      <td>8</td>\n",
       "    </tr>\n",
       "    <tr>\n",
       "      <th>18637</th>\n",
       "      <td>1020</td>\n",
       "      <td>1076</td>\n",
       "      <td>0</td>\n",
       "      <td>1020</td>\n",
       "      <td>1357</td>\n",
       "      <td>7</td>\n",
       "      <td>2</td>\n",
       "      <td>0.75</td>\n",
       "      <td>2.0</td>\n",
       "      <td>0</td>\n",
       "      <td>0</td>\n",
       "      <td>3</td>\n",
       "      <td>7</td>\n",
       "    </tr>\n",
       "  </tbody>\n",
       "</table>\n",
       "<p>18638 rows × 13 columns</p>\n",
       "</div>"
      ],
      "text/plain": [
       "       sqft_living  sqft_lot  sqft_basement  sqft_living15  sqft_lot15  \\\n",
       "0             1180      5650              0           1340        5650   \n",
       "1             2570      7242            400           1690        7639   \n",
       "2             1960      5000            910           1360        5000   \n",
       "3             1680      8080              0           1800        7503   \n",
       "4             5420    101930           1530           4760      101930   \n",
       "...            ...       ...            ...            ...         ...   \n",
       "18633         1530      1131              0           1530        1509   \n",
       "18634         2310      5813              0           1830        7200   \n",
       "18635         1020      1350              0           1020        2007   \n",
       "18636         1600      2388              0           1410        1287   \n",
       "18637         1020      1076              0           1020        1357   \n",
       "\n",
       "       age_in_2015 bedrooms bathrooms floors waterfront view condition grade  \n",
       "0               60        3      1.00    1.0          0    0         3     7  \n",
       "1               24        3      2.25    2.0          0    0         3     7  \n",
       "2               50        4      3.00    1.0          0    0         5     7  \n",
       "3               28        3      2.00    1.0          0    0         3     8  \n",
       "4               14        4      4.50    1.0          0    0         3    11  \n",
       "...            ...      ...       ...    ...        ...  ...       ...   ...  \n",
       "18633            6        3      2.50    3.0          0    0         3     8  \n",
       "18634            1        4      2.50    2.0          0    0         3     8  \n",
       "18635            6        2      0.75    2.0          0    0         3     7  \n",
       "18636           11        3      2.50    2.0          0    0         3     8  \n",
       "18637            7        2      0.75    2.0          0    0         3     7  \n",
       "\n",
       "[18638 rows x 13 columns]"
      ]
     },
     "execution_count": 732,
     "metadata": {},
     "output_type": "execute_result"
    }
   ],
   "source": [
    "X = pd.concat([X_num,categoricals_features],axis=1)\n",
    "X = X.reset_index(drop=True)\n",
    "X"
   ]
  },
  {
   "cell_type": "markdown",
   "id": "efe7f407",
   "metadata": {},
   "source": [
    "#### 3.1.4 Data splitting"
   ]
  },
  {
   "cell_type": "code",
   "execution_count": 733,
   "id": "6d398a59",
   "metadata": {},
   "outputs": [],
   "source": [
    "X_train, X_test, y_train, y_test = train_test_split(X, y, test_size=test_set_size,random_state=42)"
   ]
  },
  {
   "cell_type": "code",
   "execution_count": 734,
   "id": "07b58490",
   "metadata": {},
   "outputs": [],
   "source": [
    "y_train.values.reshape(-1,1)\n",
    "# y_test.values.reshape(-1,1)\n",
    "y_train = y_train.reset_index(drop=True)\n"
   ]
  },
  {
   "cell_type": "code",
   "execution_count": 735,
   "id": "876d629a",
   "metadata": {},
   "outputs": [],
   "source": [
    "X_train = X_train.reset_index(drop=True)\n",
    "X_test = X_test.reset_index(drop=True)"
   ]
  },
  {
   "cell_type": "code",
   "execution_count": 736,
   "id": "42533883",
   "metadata": {},
   "outputs": [
    {
     "data": {
      "text/html": [
       "<div>\n",
       "<style scoped>\n",
       "    .dataframe tbody tr th:only-of-type {\n",
       "        vertical-align: middle;\n",
       "    }\n",
       "\n",
       "    .dataframe tbody tr th {\n",
       "        vertical-align: top;\n",
       "    }\n",
       "\n",
       "    .dataframe thead th {\n",
       "        text-align: right;\n",
       "    }\n",
       "</style>\n",
       "<table border=\"1\" class=\"dataframe\">\n",
       "  <thead>\n",
       "    <tr style=\"text-align: right;\">\n",
       "      <th></th>\n",
       "      <th>sqft_living</th>\n",
       "      <th>sqft_lot</th>\n",
       "      <th>sqft_basement</th>\n",
       "      <th>sqft_living15</th>\n",
       "      <th>sqft_lot15</th>\n",
       "      <th>age_in_2015</th>\n",
       "      <th>bedrooms</th>\n",
       "      <th>bathrooms</th>\n",
       "      <th>floors</th>\n",
       "      <th>waterfront</th>\n",
       "      <th>view</th>\n",
       "      <th>condition</th>\n",
       "      <th>grade</th>\n",
       "    </tr>\n",
       "  </thead>\n",
       "  <tbody>\n",
       "    <tr>\n",
       "      <th>0</th>\n",
       "      <td>2320</td>\n",
       "      <td>7800</td>\n",
       "      <td>0</td>\n",
       "      <td>2090</td>\n",
       "      <td>5721</td>\n",
       "      <td>29</td>\n",
       "      <td>4</td>\n",
       "      <td>2.50</td>\n",
       "      <td>2.0</td>\n",
       "      <td>0</td>\n",
       "      <td>0</td>\n",
       "      <td>3</td>\n",
       "      <td>8</td>\n",
       "    </tr>\n",
       "    <tr>\n",
       "      <th>1</th>\n",
       "      <td>1460</td>\n",
       "      <td>1085</td>\n",
       "      <td>510</td>\n",
       "      <td>1580</td>\n",
       "      <td>1202</td>\n",
       "      <td>1</td>\n",
       "      <td>2</td>\n",
       "      <td>2.00</td>\n",
       "      <td>2.0</td>\n",
       "      <td>0</td>\n",
       "      <td>0</td>\n",
       "      <td>3</td>\n",
       "      <td>8</td>\n",
       "    </tr>\n",
       "    <tr>\n",
       "      <th>2</th>\n",
       "      <td>990</td>\n",
       "      <td>8528</td>\n",
       "      <td>0</td>\n",
       "      <td>1228</td>\n",
       "      <td>8840</td>\n",
       "      <td>49</td>\n",
       "      <td>3</td>\n",
       "      <td>1.00</td>\n",
       "      <td>1.0</td>\n",
       "      <td>0</td>\n",
       "      <td>0</td>\n",
       "      <td>3</td>\n",
       "      <td>6</td>\n",
       "    </tr>\n",
       "    <tr>\n",
       "      <th>3</th>\n",
       "      <td>1790</td>\n",
       "      <td>7055</td>\n",
       "      <td>270</td>\n",
       "      <td>1710</td>\n",
       "      <td>7055</td>\n",
       "      <td>78</td>\n",
       "      <td>3</td>\n",
       "      <td>1.00</td>\n",
       "      <td>1.0</td>\n",
       "      <td>0</td>\n",
       "      <td>0</td>\n",
       "      <td>5</td>\n",
       "      <td>8</td>\n",
       "    </tr>\n",
       "    <tr>\n",
       "      <th>4</th>\n",
       "      <td>990</td>\n",
       "      <td>2446</td>\n",
       "      <td>0</td>\n",
       "      <td>1260</td>\n",
       "      <td>2805</td>\n",
       "      <td>17</td>\n",
       "      <td>2</td>\n",
       "      <td>1.00</td>\n",
       "      <td>2.0</td>\n",
       "      <td>0</td>\n",
       "      <td>0</td>\n",
       "      <td>3</td>\n",
       "      <td>7</td>\n",
       "    </tr>\n",
       "    <tr>\n",
       "      <th>...</th>\n",
       "      <td>...</td>\n",
       "      <td>...</td>\n",
       "      <td>...</td>\n",
       "      <td>...</td>\n",
       "      <td>...</td>\n",
       "      <td>...</td>\n",
       "      <td>...</td>\n",
       "      <td>...</td>\n",
       "      <td>...</td>\n",
       "      <td>...</td>\n",
       "      <td>...</td>\n",
       "      <td>...</td>\n",
       "      <td>...</td>\n",
       "    </tr>\n",
       "    <tr>\n",
       "      <th>5587</th>\n",
       "      <td>3830</td>\n",
       "      <td>8963</td>\n",
       "      <td>710</td>\n",
       "      <td>2190</td>\n",
       "      <td>10777</td>\n",
       "      <td>1</td>\n",
       "      <td>4</td>\n",
       "      <td>3.50</td>\n",
       "      <td>2.0</td>\n",
       "      <td>0</td>\n",
       "      <td>0</td>\n",
       "      <td>3</td>\n",
       "      <td>10</td>\n",
       "    </tr>\n",
       "    <tr>\n",
       "      <th>5588</th>\n",
       "      <td>2200</td>\n",
       "      <td>9676</td>\n",
       "      <td>700</td>\n",
       "      <td>2120</td>\n",
       "      <td>9585</td>\n",
       "      <td>36</td>\n",
       "      <td>4</td>\n",
       "      <td>2.75</td>\n",
       "      <td>1.0</td>\n",
       "      <td>0</td>\n",
       "      <td>0</td>\n",
       "      <td>3</td>\n",
       "      <td>8</td>\n",
       "    </tr>\n",
       "    <tr>\n",
       "      <th>5589</th>\n",
       "      <td>2150</td>\n",
       "      <td>4500</td>\n",
       "      <td>890</td>\n",
       "      <td>1590</td>\n",
       "      <td>5010</td>\n",
       "      <td>98</td>\n",
       "      <td>2</td>\n",
       "      <td>1.00</td>\n",
       "      <td>1.5</td>\n",
       "      <td>0</td>\n",
       "      <td>0</td>\n",
       "      <td>3</td>\n",
       "      <td>7</td>\n",
       "    </tr>\n",
       "    <tr>\n",
       "      <th>5590</th>\n",
       "      <td>1050</td>\n",
       "      <td>5000</td>\n",
       "      <td>0</td>\n",
       "      <td>1340</td>\n",
       "      <td>5000</td>\n",
       "      <td>108</td>\n",
       "      <td>2</td>\n",
       "      <td>1.00</td>\n",
       "      <td>1.0</td>\n",
       "      <td>0</td>\n",
       "      <td>0</td>\n",
       "      <td>5</td>\n",
       "      <td>7</td>\n",
       "    </tr>\n",
       "    <tr>\n",
       "      <th>5591</th>\n",
       "      <td>2120</td>\n",
       "      <td>4500</td>\n",
       "      <td>0</td>\n",
       "      <td>2530</td>\n",
       "      <td>4816</td>\n",
       "      <td>15</td>\n",
       "      <td>3</td>\n",
       "      <td>2.50</td>\n",
       "      <td>2.0</td>\n",
       "      <td>0</td>\n",
       "      <td>0</td>\n",
       "      <td>3</td>\n",
       "      <td>7</td>\n",
       "    </tr>\n",
       "  </tbody>\n",
       "</table>\n",
       "<p>5592 rows × 13 columns</p>\n",
       "</div>"
      ],
      "text/plain": [
       "      sqft_living  sqft_lot  sqft_basement  sqft_living15  sqft_lot15  \\\n",
       "0            2320      7800              0           2090        5721   \n",
       "1            1460      1085            510           1580        1202   \n",
       "2             990      8528              0           1228        8840   \n",
       "3            1790      7055            270           1710        7055   \n",
       "4             990      2446              0           1260        2805   \n",
       "...           ...       ...            ...            ...         ...   \n",
       "5587         3830      8963            710           2190       10777   \n",
       "5588         2200      9676            700           2120        9585   \n",
       "5589         2150      4500            890           1590        5010   \n",
       "5590         1050      5000              0           1340        5000   \n",
       "5591         2120      4500              0           2530        4816   \n",
       "\n",
       "      age_in_2015 bedrooms bathrooms floors waterfront view condition grade  \n",
       "0              29        4      2.50    2.0          0    0         3     8  \n",
       "1               1        2      2.00    2.0          0    0         3     8  \n",
       "2              49        3      1.00    1.0          0    0         3     6  \n",
       "3              78        3      1.00    1.0          0    0         5     8  \n",
       "4              17        2      1.00    2.0          0    0         3     7  \n",
       "...           ...      ...       ...    ...        ...  ...       ...   ...  \n",
       "5587            1        4      3.50    2.0          0    0         3    10  \n",
       "5588           36        4      2.75    1.0          0    0         3     8  \n",
       "5589           98        2      1.00    1.5          0    0         3     7  \n",
       "5590          108        2      1.00    1.0          0    0         5     7  \n",
       "5591           15        3      2.50    2.0          0    0         3     7  \n",
       "\n",
       "[5592 rows x 13 columns]"
      ]
     },
     "execution_count": 736,
     "metadata": {},
     "output_type": "execute_result"
    }
   ],
   "source": [
    "X_train\n",
    "X_test"
   ]
  },
  {
   "cell_type": "markdown",
   "id": "183f42c3",
   "metadata": {},
   "source": [
    "#### 3.1.5 Standardize\n",
    "+ Build scaling parameters on training set (mean variance) → more data as majority of datapoints of sample<br>(1 - *test_sample_size*) <br>\n",
    "\n"
   ]
  },
  {
   "cell_type": "code",
   "execution_count": 737,
   "id": "4ec204c3",
   "metadata": {},
   "outputs": [],
   "source": [
    "if scaler == \"quantile_transformer\":\n",
    "    scaler_used = QuantileTransformer(n_quantiles=500, output_distribution=\"normal\").fit(X_train)\n",
    "elif scaler == \"power_transformator\":\n",
    "    scaler_used = PowerTransformer().fit(X_train)\n",
    "else:\n",
    "    scaler_used = StandardScaler().fit(X_train)"
   ]
  },
  {
   "cell_type": "markdown",
   "id": "8208f242",
   "metadata": {},
   "source": [
    "+ Apply on training set"
   ]
  },
  {
   "cell_type": "code",
   "execution_count": 738,
   "id": "49073da5",
   "metadata": {},
   "outputs": [],
   "source": [
    "X_train_scaled=scaler_used.transform(X_train)"
   ]
  },
  {
   "cell_type": "markdown",
   "id": "1aae48b2",
   "metadata": {},
   "source": [
    "+ as well as on test set (same std_scaler but generated by a bigger set of values), same scaling param's as x_train"
   ]
  },
  {
   "cell_type": "code",
   "execution_count": 739,
   "id": "c63368cb",
   "metadata": {},
   "outputs": [],
   "source": [
    "X_test_scaled=scaler_used.transform(X_test)"
   ]
  },
  {
   "cell_type": "markdown",
   "id": "01267e84",
   "metadata": {},
   "source": [
    "#### 3.1.6 Modeling using Statsmodels"
   ]
  },
  {
   "cell_type": "code",
   "execution_count": 740,
   "id": "a47f3b01",
   "metadata": {},
   "outputs": [],
   "source": [
    "X_train_scaled = pd.DataFrame(X_train_scaled, columns= X_train.columns)\n",
    "X_test_scaled = pd.DataFrame(X_test_scaled, columns= X_test.columns)\n",
    "\n",
    "X_train_scaled = X_train_scaled.reset_index(drop=True)\n",
    "X_test_scaled = X_test_scaled.reset_index(drop=True)\n"
   ]
  },
  {
   "cell_type": "code",
   "execution_count": 741,
   "id": "9a13f78f",
   "metadata": {},
   "outputs": [],
   "source": [
    "# y_train=y_train.values.reshape(-1,1)\n",
    "# y_test=y_test.values.reshape(-1,1)\n"
   ]
  },
  {
   "cell_type": "code",
   "execution_count": 742,
   "id": "72d76c80",
   "metadata": {
    "scrolled": true
   },
   "outputs": [],
   "source": [
    "X_train_const_scaled = sm.add_constant(X_train_scaled) # adding a constant\n",
    "# X_train_const_scaled = X_train_const_scaled.reset_index(drop=True)\n",
    "model = sm.OLS(y_train, X_train_const_scaled).fit()\n",
    "predictions_train = model.predict(X_train_const_scaled) \n",
    "\n",
    "X_test_const_scaled = sm.add_constant(X_test_scaled) # adding a constant\n",
    "predictions_test = model.predict(X_test_const_scaled) \n",
    "print_model = model.summary()\n",
    "if print_model_data:\n",
    "    print(print_model)"
   ]
  },
  {
   "cell_type": "code",
   "execution_count": 743,
   "id": "244601c7",
   "metadata": {},
   "outputs": [
    {
     "data": {
      "text/plain": [
       "0       558220.435949\n",
       "1       408494.935325\n",
       "2       153356.236532\n",
       "3       613335.177781\n",
       "4       233200.857263\n",
       "            ...      \n",
       "5587    925457.597907\n",
       "5588    555681.550433\n",
       "5589    619059.149200\n",
       "5590    520039.833673\n",
       "5591    417072.208571\n",
       "Length: 5592, dtype: float64"
      ]
     },
     "execution_count": 743,
     "metadata": {},
     "output_type": "execute_result"
    }
   ],
   "source": [
    "predictions_test"
   ]
  },
  {
   "cell_type": "markdown",
   "id": "5abe6b84",
   "metadata": {},
   "source": [
    "#### 3.1.7 Modeling using Scikit Learn"
   ]
  },
  {
   "cell_type": "markdown",
   "id": "f54c4ef9",
   "metadata": {},
   "source": [
    "##### 3.1.7.1 Model fitting"
   ]
  },
  {
   "cell_type": "code",
   "execution_count": 744,
   "id": "33a27734",
   "metadata": {},
   "outputs": [
    {
     "data": {
      "text/plain": [
       "LinearRegression()"
      ]
     },
     "execution_count": 744,
     "metadata": {},
     "output_type": "execute_result"
    }
   ],
   "source": [
    "model=LinearRegression()    # model\n",
    "model.fit(X_train_scaled, y_train)   # model train"
   ]
  },
  {
   "cell_type": "markdown",
   "id": "e92bb892",
   "metadata": {},
   "source": [
    "##### 3.1.7.2 Parameters of model"
   ]
  },
  {
   "cell_type": "code",
   "execution_count": 745,
   "id": "6da0649a",
   "metadata": {},
   "outputs": [
    {
     "data": {
      "text/plain": [
       "array([ 9.26091856e+04,  1.63276669e+03,  6.04360807e+03,  1.78081869e+04,\n",
       "       -8.30018860e+03,  8.87191655e+04, -2.54269776e+04,  2.72767621e+04,\n",
       "        1.63610442e+04,  1.16415322e-10,  0.00000000e+00,  9.46740769e+03,\n",
       "        1.25667694e+05])"
      ]
     },
     "execution_count": 745,
     "metadata": {},
     "output_type": "execute_result"
    }
   ],
   "source": [
    "model.coef_"
   ]
  },
  {
   "cell_type": "code",
   "execution_count": 746,
   "id": "f48e8dc9",
   "metadata": {},
   "outputs": [
    {
     "name": "stdout",
     "output_type": "stream",
     "text": [
      "[(92609.18555677996, 'sqft_living'), (1632.766693410594, 'sqft_lot'), (6043.608070223118, 'sqft_basement'), (17808.18690337963, 'sqft_living15'), (-8300.188603842615, 'sqft_lot15'), (88719.16551455061, 'age_in_2015'), (-25426.977608080637, 'bedrooms'), (27276.76208648392, 'bathrooms'), (16361.04417856982, 'floors'), (1.1641532182693481e-10, 'waterfront'), (0.0, 'view'), (9467.407692703375, 'condition'), (125667.6939213264, 'grade')]\n"
     ]
    }
   ],
   "source": [
    "print(list(zip(model.coef_, X_train.columns)))"
   ]
  },
  {
   "cell_type": "code",
   "execution_count": 747,
   "id": "4ce2060e",
   "metadata": {},
   "outputs": [],
   "source": [
    "coef_dict = {}\n",
    "for coef, feat in list(zip(model.coef_, X.columns)):\n",
    "    coef_dict[feat] = abs(coef)"
   ]
  },
  {
   "cell_type": "code",
   "execution_count": 748,
   "id": "11facd22",
   "metadata": {},
   "outputs": [],
   "source": [
    "# coef_dict_rev = {}\n",
    "# for coef, feat in list(zip(model.coef_, X.columns)):\n",
    "#     coef_dict_rev[str(abs(coef))] = feat"
   ]
  },
  {
   "cell_type": "code",
   "execution_count": 749,
   "id": "ba54cab2",
   "metadata": {},
   "outputs": [
    {
     "data": {
      "text/plain": [
       "{'grade': 125667.6939213264,\n",
       " 'sqft_living': 92609.18555677996,\n",
       " 'age_in_2015': 88719.16551455061,\n",
       " 'bathrooms': 27276.76208648392,\n",
       " 'bedrooms': 25426.977608080637,\n",
       " 'sqft_living15': 17808.18690337963,\n",
       " 'floors': 16361.04417856982,\n",
       " 'condition': 9467.407692703375,\n",
       " 'sqft_lot15': 8300.188603842615,\n",
       " 'sqft_basement': 6043.608070223118,\n",
       " 'sqft_lot': 1632.766693410594,\n",
       " 'waterfront': 1.1641532182693481e-10,\n",
       " 'view': 0.0}"
      ]
     },
     "execution_count": 749,
     "metadata": {},
     "output_type": "execute_result"
    }
   ],
   "source": [
    "coef_dict = {k: v for k, v in sorted(coef_dict.items(), key=lambda item: item[1], reverse=True)}\n",
    "coef_dict"
   ]
  },
  {
   "cell_type": "code",
   "execution_count": 750,
   "id": "5f7da556",
   "metadata": {},
   "outputs": [],
   "source": [
    "coef_df = pd.DataFrame(coef_dict.items())"
   ]
  },
  {
   "cell_type": "code",
   "execution_count": null,
   "id": "a675535a",
   "metadata": {},
   "outputs": [],
   "source": []
  },
  {
   "cell_type": "code",
   "execution_count": 751,
   "id": "efceafad",
   "metadata": {},
   "outputs": [
    {
     "data": {
      "text/plain": [
       "508738.3671623486"
      ]
     },
     "execution_count": 751,
     "metadata": {},
     "output_type": "execute_result"
    }
   ],
   "source": [
    "model.intercept_"
   ]
  },
  {
   "cell_type": "code",
   "execution_count": 752,
   "id": "c40822cf",
   "metadata": {},
   "outputs": [
    {
     "data": {
      "text/plain": [
       "0.5771646295360101"
      ]
     },
     "execution_count": 752,
     "metadata": {},
     "output_type": "execute_result"
    }
   ],
   "source": [
    "model.score(X_test_scaled,y_test)"
   ]
  },
  {
   "cell_type": "markdown",
   "id": "cf58b1de",
   "metadata": {},
   "source": [
    "##### 3.1.7.3 Making prediction"
   ]
  },
  {
   "cell_type": "code",
   "execution_count": 753,
   "id": "961ba576",
   "metadata": {},
   "outputs": [],
   "source": [
    "y_pred=model.predict(X_test_scaled)"
   ]
  },
  {
   "cell_type": "code",
   "execution_count": 754,
   "id": "8f4dbcbf",
   "metadata": {},
   "outputs": [],
   "source": [
    "# y_test"
   ]
  },
  {
   "cell_type": "code",
   "execution_count": 755,
   "id": "f6c3b556",
   "metadata": {},
   "outputs": [],
   "source": [
    "result=pd.DataFrame({\"y_test\":y_test,\"y_pred\":y_pred})"
   ]
  },
  {
   "cell_type": "markdown",
   "id": "b6e8d707",
   "metadata": {},
   "source": [
    "##### 3.1.7.4 Plots"
   ]
  },
  {
   "cell_type": "code",
   "execution_count": 756,
   "id": "6ffdd97b",
   "metadata": {},
   "outputs": [
    {
     "data": {
      "image/png": "[encoded data removed]",
      "text/plain": [
       "<Figure size 1008x288 with 3 Axes>"
      ]
     },
     "metadata": {},
     "output_type": "display_data"
    }
   ],
   "source": [
    "if show_prediction_plots:\n",
    "    fig, ax = plt.subplots(1,3,figsize=(14,4))\n",
    "    ax[0].plot(y_pred, y_test, 'o')\n",
    "    ax[0].set_xlabel(\"y_test\")\n",
    "    ax[0].set_ylabel(\"y_pred\")\n",
    "    ax[0].set_title(\"Test Set -Predicted vs real\")\n",
    "\n",
    "    # Get a histogram of the residuals ie: y - y_pred.  Homoscdasticity\n",
    "    # It resembles a normal distribution?\n",
    "    ax[1].hist(y_test - y_pred)\n",
    "    ax[1].set_xlabel(\"Test y-y_pred\")\n",
    "    ax[1].set_title(\"Test Set Residual histogram\")\n",
    "\n",
    "    ax[2].plot(y_pred,y_test - y_pred,\"o\")\n",
    "    ax[2].set_xlabel(\"predited\")\n",
    "    ax[2].set_ylabel(\"residuals\")\n",
    "    ax[2].set_title(\"Residuals by Predicted\")\n",
    "    ax[2].plot(y_pred,np.zeros(len(y_pred)),linestyle='dashed')"
   ]
  },
  {
   "cell_type": "code",
   "execution_count": 757,
   "id": "ae967fc9",
   "metadata": {},
   "outputs": [
    {
     "data": {
      "image/png": "[encoded data removed]",
      "text/plain": [
       "<Figure size 432x288 with 1 Axes>"
      ]
     },
     "metadata": {},
     "output_type": "display_data"
    }
   ],
   "source": [
    "if show_prediction_plots:\n",
    "    sns.regplot(x='y_pred',y='y_test', data=result, scatter_kws={\"color\": \"purple\"}, line_kws={\"color\": \"black\"})"
   ]
  },
  {
   "cell_type": "code",
   "execution_count": 758,
   "id": "e95466f6",
   "metadata": {},
   "outputs": [
    {
     "data": {
      "image/png": "[encoded data removed]",
      "text/plain": [
       "<Figure size 720x720 with 1 Axes>"
      ]
     },
     "metadata": {},
     "output_type": "display_data"
    }
   ],
   "source": [
    "if show_beta_plot:\n",
    "    sns.set_style(\"darkgrid\")\n",
    "    sns.set_context(\"paper\")  # font scale lowered to avoid overlapping x-ticks\n",
    "    fig, ax = plt.subplots(figsize=(10,10))\n",
    "    sns.barplot(data=coef_df[:30], y=0, x=1, palette=\"rocket\")\n",
    "    ax.set_title(f\"Importance of ß's\\n{filename_ext.capitalize()}\", size=14)\n",
    "    ax.set_ylabel(\"ß\", fontsize=12)\n",
    "    ax.set_xlabel(\"\")\n",
    "    if save_beta_plot:\n",
    "        plt.savefig(f\"./plots/beta_importance_{filename_ext}.png\")"
   ]
  },
  {
   "cell_type": "markdown",
   "id": "9ff09513",
   "metadata": {},
   "source": [
    "##### 3.1.7.5 Error metrics Test"
   ]
  },
  {
   "cell_type": "code",
   "execution_count": 759,
   "id": "33e6746d",
   "metadata": {
    "scrolled": true
   },
   "outputs": [],
   "source": [
    "mse_test = mse(y_test,y_pred)\n",
    "mae_test = mae(y_test,y_pred)"
   ]
  },
  {
   "cell_type": "code",
   "execution_count": 760,
   "id": "a294ee5a",
   "metadata": {
    "scrolled": false
   },
   "outputs": [],
   "source": [
    "r2_test=r2_score(y_test,y_pred)\n"
   ]
  },
  {
   "cell_type": "code",
   "execution_count": 761,
   "id": "df7a27dc",
   "metadata": {},
   "outputs": [],
   "source": [
    "adj_r2_test= 1 - (1-r2_test)*(len(y_test)-1)/(len(y_test)-X_test.shape[1]-1)\n"
   ]
  },
  {
   "cell_type": "markdown",
   "id": "22feb7d0",
   "metadata": {},
   "source": [
    "##### 3.1.7.6 Error metrics Train"
   ]
  },
  {
   "cell_type": "code",
   "execution_count": 762,
   "id": "8a5111b9",
   "metadata": {},
   "outputs": [],
   "source": [
    "y_pred=model.predict(X_train_scaled)"
   ]
  },
  {
   "cell_type": "code",
   "execution_count": 763,
   "id": "712407a5",
   "metadata": {},
   "outputs": [],
   "source": [
    "mse_train = mse(y_train,y_pred)\n",
    "mae_train = mae(y_train,y_pred)"
   ]
  },
  {
   "cell_type": "code",
   "execution_count": 764,
   "id": "ba1ee5c5",
   "metadata": {
    "scrolled": true
   },
   "outputs": [],
   "source": [
    "r2_train=r2_score(y_train,y_pred)\n"
   ]
  },
  {
   "cell_type": "code",
   "execution_count": 765,
   "id": "b5c99459",
   "metadata": {},
   "outputs": [],
   "source": [
    "adj_r2_train= 1 - (1-r2_train)*(len(y_train)-1)/(len(y_train)-X_train.shape[1]-1)\n"
   ]
  },
  {
   "cell_type": "markdown",
   "id": "f5627184",
   "metadata": {},
   "source": [
    "***"
   ]
  },
  {
   "cell_type": "markdown",
   "id": "870178e7",
   "metadata": {},
   "source": [
    "<a id =\"result\"> </a>\n",
    "### 3.2 Result Output"
   ]
  },
  {
   "cell_type": "code",
   "execution_count": 766,
   "id": "6166cacc",
   "metadata": {},
   "outputs": [],
   "source": [
    "error_mat_txt = f\"\"\" \n",
    "Adjusted Dataset contains {round(len(this_model)/len(data)*100,2)} % of original data points ({len(this_model)} out of {len(data)}).\n",
    "\n",
    "Error Metrics Test Set:\n",
    "         MSE = {round(mse_test, 4)}\n",
    "         MAE = {round(mae_test, 4)}\n",
    "          R² = {round(r2_test, 4)}\n",
    " Adjusted R² = {round(adj_r2_test, 4)}\n",
    "\n",
    "  - - - - - - - -\n",
    "\n",
    "Error Metrics Train Set:\n",
    "         MSE = {round(mse_train, 4)}\n",
    "         MAE = {round(mae_train, 4)}\n",
    "          R² = {round(r2_train, 4)}\n",
    " Adjusted R² = {round(adj_r2_train, 4)}\"\"\"\n"
   ]
  },
  {
   "cell_type": "code",
   "execution_count": 767,
   "id": "4288bb47",
   "metadata": {},
   "outputs": [
    {
     "name": "stdout",
     "output_type": "stream",
     "text": [
      " \n",
      "Adjusted Dataset contains 86.3 % of original data points (18638 out of 21597).\n",
      "\n",
      "Error Metrics Test Set:\n",
      "         MSE = 35380962304.7161\n",
      "         MAE = 126635.8815\n",
      "          R² = 0.5772\n",
      " Adjusted R² = 0.5762\n",
      "\n",
      "  - - - - - - - -\n",
      "\n",
      "Error Metrics Train Set:\n",
      "         MSE = 32823743081.9596\n",
      "         MAE = 123069.1913\n",
      "          R² = 0.5619\n",
      " Adjusted R² = 0.5614\n"
     ]
    }
   ],
   "source": [
    "print(error_mat_txt)\n",
    "if save_error_metric:\n",
    "    with open(f\"./error_metrics/{filename_ext}.txt\", \"w\") as f:\n",
    "        f.write(error_mat_txt)"
   ]
  },
  {
   "cell_type": "code",
   "execution_count": 768,
   "id": "e924be3e",
   "metadata": {},
   "outputs": [
    {
     "name": "stdout",
     "output_type": "stream",
     "text": [
      "df_adjustments_price_zone_no_view_no_waterfront_price_under_4mio\n"
     ]
    }
   ],
   "source": [
    "print(filename_ext)"
   ]
  },
  {
   "cell_type": "code",
   "execution_count": null,
   "id": "660f636a",
   "metadata": {},
   "outputs": [],
   "source": []
  },
  {
   "cell_type": "markdown",
   "id": "34eafc1c",
   "metadata": {},
   "source": [
    "## 4. Hypothesis Testing"
   ]
  },
  {
   "cell_type": "markdown",
   "id": "cbc05d25",
   "metadata": {},
   "source": [
    "### 4.1 The importance of the price zone"
   ]
  },
  {
   "cell_type": "markdown",
   "id": "53dd8162",
   "metadata": {},
   "source": [
    "Three bedroom houses are most common in the dataset, do these houses in Zone 2 have a higher price on average than those in Zone 3? "
   ]
  },
  {
   "cell_type": "markdown",
   "id": "c3f98601",
   "metadata": {},
   "source": [
    "H0: average_price_3bed_zone2 = average_price_3bed_zone3<br>\n",
    "Ha: average_price_3bed_zone2 ≠ average_price_3bed_zone3<br>"
   ]
  },
  {
   "cell_type": "code",
   "execution_count": 872,
   "id": "36b20d63",
   "metadata": {},
   "outputs": [],
   "source": [
    "# population 1\n",
    "df_3bed_zone2 = data[data[\"price_zone\"].astype(\"int64\") == 2]\n",
    "df_3bed_zone2 = df_3bed_zone2[df_3bed_zone2[\"bedrooms\"].astype(\"int64\") == 3][[\"price\"]]"
   ]
  },
  {
   "cell_type": "code",
   "execution_count": 873,
   "id": "87f0e86c",
   "metadata": {},
   "outputs": [],
   "source": [
    "# population 2\n",
    "df_3bed_zone3 = data[data[\"price_zone\"].astype(\"int64\") == 3]\n",
    "df_3bed_zone3 = df_3bed_zone3[df_3bed_zone3[\"bedrooms\"].astype(\"int64\") == 3][[\"price\"]]\n"
   ]
  },
  {
   "cell_type": "code",
   "execution_count": 874,
   "id": "0bf3a401",
   "metadata": {},
   "outputs": [],
   "source": [
    "# samples\n",
    "sample1 = df_3bed_zone2.sample(100, random_state=42)   # zone 2\n",
    "sample2 = df_3bed_zone3.sample(100, random_state=42)   # zone 3\n",
    "\n"
   ]
  },
  {
   "cell_type": "code",
   "execution_count": 875,
   "id": "9d2f8feb",
   "metadata": {},
   "outputs": [],
   "source": [
    "# sample mean\n",
    "xbar1 = np.mean(sample1[\"price\"]) \n",
    "xbar2 = np.mean(sample2[\"price\"])\n"
   ]
  },
  {
   "cell_type": "code",
   "execution_count": 876,
   "id": "a18cde9b",
   "metadata": {},
   "outputs": [],
   "source": [
    "# S²\n",
    "sample1[\"stdev\"] = (xbar1 - sample1[\"price\"])**2\n",
    "sample2[\"stdev\"] = (xbar2 - sample2[\"price\"])**2\n"
   ]
  },
  {
   "cell_type": "code",
   "execution_count": 877,
   "id": "0b2d3247",
   "metadata": {},
   "outputs": [],
   "source": [
    "S1 = sum(sample1[\"stdev\"]) / (len(sample1)-1)\n",
    "S2 = sum(sample2[\"stdev\"]) / (len(sample2)-1)"
   ]
  },
  {
   "cell_type": "code",
   "execution_count": 878,
   "id": "4ae36027",
   "metadata": {},
   "outputs": [
    {
     "data": {
      "text/plain": [
       "2.4340569238429732"
      ]
     },
     "execution_count": 878,
     "metadata": {},
     "output_type": "execute_result"
    }
   ],
   "source": [
    "t = (xbar1 - xbar2) / ((S1/len(sample1)) + (S2/len(sample2)))**0.5\n",
    "t"
   ]
  },
  {
   "cell_type": "code",
   "execution_count": 879,
   "id": "b3738496",
   "metadata": {},
   "outputs": [
    {
     "data": {
      "text/plain": [
       "1.9839715184496334"
      ]
     },
     "execution_count": 879,
     "metadata": {},
     "output_type": "execute_result"
    }
   ],
   "source": [
    "import scipy.stats as stats\n",
    "tc = stats.t.ppf(1-(0.05/2),df=100) \n",
    "tc"
   ]
  },
  {
   "cell_type": "code",
   "execution_count": 880,
   "id": "e7c73959",
   "metadata": {},
   "outputs": [
    {
     "name": "stdout",
     "output_type": "stream",
     "text": [
      "As the calculated t is larger than the tc (in absolutes), the H0 is rejected.\n"
     ]
    }
   ],
   "source": [
    "if abs(t) <= tc:\n",
    "    print(\"As the calculated t is equal to or smaller than the tc (in absolutes), we fail to reject the H0.\")\n",
    "else:\n",
    "    print(\"As the calculated t is larger than the tc (in absolutes), the H0 is rejected.\")\n"
   ]
  },
  {
   "cell_type": "markdown",
   "id": "6db84c0e",
   "metadata": {},
   "source": [
    "The price zone has an effect on the house prize."
   ]
  },
  {
   "cell_type": "code",
   "execution_count": null,
   "id": "1d1d9e1a",
   "metadata": {},
   "outputs": [],
   "source": []
  },
  {
   "cell_type": "code",
   "execution_count": null,
   "id": "85cf3c43",
   "metadata": {},
   "outputs": [],
   "source": []
  },
  {
   "cell_type": "code",
   "execution_count": null,
   "id": "0e2e0795",
   "metadata": {},
   "outputs": [],
   "source": []
  }
 ],
 "metadata": {
  "kernelspec": {
   "display_name": "Python 3 (ipykernel)",
   "language": "python",
   "name": "python3"
  },
  "language_info": {
   "codemirror_mode": {
    "name": "ipython",
    "version": 3
   },
   "file_extension": ".py",
   "mimetype": "text/x-python",
   "name": "python",
   "nbconvert_exporter": "python",
   "pygments_lexer": "ipython3",
   "version": "3.9.7"
  },
  "toc": {
   "base_numbering": 1,
   "nav_menu": {},
   "number_sections": false,
   "sideBar": true,
   "skip_h1_title": true,
   "title_cell": "Table of Contents",
   "title_sidebar": "Contents",
   "toc_cell": false,
   "toc_position": {
    "height": "714.388px",
    "left": "23px",
    "top": "111.125px",
    "width": "250px"
   },
   "toc_section_display": true,
   "toc_window_display": true
  },
  "varInspector": {
   "cols": {
    "lenName": 16,
    "lenType": 16,
    "lenVar": 40
   },
   "kernels_config": {
    "python": {
     "delete_cmd_postfix": "",
     "delete_cmd_prefix": "del ",
     "library": "var_list.py",
     "varRefreshCmd": "print(var_dic_list())"
    },
    "r": {
     "delete_cmd_postfix": ") ",
     "delete_cmd_prefix": "rm(",
     "library": "var_list.r",
     "varRefreshCmd": "cat(var_dic_list()) "
    }
   },
   "types_to_exclude": [
    "module",
    "function",
    "builtin_function_or_method",
    "instance",
    "_Feature"
   ],
   "window_display": false
  }
 },
 "nbformat": 4,
 "nbformat_minor": 5
}
